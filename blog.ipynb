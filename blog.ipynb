{
 "cells": [
  {
   "cell_type": "markdown",
   "metadata": {},
   "source": [
    "# BEE2041 Empirical Project Blog"
   ]
  },
  {
   "cell_type": "code",
   "execution_count": 59,
   "metadata": {},
   "outputs": [
    {
     "name": "stdout",
     "output_type": "stream",
     "text": [
      "Requirement already up-to-date: selenium in c:\\users\\socor\\anaconda3\\lib\\site-packages (4.19.0)\n",
      "Requirement already satisfied, skipping upgrade: typing_extensions>=4.9.0 in c:\\users\\socor\\anaconda3\\lib\\site-packages (from selenium) (4.10.0)\n",
      "Collecting certifi>=2021.10.8\n",
      "  Downloading certifi-2024.2.2-py3-none-any.whl (163 kB)\n",
      "Requirement already satisfied, skipping upgrade: trio-websocket~=0.9 in c:\\users\\socor\\anaconda3\\lib\\site-packages (from selenium) (0.11.1)\n",
      "Requirement already satisfied, skipping upgrade: trio~=0.17 in c:\\users\\socor\\anaconda3\\lib\\site-packages (from selenium) (0.25.0)\n",
      "Collecting urllib3[socks]<3,>=1.26\n",
      "  Downloading urllib3-2.2.1-py3-none-any.whl (121 kB)\n",
      "Requirement already satisfied, skipping upgrade: wsproto>=0.14 in c:\\users\\socor\\anaconda3\\lib\\site-packages (from trio-websocket~=0.9->selenium) (1.2.0)\n",
      "Requirement already satisfied, skipping upgrade: exceptiongroup; python_version < \"3.11\" in c:\\users\\socor\\anaconda3\\lib\\site-packages (from trio-websocket~=0.9->selenium) (1.2.0)\n",
      "Requirement already satisfied, skipping upgrade: outcome in c:\\users\\socor\\anaconda3\\lib\\site-packages (from trio~=0.17->selenium) (1.3.0.post0)\n",
      "Requirement already satisfied, skipping upgrade: attrs>=23.2.0 in c:\\users\\socor\\anaconda3\\lib\\site-packages (from trio~=0.17->selenium) (23.2.0)\n",
      "Requirement already satisfied, skipping upgrade: sortedcontainers in c:\\users\\socor\\anaconda3\\lib\\site-packages (from trio~=0.17->selenium) (2.2.2)\n",
      "Requirement already satisfied, skipping upgrade: sniffio>=1.3.0 in c:\\users\\socor\\anaconda3\\lib\\site-packages (from trio~=0.17->selenium) (1.3.1)\n",
      "Requirement already satisfied, skipping upgrade: idna in c:\\users\\socor\\anaconda3\\lib\\site-packages (from trio~=0.17->selenium) (2.10)\n",
      "Requirement already satisfied, skipping upgrade: cffi>=1.14; os_name == \"nt\" and implementation_name != \"pypy\" in c:\\users\\socor\\anaconda3\\lib\\site-packages (from trio~=0.17->selenium) (1.14.0)\n",
      "Requirement already satisfied, skipping upgrade: pysocks!=1.5.7,<2.0,>=1.5.6; extra == \"socks\" in c:\\users\\socor\\anaconda3\\lib\\site-packages (from urllib3[socks]<3,>=1.26->selenium) (1.7.1)\n",
      "Requirement already satisfied, skipping upgrade: h11<1,>=0.9.0 in c:\\users\\socor\\anaconda3\\lib\\site-packages (from wsproto>=0.14->trio-websocket~=0.9->selenium) (0.14.0)\n",
      "Requirement already satisfied, skipping upgrade: pycparser in c:\\users\\socor\\anaconda3\\lib\\site-packages (from cffi>=1.14; os_name == \"nt\" and implementation_name != \"pypy\"->trio~=0.17->selenium) (2.20)\n",
      "Installing collected packages: certifi, urllib3\n",
      "  Attempting uninstall: certifi\n",
      "    Found existing installation: certifi 2020.6.20\n",
      "    Uninstalling certifi-2020.6.20:\n",
      "      Successfully uninstalled certifi-2020.6.20\n",
      "  Attempting uninstall: urllib3\n",
      "    Found existing installation: urllib3 1.25.9\n",
      "    Uninstalling urllib3-1.25.9:\n",
      "      Successfully uninstalled urllib3-1.25.9\n",
      "Successfully installed certifi-2024.2.2 urllib3-2.2.1\n",
      "Note: you may need to restart the kernel to use updated packages.\n"
     ]
    },
    {
     "name": "stderr",
     "output_type": "stream",
     "text": [
      "ERROR: requests 2.24.0 has requirement urllib3!=1.25.0,!=1.25.1,<1.26,>=1.21.1, but you'll have urllib3 2.2.1 which is incompatible.\n"
     ]
    }
   ],
   "source": [
    "pip install selenium --upgrade"
   ]
  },
  {
   "cell_type": "markdown",
   "metadata": {},
   "source": [
    "We need a list of all PCCs/force areas. let us scrape that list:\n"
   ]
  },
  {
   "cell_type": "code",
   "execution_count": 46,
   "metadata": {},
   "outputs": [
    {
     "data": {
      "text/plain": [
       "<!DOCTYPE html>\n",
       "<html lang=\"en-US\"><head><title>Just a moment...</title><meta content=\"text/html; charset=utf-8\" http-equiv=\"Content-Type\"/><meta content=\"IE=Edge\" http-equiv=\"X-UA-Compatible\"/><meta content=\"noindex,nofollow\" name=\"robots\"/><meta content=\"width=device-width,initial-scale=1\" name=\"viewport\"/><style>*{box-sizing:border-box;margin:0;padding:0}html{line-height:1.15;-webkit-text-size-adjust:100%;color:#313131}button,html{font-family:system-ui,-apple-system,BlinkMacSystemFont,Segoe UI,Roboto,Helvetica Neue,Arial,Noto Sans,sans-serif,Apple Color Emoji,Segoe UI Emoji,Segoe UI Symbol,Noto Color Emoji}@media (prefers-color-scheme:dark){body{background-color:#222;color:#d9d9d9}body a{color:#fff}body a:hover{color:#ee730a;text-decoration:underline}body .lds-ring div{border-color:#999 transparent transparent}body .font-red{color:#b20f03}body .big-button,body .pow-button{background-color:#4693ff;color:#1d1d1d}body #challenge-success-text{background-image:url(data:image/svg+xml;base64,PHN2ZyB4bWxucz0iaHR0cDovL3d3dy53My5vcmcvMjAwMC9zdmciIHdpZHRoPSIzMiIgaGVpZ2h0PSIzMiIgZmlsbD0ibm9uZSIgdmlld0JveD0iMCAwIDI2IDI2Ij48cGF0aCBmaWxsPSIjZDlkOWQ5IiBkPSJNMTMgMGExMyAxMyAwIDEgMCAwIDI2IDEzIDEzIDAgMCAwIDAtMjZtMCAyNGExMSAxMSAwIDEgMSAwLTIyIDExIDExIDAgMCAxIDAgMjIiLz48cGF0aCBmaWxsPSIjZDlkOWQ5IiBkPSJtMTAuOTU1IDE2LjA1NS0zLjk1LTQuMTI1LTEuNDQ1IDEuMzg1IDUuMzcgNS42MSA5LjQ5NS05LjYtMS40Mi0xLjQwNXoiLz48L3N2Zz4=)}body #challenge-error-text{background-image:url(data:image/svg+xml;base64,PHN2ZyB4bWxucz0iaHR0cDovL3d3dy53My5vcmcvMjAwMC9zdmciIHdpZHRoPSIzMiIgaGVpZ2h0PSIzMiIgZmlsbD0ibm9uZSI+PHBhdGggZmlsbD0iI0IyMEYwMyIgZD0iTTE2IDNhMTMgMTMgMCAxIDAgMTMgMTNBMTMuMDE1IDEzLjAxNSAwIDAgMCAxNiAzbTAgMjRhMTEgMTEgMCAxIDEgMTEtMTEgMTEuMDEgMTEuMDEgMCAwIDEtMTEgMTEiLz48cGF0aCBmaWxsPSIjQjIwRjAzIiBkPSJNMTcuMDM4IDE4LjYxNUgxNC44N0wxNC41NjMgOS41aDIuNzgzem0tMS4wODQgMS40MjdxLjY2IDAgMS4wNTcuMzg4LjQwNy4zODkuNDA3Ljk5NCAwIC41OTYtLjQwNy45ODQtLjM5Ny4zOS0xLjA1Ny4zODktLjY1IDAtMS4wNTYtLjM4OS0uMzk4LS4zODktLjM5OC0uOTg0IDAtLjU5Ny4zOTgtLjk4NS40MDYtLjM5NyAxLjA1Ni0uMzk3Ii8+PC9zdmc+)}}body{display:flex;flex-direction:column;min-height:100vh}body.no-js .loading-spinner{visibility:hidden}body.no-js .challenge-running{display:none}body.dark{background-color:#222;color:#d9d9d9}body.dark a{color:#fff}body.dark a:hover{color:#ee730a;text-decoration:underline}body.dark .lds-ring div{border-color:#999 transparent transparent}body.dark .font-red{color:#b20f03}body.dark .big-button,body.dark .pow-button{background-color:#4693ff;color:#1d1d1d}body.dark #challenge-success-text{background-image:url(data:image/svg+xml;base64,PHN2ZyB4bWxucz0iaHR0cDovL3d3dy53My5vcmcvMjAwMC9zdmciIHdpZHRoPSIzMiIgaGVpZ2h0PSIzMiIgZmlsbD0ibm9uZSIgdmlld0JveD0iMCAwIDI2IDI2Ij48cGF0aCBmaWxsPSIjZDlkOWQ5IiBkPSJNMTMgMGExMyAxMyAwIDEgMCAwIDI2IDEzIDEzIDAgMCAwIDAtMjZtMCAyNGExMSAxMSAwIDEgMSAwLTIyIDExIDExIDAgMCAxIDAgMjIiLz48cGF0aCBmaWxsPSIjZDlkOWQ5IiBkPSJtMTAuOTU1IDE2LjA1NS0zLjk1LTQuMTI1LTEuNDQ1IDEuMzg1IDUuMzcgNS42MSA5LjQ5NS05LjYtMS40Mi0xLjQwNXoiLz48L3N2Zz4=)}body.dark #challenge-error-text{background-image:url(data:image/svg+xml;base64,PHN2ZyB4bWxucz0iaHR0cDovL3d3dy53My5vcmcvMjAwMC9zdmciIHdpZHRoPSIzMiIgaGVpZ2h0PSIzMiIgZmlsbD0ibm9uZSI+PHBhdGggZmlsbD0iI0IyMEYwMyIgZD0iTTE2IDNhMTMgMTMgMCAxIDAgMTMgMTNBMTMuMDE1IDEzLjAxNSAwIDAgMCAxNiAzbTAgMjRhMTEgMTEgMCAxIDEgMTEtMTEgMTEuMDEgMTEuMDEgMCAwIDEtMTEgMTEiLz48cGF0aCBmaWxsPSIjQjIwRjAzIiBkPSJNMTcuMDM4IDE4LjYxNUgxNC44N0wxNC41NjMgOS41aDIuNzgzem0tMS4wODQgMS40MjdxLjY2IDAgMS4wNTcuMzg4LjQwNy4zODkuNDA3Ljk5NCAwIC41OTYtLjQwNy45ODQtLjM5Ny4zOS0xLjA1Ny4zODktLjY1IDAtMS4wNTYtLjM4OS0uMzk4LS4zODktLjM5OC0uOTg0IDAtLjU5Ny4zOTgtLjk4NS40MDYtLjM5NyAxLjA1Ni0uMzk3Ii8+PC9zdmc+)}body.light{background-color:transparent;color:#313131}body.light a{color:#0051c3}body.light a:hover{color:#ee730a;text-decoration:underline}body.light .lds-ring div{border-color:#595959 transparent transparent}body.light .font-red{color:#fc574a}body.light .big-button,body.light .pow-button{background-color:#003681;border-color:#003681;color:#fff}body.light #challenge-success-text{background-image:url(data:image/svg+xml;base64,PHN2ZyB4bWxucz0iaHR0cDovL3d3dy53My5vcmcvMjAwMC9zdmciIHdpZHRoPSIzMiIgaGVpZ2h0PSIzMiIgZmlsbD0ibm9uZSIgdmlld0JveD0iMCAwIDI2IDI2Ij48cGF0aCBmaWxsPSIjMzEzMTMxIiBkPSJNMTMgMGExMyAxMyAwIDEgMCAwIDI2IDEzIDEzIDAgMCAwIDAtMjZtMCAyNGExMSAxMSAwIDEgMSAwLTIyIDExIDExIDAgMCAxIDAgMjIiLz48cGF0aCBmaWxsPSIjMzEzMTMxIiBkPSJtMTAuOTU1IDE2LjA1NS0zLjk1LTQuMTI1LTEuNDQ1IDEuMzg1IDUuMzcgNS42MSA5LjQ5NS05LjYtMS40Mi0xLjQwNXoiLz48L3N2Zz4=)}body.light #challenge-error-text{background-image:url(data:image/svg+xml;base64,PHN2ZyB4bWxucz0iaHR0cDovL3d3dy53My5vcmcvMjAwMC9zdmciIHdpZHRoPSIzMiIgaGVpZ2h0PSIzMiIgZmlsbD0ibm9uZSI+PHBhdGggZmlsbD0iI2ZjNTc0YSIgZD0iTTE2IDNhMTMgMTMgMCAxIDAgMTMgMTNBMTMuMDE1IDEzLjAxNSAwIDAgMCAxNiAzbTAgMjRhMTEgMTEgMCAxIDEgMTEtMTEgMTEuMDEgMTEuMDEgMCAwIDEtMTEgMTEiLz48cGF0aCBmaWxsPSIjZmM1NzRhIiBkPSJNMTcuMDM4IDE4LjYxNUgxNC44N0wxNC41NjMgOS41aDIuNzgzem0tMS4wODQgMS40MjdxLjY2IDAgMS4wNTcuMzg4LjQwNy4zODkuNDA3Ljk5NCAwIC41OTYtLjQwNy45ODQtLjM5Ny4zOS0xLjA1Ny4zODktLjY1IDAtMS4wNTYtLjM4OS0uMzk4LS4zODktLjM5OC0uOTg0IDAtLjU5Ny4zOTgtLjk4NS40MDYtLjM5NyAxLjA1Ni0uMzk3Ii8+PC9zdmc+)}a{background-color:transparent;color:#0051c3;text-decoration:none;transition:color .15s ease}a:hover{color:#ee730a;text-decoration:underline}.main-content{margin:8rem auto;max-width:60rem;width:100%}.heading-favicon{height:2rem;margin-right:.5rem;width:2rem}@media (width <= 720px){.main-content{margin-top:4rem}.heading-favicon{height:1.5rem;width:1.5rem}}.footer,.main-content{padding-left:1.5rem;padding-right:1.5rem}.main-wrapper{align-items:center;display:flex;flex:1;flex-direction:column}.font-red{color:#b20f03}.spacer{margin:2rem 0}.h1{font-size:2.5rem;font-weight:500;line-height:3.75rem}.h2{font-weight:500}.core-msg,.h2{font-size:1.5rem;line-height:2.25rem}.body-text,.core-msg{font-weight:400}.body-text{font-size:1rem;line-height:1.25rem}@media (width <= 720px){.h1{font-size:1.5rem;line-height:1.75rem}.h2{font-size:1.25rem}.core-msg,.h2{line-height:1.5rem}.core-msg{font-size:1rem}}#challenge-error-text{background-image:url(data:image/svg+xml;base64,PHN2ZyB4bWxucz0iaHR0cDovL3d3dy53My5vcmcvMjAwMC9zdmciIHdpZHRoPSIzMiIgaGVpZ2h0PSIzMiIgZmlsbD0ibm9uZSI+PHBhdGggZmlsbD0iI2ZjNTc0YSIgZD0iTTE2IDNhMTMgMTMgMCAxIDAgMTMgMTNBMTMuMDE1IDEzLjAxNSAwIDAgMCAxNiAzbTAgMjRhMTEgMTEgMCAxIDEgMTEtMTEgMTEuMDEgMTEuMDEgMCAwIDEtMTEgMTEiLz48cGF0aCBmaWxsPSIjZmM1NzRhIiBkPSJNMTcuMDM4IDE4LjYxNUgxNC44N0wxNC41NjMgOS41aDIuNzgzem0tMS4wODQgMS40MjdxLjY2IDAgMS4wNTcuMzg4LjQwNy4zODkuNDA3Ljk5NCAwIC41OTYtLjQwNy45ODQtLjM5Ny4zOS0xLjA1Ny4zODktLjY1IDAtMS4wNTYtLjM4OS0uMzk4LS4zODktLjM5OC0uOTg0IDAtLjU5Ny4zOTgtLjk4NS40MDYtLjM5NyAxLjA1Ni0uMzk3Ii8+PC9zdmc+);padding-left:34px}#challenge-error-text,#challenge-success-text{background-repeat:no-repeat;background-size:contain}#challenge-success-text{background-image:url(data:image/svg+xml;base64,PHN2ZyB4bWxucz0iaHR0cDovL3d3dy53My5vcmcvMjAwMC9zdmciIHdpZHRoPSIzMiIgaGVpZ2h0PSIzMiIgZmlsbD0ibm9uZSIgdmlld0JveD0iMCAwIDI2IDI2Ij48cGF0aCBmaWxsPSIjMzEzMTMxIiBkPSJNMTMgMGExMyAxMyAwIDEgMCAwIDI2IDEzIDEzIDAgMCAwIDAtMjZtMCAyNGExMSAxMSAwIDEgMSAwLTIyIDExIDExIDAgMCAxIDAgMjIiLz48cGF0aCBmaWxsPSIjMzEzMTMxIiBkPSJtMTAuOTU1IDE2LjA1NS0zLjk1LTQuMTI1LTEuNDQ1IDEuMzg1IDUuMzcgNS42MSA5LjQ5NS05LjYtMS40Mi0xLjQwNXoiLz48L3N2Zz4=);padding-left:42px}.text-center{text-align:center}.big-button{border:.063rem solid #0051c3;border-radius:.313rem;font-size:.875rem;line-height:1.313rem;padding:.375rem 1rem;transition-duration:.2s;transition-property:background-color,border-color,color;transition-timing-function:ease}.big-button:hover{cursor:pointer}.captcha-prompt:not(.hidden){display:flex}@media (width <= 720px){.captcha-prompt:not(.hidden){flex-wrap:wrap;justify-content:center}}.pow-button{background-color:#0051c3;color:#fff;margin:2rem 0}.pow-button:hover{background-color:#003681;border-color:#003681;color:#fff}.footer{font-size:.75rem;line-height:1.125rem;margin:0 auto;max-width:60rem;width:100%}.footer-inner{border-top:1px solid #d9d9d9;padding-bottom:1rem;padding-top:1rem}.clearfix:after{clear:both;content:\"\";display:table}.clearfix .column{float:left;padding-right:1.5rem;width:50%}.diagnostic-wrapper{margin-bottom:.5rem}.footer .ray-id{text-align:center}.footer .ray-id code{font-family:monaco,courier,monospace}.core-msg,.zone-name-title{overflow-wrap:break-word}@media (width <= 720px){.diagnostic-wrapper{display:flex;flex-wrap:wrap;justify-content:center}.clearfix:after{clear:none;content:none;display:initial;text-align:center}.column{padding-bottom:2rem}.clearfix .column{float:none;padding:0;width:auto;word-break:keep-all}.zone-name-title{margin-bottom:1rem}}.loading-spinner{height:76.391px}.lds-ring{display:inline-block;position:relative}.lds-ring,.lds-ring div{height:1.875rem;width:1.875rem}.lds-ring div{animation:lds-ring 1.2s cubic-bezier(.5,0,.5,1) infinite;border:.3rem solid transparent;border-radius:50%;border-top-color:#313131;box-sizing:border-box;display:block;position:absolute}.lds-ring div:first-child{animation-delay:-.45s}.lds-ring div:nth-child(2){animation-delay:-.3s}.lds-ring div:nth-child(3){animation-delay:-.15s}@keyframes lds-ring{0%{transform:rotate(0)}to{transform:rotate(1turn)}}@media screen and (-ms-high-contrast:active),screen and (-ms-high-contrast:none){.main-wrapper,body{display:block}}</style><meta content=\"375\" http-equiv=\"refresh\"/></head><body class=\"no-js\"><div class=\"main-wrapper\" role=\"main\"><div class=\"main-content\"><noscript><div id=\"challenge-error-title\"><div class=\"h2\"><span id=\"challenge-error-text\">Enable JavaScript and cookies to continue</span></div></div></noscript></div></div><script>(function(){window._cf_chl_opt={cvId: '3',cZone: \"www.police.uk\",cType: 'managed',cNounce: '42736',cRay: '871a96246ee394ac',cHash: '3b2d5d14ae06da7',cUPMDTk: \"\\/?__cf_chl_tk=shOUR.AdeN2KfiT2e2aGpXC7sxaiwCafP5YoYvWRVXY-1712666645-0.0.1.1-1578\",cFPWv: 'b',cTTimeMs: '1000',cMTimeMs: '375000',cTplV: 5,cTplB: 'cf',cK: \"visitor-time\",fa: \"\\/?__cf_chl_f_tk=shOUR.AdeN2KfiT2e2aGpXC7sxaiwCafP5YoYvWRVXY-1712666645-0.0.1.1-1578\",md: \"6H4OwbhlsRC4ihOz2jUMd1yMBXmhQF.jYjRfwzmZL2s-1712666645-1.1.1.1-9cfkXKSlEncebbUljAZdoWg2gN6yS3ienVdntXCwUhqQsqx6JdXUwF2kbzvfwDXCkpuzphuPlxud5hK2Y6Yd.up.GYPVSWmfs35Fm.RVxARmOpVRcTmPpsp09xKb7._YUHQWSApNzOKTDkzZkWiJA7dN.7He1ziOP5ea8hRuRwK8rxQMfE7rzEdE3_1ch7DRnVBLVs1irlgEIanLGqmx03Ph.t8nFLFZEjTg4V6y0.EsJutLSrtfo7OW21RIDejxyt.6ydoFNDWlvOsZmsGacTX1sM4p1O4tuF5n6AgI59_jhdMeBCy3O01mO1VOBjYjCoOHMhMJRsFa3n0BPaMFusC_cPujxvNgcIoC3BOpbPubGNl8Gaiu_ManVtWLAVxCp6LEYWypNMj9QzkbcqYJPnYCZHu7PGKFya7A8e7mQz1m45tkk6uo01ftUiQ1vSKqmauLLVmo0UCyPUZPcJCYZak6HuskwcNFnjExeMvRKjtjP5Wqh55ZaLliQs9gAPSnFT2dds5yJ34wV3gDOYK5Lwt95T2Lqudr90YCtTTB2s0zuAMKGsPVyn4T0MqCViEtmgmsbHNBCRaYMRavbdIUNDd9LYe.6Zp5PRCx7e3y6u3D1qnuo7yDb2FBVNKrKawJBAPlmQhdhgSs.dZsVkt0YWovxlyuO3HH.KamC7p7k.n1ImjUzAAc2_6XSuNh086_kRUfZx8pCQOj522YqIiSik02KWbagBZ7vgNZa_l3gdEaaPar1XUKG1ebyydhw8JDaPOsW1XYJ88zJ1s3jFXXxgiOnRx6dopGJ44JpAkH.yLZIRju3yq7XgWrp1zCsC_gEND5bEnwRoefz5sCu24pZh1195xKvMksYnxnaJnVWQoQvyHl.uMqyPppNUx9zUYvJpQcA.oI6_c.SEZYr5fLxNDsSfuedD119niRmBh9KvPayTrV_AzwUZahe3s5O3sWE723dptsH4bsADmAfKgkP6tzMyLyMLGtRThEkwDhoDIOejAocE9pnKTAQAdpg1xCG3U9OqZ65DR7i.7La.3GVjlLpeDBb4UnfS1tE4KW3Y5mUfyXFkrQgOki9j9_s24B.qYSZhdSYJ6rhYXNz_Dz8lFGqTYlXPRM3zJ_Npz1L84_9xKsnSm60Kqz6FCXVLHKJY6r4QR9LiETwdLoIJBCkNGNjVoXJMA3QP6r4XRSCILD71wohV3VZifD.fXL7c06AsBOpXR9EKJpnXH7FZeVP7ibqHQW_6YrDtUIQ30UQtmBuVbdtSUJvnfQIfjmVzDan7yHg56t4cxkHYsCK1kX72M7Yv_W.HRCxh1LWnKIq78YM6ONRZuAzD.VnuB2YffpT.Rl9FQICAX4D9C1yOuOtRRgw75P8gLhAtzPbRl64TaurPrNzZpw5aahAvQySYaiKjz_BiNzQ56BmuHsVgIxGaBBk4LTuddx3d5jQbLt60kYgY0tShfM3y6HKyQlKujC2mPmva30wFwj0_.L7TXY8mFncNNObqzHJpznIFb1dgA\",mdrd: \"WKj4jl9CrSKh7deY8ANd7bB9zpDClldzqSxdJMyMOW4-1712666645-1.1.1.1-I789AnODvTEEu4sEC4nbUU9k5yIJjD8Y_I23OHDft60Ia8sGOGhZojc7esWkzrzoONBmcg289N9wQtPJpr92GVjZ8jPaMBxhOyhId32gUwc9lJ2UX.OM3rpUDWnvkA8PXjzGWX6dZvn.iDksoiLO95gpFrYHBGGolkxGGQcqgLj7WbejOBvEQp4CNvRvGMMNtg6Q6q3RqMB2Hz8EKO7OSUW0p7jz.qB3aXMvZEvMlWewcjvHShflKcpybbWybPTbJQypiqwrTRtyrHXlNi_r34wCzU8k85B5XgU8v9SPrW7BbGXSrWu89s82XVIEYCbdK6YZoAdPsyugQ8mJ0Z6RZb.jN7tX.k9AUjzQKu4w_DrZcnDgEirkqqIIB8b6sosy_qaS8yOkOusVFJwB9yAevm1WUqjOvRxd.Y97PQGRunhZgQzJi9nURmqDKKupPKCx7f7nRUdJHhIIXmDO86ugYasJbqFh583xeVZ.EO7SyIRERB.LmWUQ1D65bCiXWRxlKy5ndiXZJZ4HU4K2zK5Gq7qRBJRhmO2hZthUMlENvEZ0G4pUj4wlDdmboMl5SvJu74hmnEZzSZ26Uo2kUDdSShZOn3BD9GMUDoJr8ia_g2WWbO6pO.p8hObvJvs6XroVEiaSS_tF2MlJNK37Z31UHjmRuEYBnwTrj_dSdpW0i9kSSyD4IL0ZgULRLKYsIu.7Fjkg.OsB.0SUdSlSWzvkWFNga0TYbxDiPeqJLDcdZVu4K0mhVRJgmDea6bqdkMY1tU7gQDoCnIBUmz_6sXIk4yq8.UADyHSl4QyessZ50rVlYObbFopr9jaMY5zbKKA21CnHpirTEOMEUITXUIJnBZ6JRmwoyHJQoIxo6.IM1wHPbCsORqGmH_24beKFOkQ5UgTU__eOnDyXSqTMxaGjvfCNQyXArlfE8UAc8zMnqW64QPDxNT3wjjOGoQ6JJFwM5.QYd2sSHKEJ0be8eMGxONecxFvnyGlwTw8FIdlHgTEwTXu.b2svoN29ER7qY7tQ68P11b16VTmg0fE5D5rMtlIAI5sq1Pp9d62oISoZL5uPwjeFMV6u2tqpP9Rf2c_ORWcSplIEvqndgUUkdj20VCskAL2_jzohdAad1uxVnDd05cxUr75Hja.hXsWB1WKoATvs4cizhZREUOO.QLckA8DNf3tf8jDz23b1E_Zxa4Rnsc2HrnD8ivV0kF4v1ShC7NBQK5qo9vfWKt77d.WpmbSLbJI7.FpOVmA2YNibF3vqeL.M8ydZkRbdwKGzee8p33EJ.GwZ6Nm1hyZsLJBSsFozKzXV1K0jEWoF8YW52HxibDHPRFDJxqu5JU_8lic1adKq.Jh6aomdeDMX4xT666yiVluIDd7GMRD0dNM2uLkCE5H2exf4yHjFBbQ6W0mDQotNo1N9PwZGoi53mB0SP1cbcBxQ0jESiw69T_IBhagWoThELMzF0js8cxC3_yHYmtFuhPPl6pYaA5CY5KFXhhg07RW3W7l4sUHVDO9sOLg84k8rqF05UGf69Jywn5Cvmn9E4dn5e5xEb_gB.B2A_q183rjAayUYPsAsaaywoMiir0t2h_no0hkhnJa4eXy1hDOWo5lTcFuUFY3Co3Cf42JjU57MtKEJZAFhsfAe4n16O7VJv9xUqgseDlCUgNs.x3WxUVMzRMwEp5BUnS3sw6bRdiDuUOCzRV8cgj9gpF4DLtf4gTQZDI0KIm4YEZKT1UvTiB_iw42yCec1yOM6a8cqPI34Nh_JxENwxFcFDf3oLUjVTfPB21OnaU41bEnTT36sVoeBpPExthR3dLnAcPBXQ_IGS97SwQ3q4id89Gf5cccz9ucyTF8iOj.h7tY742GXDOLSdIVmNZrD0RXTvkYSjuwbN74K06I8j0AEpHQh5M.7sJBadqmUW8dHUBEBYgk1qHKjP0oj0HD3OmO8UyQSWdHK9Jdu4bEPkDOXmh7MIZlqqj2p_Nednjcy8j5zd7SnHxmxkg4k.CYJLWvL0e5MI_nQNGVJVbsT1Woe__wb_UZHL3wEB1VcnqTEN2LvXT7T1BSfAlU51olzAt3BwNHOfuMrU8yRwtabyM4duPkFdDdTH1r1t27SrY1dNXiKZg.vqZKix5DV.ddKCoeju..bNdmkJzNVC.t.1Y5PSangSXlCWelI06ZEQiupD6kA\",cRq: {ru: 'aHR0cHM6Ly93d3cucG9saWNlLnVrLw==',ra: 'cHl0aG9uLXJlcXVlc3RzLzIuMjQuMA==',rm: 'R0VU',d: 'zze5u6JV6sze97nNNG9KKJ3QnbdNGaUuitbu1Qmg/pLdaP0TExwzsWcl4bqHiuW6UZ9P7qpoDsyEzd8Fry/fxTY/bN+0/COgxh5px0zwCXhnSK+uZFM59WmGHHn4AmiAiG8IPJsTcWwKhppcFeTTTK8RGSlERlhoe0H7P6QbZhnm7F6dJYQXCRkotlsdiBmGy5MzyhmuC3I/PFDcARhZn1JBSxbdmtFt+fhQ3fmfnK8/qyvXUzZXNs6w1GP2wZW+lIMaiFN0S4nOQRDYEwyXI0BLeyxfkqvy9Yy1LhvxQSqHtZp7YQPVLzE1ZdYjBPFYkWuYDktaHr4DxN0kEZvw0YuXwygoH63ala0xd3XNEZkUaiOMfqNzJLDmbIFbVCKGNXquRiJg12eS92Yj135Z0YZwPBygiHIf784WE3NLwEL28P9qCcLJTCOA7mKJlvaK72UmqtoO8LduLPayAywsBjU0Gk6l6IoRvSIVvAuaiAxNpZ0CPnorfxWzz/YJUHU5w59yw4OM3Se5vYTjZo0gzmbKTtmbrPb+jbhTcyRbQ8aQe59J365Qmb3wNpVndvGb8EvgVxFpUAtbzlsnKPFrbzeYvPYdWZknMWWeRUNsCOs=',t: 'MTcxMjY2NjY0NS4yMDAwMDA=',cT: Math.floor(Date.now() / 1000),m: 'bam72S8T1gr12XDkvRWu5Pg9cYu8BBxqZHaww/R/znw=',i1: '4H09RgHs7ftKVr51Kcr13A==',i2: 'aTV8JtoYndg6A/54rUMcmw==',zh: 'VH4IlE02ZS+hLABsCERk4dCORuS68S5Vxx2vQt/nq+s=',uh: '6AZv5/FBI8bCgQ115dPTZ5RPLfsmzGOqXp7x0al4Jbc=',hh: '7cW2lF5jnxsgD6AR1A1P6xoGhbmPaF6hh5t4a35qJzc=',}};var cpo = document.createElement('script');cpo.src = '/cdn-cgi/challenge-platform/h/b/orchestrate/chl_page/v1?ray=871a96246ee394ac';window._cf_chl_opt.cOgUHash = location.hash === '' && location.href.indexOf('#') !== -1 ? '#' : location.hash;window._cf_chl_opt.cOgUQuery = location.search === '' && location.href.slice(0, location.href.length - window._cf_chl_opt.cOgUHash.length).indexOf('?') !== -1 ? '?' : location.search;if (window.history && window.history.replaceState) {var ogU = location.pathname + window._cf_chl_opt.cOgUQuery + window._cf_chl_opt.cOgUHash;history.replaceState(null, null, \"\\/?__cf_chl_rt_tk=shOUR.AdeN2KfiT2e2aGpXC7sxaiwCafP5YoYvWRVXY-1712666645-0.0.1.1-1578\" + window._cf_chl_opt.cOgUHash);cpo.onload = function() {history.replaceState(null, null, ogU);}}document.getElementsByTagName('head')[0].appendChild(cpo);}());</script></body></html>"
      ]
     },
     "execution_count": 46,
     "metadata": {},
     "output_type": "execute_result"
    }
   ],
   "source": [
    "url = 'https://www.police.uk/'\n",
    "response = requests.get(url)\n",
    "soup = BeautifulSoup(response.text, 'html.parser')\n",
    "soup"
   ]
  },
  {
   "cell_type": "code",
   "execution_count": 58,
   "metadata": {},
   "outputs": [
    {
     "ename": "SyntaxError",
     "evalue": "invalid syntax (<ipython-input-58-c29cab7ae0dd>, line 1)",
     "output_type": "error",
     "traceback": [
      "\u001b[1;36m  File \u001b[1;32m\"<ipython-input-58-c29cab7ae0dd>\"\u001b[1;36m, line \u001b[1;32m1\u001b[0m\n\u001b[1;33m    pip install selenium --upgrade\u001b[0m\n\u001b[1;37m        ^\u001b[0m\n\u001b[1;31mSyntaxError\u001b[0m\u001b[1;31m:\u001b[0m invalid syntax\n"
     ]
    }
   ],
   "source": [
    "from selenium import webdriver\n",
    "from bs4 import BeautifulSoup\n",
    "\n",
    "driver = webdriver.Chrome(r'C:\\Users\\socor\\Downloads\\chromedriver-win64\\chromedriver-win64\\chromedriver.exe')\n",
    "driver.get('https://www.police.uk/')\n",
    "\n",
    "# Let the page load. Consider using WebDriverWait for better practice.\n",
    "import time\n",
    "time.sleep(5)  # Adjust sleep time as needed.\n",
    "\n",
    "soup = BeautifulSoup(driver.page_source, 'html.parser')\n",
    "print(soup)\n",
    "\n",
    "driver.quit()\n"
   ]
  },
  {
   "cell_type": "code",
   "execution_count": 60,
   "metadata": {},
   "outputs": [
    {
     "name": "stdout",
     "output_type": "stream",
     "text": [
      "Collecting cloudscraper\n",
      "  Downloading cloudscraper-1.2.71-py2.py3-none-any.whl (99 kB)\n",
      "Collecting requests-toolbelt>=0.9.1\n",
      "  Downloading requests_toolbelt-1.0.0-py2.py3-none-any.whl (54 kB)\n",
      "Requirement already satisfied: requests>=2.9.2 in c:\\users\\socor\\anaconda3\\lib\\site-packages (from cloudscraper) (2.24.0)\n",
      "Requirement already satisfied: pyparsing>=2.4.7 in c:\\users\\socor\\anaconda3\\lib\\site-packages (from cloudscraper) (2.4.7)\n",
      "Collecting urllib3!=1.25.0,!=1.25.1,<1.26,>=1.21.1\n",
      "  Downloading urllib3-1.25.11-py2.py3-none-any.whl (127 kB)\n",
      "Requirement already satisfied: chardet<4,>=3.0.2 in c:\\users\\socor\\anaconda3\\lib\\site-packages (from requests>=2.9.2->cloudscraper) (3.0.4)\n",
      "Requirement already satisfied: certifi>=2017.4.17 in c:\\users\\socor\\anaconda3\\lib\\site-packages (from requests>=2.9.2->cloudscraper) (2024.2.2)\n",
      "Requirement already satisfied: idna<3,>=2.5 in c:\\users\\socor\\anaconda3\\lib\\site-packages (from requests>=2.9.2->cloudscraper) (2.10)\n",
      "Installing collected packages: requests-toolbelt, cloudscraper, urllib3\n",
      "  Attempting uninstall: urllib3\n",
      "    Found existing installation: urllib3 2.2.1\n",
      "    Uninstalling urllib3-2.2.1:\n",
      "      Successfully uninstalled urllib3-2.2.1\n",
      "Successfully installed cloudscraper-1.2.71 requests-toolbelt-1.0.0 urllib3-1.25.11\n",
      "Note: you may need to restart the kernel to use updated packages.\n"
     ]
    },
    {
     "name": "stderr",
     "output_type": "stream",
     "text": [
      "ERROR: selenium 4.19.0 has requirement urllib3[socks]<3,>=1.26, but you'll have urllib3 1.25.11 which is incompatible.\n"
     ]
    }
   ],
   "source": [
    "pip install cloudscraper"
   ]
  },
  {
   "cell_type": "code",
   "execution_count": 62,
   "metadata": {},
   "outputs": [
    {
     "name": "stdout",
     "output_type": "stream",
     "text": [
      "403\n"
     ]
    },
    {
     "data": {
      "text/plain": [
       "'<!DOCTYPE html><html lang=\"en-US\"><head><title>Just a moment...</title><meta http-equiv=\"Content-Type\" content=\"text/html; charset=UTF-8\"><meta http-equiv=\"X-UA-Compatible\" content=\"IE=Edge\"><meta name=\"robots\" content=\"noindex,nofollow\"><meta name=\"viewport\" content=\"width=device-width,initial-scale=1\"><style>*{box-sizing:border-box;margin:0;padding:0}html{line-height:1.15;-webkit-text-size-adjust:100%;color:#313131}button,html{font-family:system-ui,-apple-system,BlinkMacSystemFont,Segoe UI,Roboto,Helvetica Neue,Arial,Noto Sans,sans-serif,Apple Color Emoji,Segoe UI Emoji,Segoe UI Symbol,Noto Color Emoji}@media (prefers-color-scheme:dark){body{background-color:#222;color:#d9d9d9}body a{color:#fff}body a:hover{color:#ee730a;text-decoration:underline}body .lds-ring div{border-color:#999 transparent transparent}body .font-red{color:#b20f03}body .big-button,body .pow-button{background-color:#4693ff;color:#1d1d1d}body #challenge-success-text{background-image:url(data:image/svg+xml;base64,PHN2ZyB4bWxucz0iaHR0cDovL3d3dy53My5vcmcvMjAwMC9zdmciIHdpZHRoPSIzMiIgaGVpZ2h0PSIzMiIgZmlsbD0ibm9uZSIgdmlld0JveD0iMCAwIDI2IDI2Ij48cGF0aCBmaWxsPSIjZDlkOWQ5IiBkPSJNMTMgMGExMyAxMyAwIDEgMCAwIDI2IDEzIDEzIDAgMCAwIDAtMjZtMCAyNGExMSAxMSAwIDEgMSAwLTIyIDExIDExIDAgMCAxIDAgMjIiLz48cGF0aCBmaWxsPSIjZDlkOWQ5IiBkPSJtMTAuOTU1IDE2LjA1NS0zLjk1LTQuMTI1LTEuNDQ1IDEuMzg1IDUuMzcgNS42MSA5LjQ5NS05LjYtMS40Mi0xLjQwNXoiLz48L3N2Zz4=)}body #challenge-error-text{background-image:url(data:image/svg+xml;base64,PHN2ZyB4bWxucz0iaHR0cDovL3d3dy53My5vcmcvMjAwMC9zdmciIHdpZHRoPSIzMiIgaGVpZ2h0PSIzMiIgZmlsbD0ibm9uZSI+PHBhdGggZmlsbD0iI0IyMEYwMyIgZD0iTTE2IDNhMTMgMTMgMCAxIDAgMTMgMTNBMTMuMDE1IDEzLjAxNSAwIDAgMCAxNiAzbTAgMjRhMTEgMTEgMCAxIDEgMTEtMTEgMTEuMDEgMTEuMDEgMCAwIDEtMTEgMTEiLz48cGF0aCBmaWxsPSIjQjIwRjAzIiBkPSJNMTcuMDM4IDE4LjYxNUgxNC44N0wxNC41NjMgOS41aDIuNzgzem0tMS4wODQgMS40MjdxLjY2IDAgMS4wNTcuMzg4LjQwNy4zODkuNDA3Ljk5NCAwIC41OTYtLjQwNy45ODQtLjM5Ny4zOS0xLjA1Ny4zODktLjY1IDAtMS4wNTYtLjM4OS0uMzk4LS4zODktLjM5OC0uOTg0IDAtLjU5Ny4zOTgtLjk4NS40MDYtLjM5NyAxLjA1Ni0uMzk3Ii8+PC9zdmc+)}}body{display:flex;flex-direction:column;min-height:100vh}body.no-js .loading-spinner{visibility:hidden}body.no-js .challenge-running{display:none}body.dark{background-color:#222;color:#d9d9d9}body.dark a{color:#fff}body.dark a:hover{color:#ee730a;text-decoration:underline}body.dark .lds-ring div{border-color:#999 transparent transparent}body.dark .font-red{color:#b20f03}body.dark .big-button,body.dark .pow-button{background-color:#4693ff;color:#1d1d1d}body.dark #challenge-success-text{background-image:url(data:image/svg+xml;base64,PHN2ZyB4bWxucz0iaHR0cDovL3d3dy53My5vcmcvMjAwMC9zdmciIHdpZHRoPSIzMiIgaGVpZ2h0PSIzMiIgZmlsbD0ibm9uZSIgdmlld0JveD0iMCAwIDI2IDI2Ij48cGF0aCBmaWxsPSIjZDlkOWQ5IiBkPSJNMTMgMGExMyAxMyAwIDEgMCAwIDI2IDEzIDEzIDAgMCAwIDAtMjZtMCAyNGExMSAxMSAwIDEgMSAwLTIyIDExIDExIDAgMCAxIDAgMjIiLz48cGF0aCBmaWxsPSIjZDlkOWQ5IiBkPSJtMTAuOTU1IDE2LjA1NS0zLjk1LTQuMTI1LTEuNDQ1IDEuMzg1IDUuMzcgNS42MSA5LjQ5NS05LjYtMS40Mi0xLjQwNXoiLz48L3N2Zz4=)}body.dark #challenge-error-text{background-image:url(data:image/svg+xml;base64,PHN2ZyB4bWxucz0iaHR0cDovL3d3dy53My5vcmcvMjAwMC9zdmciIHdpZHRoPSIzMiIgaGVpZ2h0PSIzMiIgZmlsbD0ibm9uZSI+PHBhdGggZmlsbD0iI0IyMEYwMyIgZD0iTTE2IDNhMTMgMTMgMCAxIDAgMTMgMTNBMTMuMDE1IDEzLjAxNSAwIDAgMCAxNiAzbTAgMjRhMTEgMTEgMCAxIDEgMTEtMTEgMTEuMDEgMTEuMDEgMCAwIDEtMTEgMTEiLz48cGF0aCBmaWxsPSIjQjIwRjAzIiBkPSJNMTcuMDM4IDE4LjYxNUgxNC44N0wxNC41NjMgOS41aDIuNzgzem0tMS4wODQgMS40MjdxLjY2IDAgMS4wNTcuMzg4LjQwNy4zODkuNDA3Ljk5NCAwIC41OTYtLjQwNy45ODQtLjM5Ny4zOS0xLjA1Ny4zODktLjY1IDAtMS4wNTYtLjM4OS0uMzk4LS4zODktLjM5OC0uOTg0IDAtLjU5Ny4zOTgtLjk4NS40MDYtLjM5NyAxLjA1Ni0uMzk3Ii8+PC9zdmc+)}body.light{background-color:transparent;color:#313131}body.light a{color:#0051c3}body.light a:hover{color:#ee730a;text-decoration:underline}body.light .lds-ring div{border-color:#595959 transparent transparent}body.light .font-red{color:#fc574a}body.light .big-button,body.light .pow-button{background-color:#003681;border-color:#003681;color:#fff}body.light #challenge-success-text{background-image:url(data:image/svg+xml;base64,PHN2ZyB4bWxucz0iaHR0cDovL3d3dy53My5vcmcvMjAwMC9zdmciIHdpZHRoPSIzMiIgaGVpZ2h0PSIzMiIgZmlsbD0ibm9uZSIgdmlld0JveD0iMCAwIDI2IDI2Ij48cGF0aCBmaWxsPSIjMzEzMTMxIiBkPSJNMTMgMGExMyAxMyAwIDEgMCAwIDI2IDEzIDEzIDAgMCAwIDAtMjZtMCAyNGExMSAxMSAwIDEgMSAwLTIyIDExIDExIDAgMCAxIDAgMjIiLz48cGF0aCBmaWxsPSIjMzEzMTMxIiBkPSJtMTAuOTU1IDE2LjA1NS0zLjk1LTQuMTI1LTEuNDQ1IDEuMzg1IDUuMzcgNS42MSA5LjQ5NS05LjYtMS40Mi0xLjQwNXoiLz48L3N2Zz4=)}body.light #challenge-error-text{background-image:url(data:image/svg+xml;base64,PHN2ZyB4bWxucz0iaHR0cDovL3d3dy53My5vcmcvMjAwMC9zdmciIHdpZHRoPSIzMiIgaGVpZ2h0PSIzMiIgZmlsbD0ibm9uZSI+PHBhdGggZmlsbD0iI2ZjNTc0YSIgZD0iTTE2IDNhMTMgMTMgMCAxIDAgMTMgMTNBMTMuMDE1IDEzLjAxNSAwIDAgMCAxNiAzbTAgMjRhMTEgMTEgMCAxIDEgMTEtMTEgMTEuMDEgMTEuMDEgMCAwIDEtMTEgMTEiLz48cGF0aCBmaWxsPSIjZmM1NzRhIiBkPSJNMTcuMDM4IDE4LjYxNUgxNC44N0wxNC41NjMgOS41aDIuNzgzem0tMS4wODQgMS40MjdxLjY2IDAgMS4wNTcuMzg4LjQwNy4zODkuNDA3Ljk5NCAwIC41OTYtLjQwNy45ODQtLjM5Ny4zOS0xLjA1Ny4zODktLjY1IDAtMS4wNTYtLjM4OS0uMzk4LS4zODktLjM5OC0uOTg0IDAtLjU5Ny4zOTgtLjk4NS40MDYtLjM5NyAxLjA1Ni0uMzk3Ii8+PC9zdmc+)}a{background-color:transparent;color:#0051c3;text-decoration:none;transition:color .15s ease}a:hover{color:#ee730a;text-decoration:underline}.main-content{margin:8rem auto;max-width:60rem;width:100%}.heading-favicon{height:2rem;margin-right:.5rem;width:2rem}@media (width <= 720px){.main-content{margin-top:4rem}.heading-favicon{height:1.5rem;width:1.5rem}}.footer,.main-content{padding-left:1.5rem;padding-right:1.5rem}.main-wrapper{align-items:center;display:flex;flex:1;flex-direction:column}.font-red{color:#b20f03}.spacer{margin:2rem 0}.h1{font-size:2.5rem;font-weight:500;line-height:3.75rem}.h2{font-weight:500}.core-msg,.h2{font-size:1.5rem;line-height:2.25rem}.body-text,.core-msg{font-weight:400}.body-text{font-size:1rem;line-height:1.25rem}@media (width <= 720px){.h1{font-size:1.5rem;line-height:1.75rem}.h2{font-size:1.25rem}.core-msg,.h2{line-height:1.5rem}.core-msg{font-size:1rem}}#challenge-error-text{background-image:url(data:image/svg+xml;base64,PHN2ZyB4bWxucz0iaHR0cDovL3d3dy53My5vcmcvMjAwMC9zdmciIHdpZHRoPSIzMiIgaGVpZ2h0PSIzMiIgZmlsbD0ibm9uZSI+PHBhdGggZmlsbD0iI2ZjNTc0YSIgZD0iTTE2IDNhMTMgMTMgMCAxIDAgMTMgMTNBMTMuMDE1IDEzLjAxNSAwIDAgMCAxNiAzbTAgMjRhMTEgMTEgMCAxIDEgMTEtMTEgMTEuMDEgMTEuMDEgMCAwIDEtMTEgMTEiLz48cGF0aCBmaWxsPSIjZmM1NzRhIiBkPSJNMTcuMDM4IDE4LjYxNUgxNC44N0wxNC41NjMgOS41aDIuNzgzem0tMS4wODQgMS40MjdxLjY2IDAgMS4wNTcuMzg4LjQwNy4zODkuNDA3Ljk5NCAwIC41OTYtLjQwNy45ODQtLjM5Ny4zOS0xLjA1Ny4zODktLjY1IDAtMS4wNTYtLjM4OS0uMzk4LS4zODktLjM5OC0uOTg0IDAtLjU5Ny4zOTgtLjk4NS40MDYtLjM5NyAxLjA1Ni0uMzk3Ii8+PC9zdmc+);padding-left:34px}#challenge-error-text,#challenge-success-text{background-repeat:no-repeat;background-size:contain}#challenge-success-text{background-image:url(data:image/svg+xml;base64,PHN2ZyB4bWxucz0iaHR0cDovL3d3dy53My5vcmcvMjAwMC9zdmciIHdpZHRoPSIzMiIgaGVpZ2h0PSIzMiIgZmlsbD0ibm9uZSIgdmlld0JveD0iMCAwIDI2IDI2Ij48cGF0aCBmaWxsPSIjMzEzMTMxIiBkPSJNMTMgMGExMyAxMyAwIDEgMCAwIDI2IDEzIDEzIDAgMCAwIDAtMjZtMCAyNGExMSAxMSAwIDEgMSAwLTIyIDExIDExIDAgMCAxIDAgMjIiLz48cGF0aCBmaWxsPSIjMzEzMTMxIiBkPSJtMTAuOTU1IDE2LjA1NS0zLjk1LTQuMTI1LTEuNDQ1IDEuMzg1IDUuMzcgNS42MSA5LjQ5NS05LjYtMS40Mi0xLjQwNXoiLz48L3N2Zz4=);padding-left:42px}.text-center{text-align:center}.big-button{border:.063rem solid #0051c3;border-radius:.313rem;font-size:.875rem;line-height:1.313rem;padding:.375rem 1rem;transition-duration:.2s;transition-property:background-color,border-color,color;transition-timing-function:ease}.big-button:hover{cursor:pointer}.captcha-prompt:not(.hidden){display:flex}@media (width <= 720px){.captcha-prompt:not(.hidden){flex-wrap:wrap;justify-content:center}}.pow-button{background-color:#0051c3;color:#fff;margin:2rem 0}.pow-button:hover{background-color:#003681;border-color:#003681;color:#fff}.footer{font-size:.75rem;line-height:1.125rem;margin:0 auto;max-width:60rem;width:100%}.footer-inner{border-top:1px solid #d9d9d9;padding-bottom:1rem;padding-top:1rem}.clearfix:after{clear:both;content:\"\";display:table}.clearfix .column{float:left;padding-right:1.5rem;width:50%}.diagnostic-wrapper{margin-bottom:.5rem}.footer .ray-id{text-align:center}.footer .ray-id code{font-family:monaco,courier,monospace}.core-msg,.zone-name-title{overflow-wrap:break-word}@media (width <= 720px){.diagnostic-wrapper{display:flex;flex-wrap:wrap;justify-content:center}.clearfix:after{clear:none;content:none;display:initial;text-align:center}.column{padding-bottom:2rem}.clearfix .column{float:none;padding:0;width:auto;word-break:keep-all}.zone-name-title{margin-bottom:1rem}}.loading-spinner{height:76.391px}.lds-ring{display:inline-block;position:relative}.lds-ring,.lds-ring div{height:1.875rem;width:1.875rem}.lds-ring div{animation:lds-ring 1.2s cubic-bezier(.5,0,.5,1) infinite;border:.3rem solid transparent;border-radius:50%;border-top-color:#313131;box-sizing:border-box;display:block;position:absolute}.lds-ring div:first-child{animation-delay:-.45s}.lds-ring div:nth-child(2){animation-delay:-.3s}.lds-ring div:nth-child(3){animation-delay:-.15s}@keyframes lds-ring{0%{transform:rotate(0)}to{transform:rotate(1turn)}}@media screen and (-ms-high-contrast:active),screen and (-ms-high-contrast:none){.main-wrapper,body{display:block}}</style><meta http-equiv=\"refresh\" content=\"375\"></head><body class=\"no-js\"><div class=\"main-wrapper\" role=\"main\"><div class=\"main-content\"><noscript><div id=\"challenge-error-title\"><div class=\"h2\"><span id=\"challenge-error-text\">Enable JavaScript and cookies to continue</span></div></div></noscript></div></div><script>(function(){window._cf_chl_opt={cvId: \\'3\\',cZone: \"www.police.uk\",cType: \\'managed\\',cNounce: \\'61034\\',cRay: \\'871c6c365d73947c\\',cHash: \\'4d8afe5af0de8d3\\',cUPMDTk: \"\\\\/?__cf_chl_tk=icb3hECazD1tMZYEgELCAlRjepMAYzzODm2Hz8JIG00-1712685899-0.0.1.1-1557\",cFPWv: \\'b\\',cTTimeMs: \\'1000\\',cMTimeMs: \\'375000\\',cTplV: 5,cTplB: \\'cf\\',cK: \"visitor-time\",fa: \"\\\\/?__cf_chl_f_tk=icb3hECazD1tMZYEgELCAlRjepMAYzzODm2Hz8JIG00-1712685899-0.0.1.1-1557\",md: \"QuYuRzqU6tRZW5cB5AC7yItmzHyCcxqpws4M_LrxtrM-1712685899-1.1.1.1-fw18rsgoWtZGNu3CKu_NpRQqRRHAK4wK_08zzIUd8WZh1Ys9GH3ck8cuokB3vVCScy9dgn5.chnK3TtwIzy3r8JPa.EJHkU54wtuAW.DLYPtAn_D_Rnb44fLs.Qsu_2XnOUx0W09BrQBifnqKDwxAPaQyceZWJedVJakLOHa02bm2WJOM9hUpUOOubXSXUEGMKEuB6anFxKKO6hIT7rBJLePvfJTHnpoMZ34NDEo81.iEQobofrtifCcNwq1FLYlOluVyTbSgMePKsMb.P7PvsF2WbgdSvx0JFne2mEFw9ENcf0V3Rh6VYew5yvebF1AyyemxAitLQ0AbbskeiJ.7O1JaKlKmMPZGZ39GZs4QuxCmKiCoTjNvOEp4bWNN7fyxpYVsIH9FROqQON3C32wu1mShHNQGMxa2Y.huPWXLTrfz_9PK87zhcKcFz7kW22yTCyYoo6XOhsvwKj6SS01OLyG1I1FWWJTjHjqxWgMNmaRIGewAR4rA3oSDeqQqkz.mqLocs0fB9bHULLpny4MCeBhaxZQvCows0Q9CVzUx7j8CCfj_spcPM7iRsa8TI3i6vFT33FhQlYz2JbSsvf0RMTji_.YLNtrneGF.EckHwfTh_2qIzbhyfyMNvBPPHWXt.eCBQyDsyP7E.gFWOGeGMgQ9sE3XeFEmcKiaCtUyWBnaBu9BzJbnc9QoA.0Dw2DQWTcNyXfJp0ZhPx80ZVmqTiscVCBtsltiLpP6EPY84bnszZFASA_N0nUu31Vb5TTdHbCpEjcbOwrFhEXfSuJfngDh6gSb4T2I5IGZ3IPVH_4eJlSNsFu7eDiQ8nhrKMwqTp_u1pFDUScMmVmCpehPRwDDZhJ9tsrFiJA2SbmMEuFFD976jg5oPo38LObneVPWKOMXMzMksOWEjxAitDK3wLFYVlQaIDdgz5AUydUWgqO.HQboZIAtvAXrBf6vr4Up.pTY1AW_Y68s129RieFDnqELvbczoVfDKRbGcYcNrhEW0jM3palnpQakXuCXSw1SKtM4sS.fwYI2Cpf2Cil.jDk37LjflXbVXvJEgHwKzvQCRz_RpjUcM8FhJqf6W9jsGKdUFFyCXwJYCN4bxAG0WtgmtLf7XTW8F7pIPCxH10B6IBP.jH6Yh79wGMfg2HEEI6tp3Lci2kBi9wb59yA.CetWOVKlTzPNE2HQEWNPfcpugh3lH0li7Lz_B2ECqV.M47cP0jR9Kz9uv51fFdmbcZ_mHOukVNTEbEB43oySpMflgTBHPf6wb_mPat4ym1NlGSlWG9eXcYeyR7HgkobLRd.bcHW9Iq3PaRiAqdDwtFdDs9l0.uX.bEd0rAb3nz58pTD_NppR1QKfcq9lAEY8o4qbtNOkFtaBUTK85EL3a0q74BuO25qhdP0GCl_ruHViMXGv.X2ZQn65IgyJMqo_m58EjJ3CjB2n9fmJatERB_FQ8.2koFien7Z6gZDjTxUuV_sjBgYss2lESSrCVFkOg\",mdrd: \"e9_ipv5ik7ooYSu7N.WM_YgTVPyjvFNmG.NRylgGTnk-1712685899-1.1.1.1-dwJXHy.M6aEDfAW6a6z3EN3TQGvwj5_TkppZaf_GdqnHZjfXH_3hC5y9Un4k8wHMFNul2Ke6USUsrj.CuRnY8Upllg8Eg_2ptD7.VDaWi7yzBGt4KhPLh2C5kIXaJbTe74BKseDi1Jj5ohlfO0xBABmCbK7J9nSlRNm3LGS0ORV6Kn_OnJPheUdsRiwKZmwSuaqdVhz3dqhSwe2vQfRtbc9GXP4eIuTeweV598esHyD5JjJNztMlQvvBzvOY3AnyGwBH5DuFfiCutQOmgw8gRHVePkdVx51xEmpdZeiYQWgeToOHAf7CffQ0.awMXib2sXTnh_wgo2tt_xISPh6ARETR0S_u0Z4EQHyfC3ONUV5_fVg9g6k3t2cm5CuWe7HISQA360MnLRU.obdZ8oWT8iM90HSER0m5P_LH0Azo6mrb1EJtd7b2fKn_Ccbb_5AxyO6Aeg5k3SCBnDpybR8J_x6lUkwBhkFrkqA3ys9Hg1fnwIdc.aeEq6Yl.xCVRVn9anwjeQExdaHCTTkJAzyTWzv_p4s7ObDCcG30tGb0wNrLu4VbH96UhnyNUQhFOq0.gHsgM7jRExfe1fzAfBsjC1hvwib2sE4nmZBKfK6CzoCLB7LjlywTktsXEEz4IWEwCLO1q6xylzfBfC4JV3W75GZhLeIBml5EtRyiqZgusKpz01CrKt11XlWWC1CR3cmGUOWPZlyVEur0V6vmB52EIfDfuWCrn34OhXNGXiUrDpHx_Y2O0Wq_bOtkd0xknWjkqtt0WHqtgH9LPUoLj_rhaM4HqzAiKeECIwlH.WLLKJTXJ2dwn_VqFIsRjornnK3nAZb22K.gr68wMeiLPX.Zf2YcTBdnkX8UN9anRo_GbD7zB9i2KGlpPZHFOZE4HR6Od7CuAVokaeJqImYjQHWcKLB9bg6ZrYkJVSSlvowSJ3T5nan36FAJzSAM9cFZUbgMXF8EC5rCoD49mKBl2cTRb5rYSj6Gi5jC9a0i11AicEhsCWqUQCfgtLHnnW0KdzNZjkrcTez.mwAw81evcoz.rg7Ms.Ykh3y1Nkfb3DnotlrsNgE8La5J.J6bP1Ae1_aKnmkgd_LJ2wnxPRbu1BTcqs9yiBGc2REvnS.OS82zdz9tI.TPPGif4LxbBnFy7YfjWIQYgc4fndeGsjj7IWoinMsZtwP4wcLzp7EjxjMEt3x_Np2uZweoP8xHr0XD9NckeKASR3uaZrWmDjwyZ6A_cc_rAHCBkNaal4akXpcGTfkHsBfQP1LmUnFH5bqOayixHMRBZynGJW7_wFZ5uj3a4KIJNoB0QpBqCnYTp8DO2NE6_H4mCZYIGy0.t11JMqVDuLSEllz96CgU.1LsW_zT1nOptSpWPtdwWLYQDRDdxqLpRBGyhN38.Mlm7MG1hPGwoI1jm9cV3npgpaIw6JIDe8WzBqv7brAqElBmE_I.ZSYBPt5cHiV_Nv1VNkYYRz6Ezqiz7IV3ZFEuIsQEnI4cXVUyj5SSmvqpnP23TJpd_bmzc9iZxEBQdC5IQsWU_JgCFlJnYdW5jYmrn5V5n9ndkucYScEOrv3UhWGqJ9dxkhX414uSvJefU9fFbja3nXuNTlunfqnqFSkOg0u_yrclejkGIIhHKvFkx0dJyfzj59oSsFFAvSFGxbZXOBjXAVPu4oAY6Z.ZWXB0MLo5fcqZm7BLbszKmBHSQiz1jJFZiO1tkQc1GdqOY2Gff4DKgPQlNlBh0aWxtBLpT1w3gzDmgZgKRkbRnejIPNyPgwuBe5ErBWXQ4sJeTMscUY5UEHDk5BlYlWkbqMoTW7.QBCjrMvh31yjBUv6frQtQ3Q4F1qzdvol_A9fFj1ebIL.c0eWZ1uGlTROY1uERajk5lU49cAFrKrxJNbkiJmldpm1D3tBzKjRWQIQhSMi0wLW.L1qjRlJW.yowawLzkrtImRnYz5EgzsavzmWfDgCgalNB.MrY3Ck392a5QkgX568wDZ5_UgfbcU1iDfh.VyVy0r0b4FyWyGOARunvK2cDSNEIZH6NxcP6QmPE0OSopxj81qGTCHG_MVBrZCkW2QVJ1W0Hjf804fqQi3Aw4RDtj7yrsyxYkq4oWVKKHgGPasbWl3hTdXRs2.iXcY3VBXtBZZ6dSDLUcZ8iF_lCWQ.kZYVA8dcbfZg6bc6xXyjjmXCUwLZuo4DAAjU0nT4Q_MgMPDIOrEv9UE1eOpdZ70B2r53rFpCxrxRTT6jTBnZi0R_mmvY7KQWaLtrJmU5b3uoIxf6GhCI64dOLNRwIxPDPEvextck\",cRq: {ru: \\'aHR0cHM6Ly93d3cucG9saWNlLnVrLw==\\',ra: \\'TW96aWxsYS81LjAgKGlQaG9uZTsgQ1BVIGlQaG9uZSBPUyAxMV8wIGxpa2UgTWFjIE9TIFgpIEFwcGxlV2ViS2l0LzUzNy4zNiAoS0hUTUwsIGxpa2UgR2Vja28pIENocm9tZS81Ni4wLjQ1ODcuMTczIE1vYmlsZSBTYWZhcmkvNTM3LjM2\\',rm: \\'R0VU\\',d: \\'ge3wlf36L3EKaW8/iijo5ivzTkS98plnS/ncOQ/vSKa0u+mTfq684qnVZImAJ1aHGSbfVcsvya9Bkgewjq/5IeSUQPWPma2rqHq6F0VNovM5EMSuNCK+7Fsx6jKSX6ElABgIMueKaiJ+jYjIJWknmHHLvV8Cw3HrTePKSShNplM+vVRfByWR9QL9QxIhWd+MG7IwjgzVcIY6sk37KfNMTcI9PuveL0Ae4eVmtlPK6u8wqvPcguMCYD1c8oJfuk3VY3ylKIyxl5bSlMyDYlcjBqJUd74+zuTRm3Ir0cgrqmT70PF8bWRq5ZOTTXpot5IeXF4NIzyWdCTrRVAV3435Dxb1tQW6ovT+41ExSvufe7Xrqhud7yTy6XGyfY6A7gga5S70HtXEYjiAr3w6+DRr7IL88ig5Kt2ZRP4iNzc8tgjGb/AppXkZA4xCaktd6DTq32/2s1qOHMMfPzaeA+K+A13c5w3xN8+XivyNMcwmDdCm70duwrQsR9Mox75ewHKgCgCJwkLx8K5XymmD04qTAU8HtYmdIQd25OBoHd4rQkyBpA/OJ5n9c2upBNl6ewaHD0in9R3ziHrE3UJWvcI88A==\\',t: \\'MTcxMjY4NTg5OS4yNjAwMDA=\\',cT: Math.floor(Date.now() / 1000),m: \\'RXqI5ghq6EuyXhQVfI5yqvm3+LAM1E9iUy69mhdN+1w=\\',i1: \\'9dilxfp1HlzqhpCIG5lDgg==\\',i2: \\'vgwojpKof5iHSq451LNvMw==\\',zh: \\'VH4IlE02ZS+hLABsCERk4dCORuS68S5Vxx2vQt/nq+s=\\',uh: \\'U+5O037gfwncaVOnKhOQlXjCVkaRa6ig0gBZrPVEPRY=\\',hh: \\'7cW2lF5jnxsgD6AR1A1P6xoGhbmPaF6hh5t4a35qJzc=\\',}};var cpo = document.createElement(\\'script\\');cpo.src = \\'/cdn-cgi/challenge-platform/h/b/orchestrate/chl_page/v1?ray=871c6c365d73947c\\';window._cf_chl_opt.cOgUHash = location.hash === \\'\\' && location.href.indexOf(\\'#\\') !== -1 ? \\'#\\' : location.hash;window._cf_chl_opt.cOgUQuery = location.search === \\'\\' && location.href.slice(0, location.href.length - window._cf_chl_opt.cOgUHash.length).indexOf(\\'?\\') !== -1 ? \\'?\\' : location.search;if (window.history && window.history.replaceState) {var ogU = location.pathname + window._cf_chl_opt.cOgUQuery + window._cf_chl_opt.cOgUHash;history.replaceState(null, null, \"\\\\/?__cf_chl_rt_tk=icb3hECazD1tMZYEgELCAlRjepMAYzzODm2Hz8JIG00-1712685899-0.0.1.1-1557\" + window._cf_chl_opt.cOgUHash);cpo.onload = function() {history.replaceState(null, null, ogU);}}document.getElementsByTagName(\\'head\\')[0].appendChild(cpo);}());</script></body></html>'"
      ]
     },
     "execution_count": 62,
     "metadata": {},
     "output_type": "execute_result"
    }
   ],
   "source": [
    "import cloudscraper\n",
    "url = 'https://www.police.uk/'\n",
    "scraper = cloudscraper.create_scraper()\n",
    "res= scraper.get(url)\n",
    "print(res.status_code)\n",
    "res.text"
   ]
  },
  {
   "cell_type": "code",
   "execution_count": 66,
   "metadata": {},
   "outputs": [
    {
     "name": "stdout",
     "output_type": "stream",
     "text": [
      "403\n"
     ]
    }
   ],
   "source": [
    "import cfscrape\n",
    "url = 'https://www.police.uk/'\n",
    "scrape = cfscrape.create_scraper()\n",
    "res = scrape.get(url)\n",
    "print(res.status_code)    "
   ]
  },
  {
   "cell_type": "code",
   "execution_count": 64,
   "metadata": {},
   "outputs": [
    {
     "name": "stdout",
     "output_type": "stream",
     "text": [
      "Collecting cfscrape\n",
      "  Downloading cfscrape-2.1.1-py3-none-any.whl (12 kB)\n",
      "Requirement already satisfied: requests>=2.6.1 in c:\\users\\socor\\anaconda3\\lib\\site-packages (from cfscrape) (2.24.0)\n",
      "Requirement already satisfied: certifi>=2017.4.17 in c:\\users\\socor\\anaconda3\\lib\\site-packages (from requests>=2.6.1->cfscrape) (2024.2.2)\n",
      "Requirement already satisfied: idna<3,>=2.5 in c:\\users\\socor\\anaconda3\\lib\\site-packages (from requests>=2.6.1->cfscrape) (2.10)\n",
      "Requirement already satisfied: chardet<4,>=3.0.2 in c:\\users\\socor\\anaconda3\\lib\\site-packages (from requests>=2.6.1->cfscrape) (3.0.4)\n",
      "Requirement already satisfied: urllib3!=1.25.0,!=1.25.1,<1.26,>=1.21.1 in c:\\users\\socor\\anaconda3\\lib\\site-packages (from requests>=2.6.1->cfscrape) (1.25.11)\n",
      "Installing collected packages: cfscrape\n",
      "Successfully installed cfscrape-2.1.1\n",
      "Note: you may need to restart the kernel to use updated packages.\n"
     ]
    }
   ],
   "source": [
    "pip install cfscrape"
   ]
  },
  {
   "cell_type": "code",
   "execution_count": 9,
   "metadata": {},
   "outputs": [
    {
     "name": "stdout",
     "output_type": "stream",
     "text": [
      "Selenium is working fine!\n"
     ]
    }
   ],
   "source": [
    "from selenium import webdriver\n",
    "from selenium.webdriver.chrome.service import Service\n",
    "from selenium.webdriver.common.keys import Keys\n",
    "import time\n",
    "\n",
    "# Specify the path to chromedriver if it's not in your PATH\n",
    "chromedriver_path = r\"C:\\Users\\socor\\Downloads\\chromedriver-win64\\chromedriver-win64\\chromedriver.exe\"\n",
    "\n",
    "# Initialize the WebDriver (assuming Chrome)\n",
    "service = Service(executable_path=chromedriver_path)\n",
    "driver = webdriver.Chrome(service=service)\n",
    "\n",
    "try:\n",
    "    # Navigate to a website\n",
    "    driver.get(\"http://police.uk\")\n",
    "    \n",
    "    # Wait for 5 seconds to see the page\n",
    "    time.sleep(5)\n",
    "    \n",
    "    # Optionally, interact with the website\n",
    "    # For example, search for 'Selenium' in Wikipedia\n",
    "    # search_box = driver.find_element_by_name('q')\n",
    "    # search_box.send_keys('Selenium')\n",
    "    # search_box.send_keys(Keys.RETURN)\n",
    "    # time.sleep(5)\n",
    "    \n",
    "    print(\"Selenium is working fine!\")\n",
    "except Exception as e:\n",
    "    print(f\"An error occurred: {e}\")\n",
    "finally:\n",
    "    # Close the browser\n",
    "    driver.quit()"
   ]
  },
  {
   "cell_type": "markdown",
   "metadata": {},
   "source": [
    "Having established that Selenium is capable of accessing the police.uk website, let's start building an ethical bot! Firstly, we accessed the https://police.uk/robots.txt page and found certain URLs needed to be disallowed. I decided to start by caching the robots.txt file so that my bot could refer to it without sending repeated requests to the site. My bot would then check URLs against those contained in the robot.txt file and would return a \"robot.txt error\" rather than crawl the forbidden URL:"
   ]
  },
  {
   "cell_type": "code",
   "execution_count": 19,
   "metadata": {},
   "outputs": [
    {
     "name": "stdout",
     "output_type": "stream",
     "text": [
      "robots.txt error: Crawling not allowed for http://police.uk/mediacentre\n",
      "robots.txt error: Crawling not allowed for http://police.uk/?u=media\n",
      "robots.txt error: Crawling not allowed for http://police.uk\n"
     ]
    }
   ],
   "source": [
    "from urllib.robotparser import RobotFileParser\n",
    "from urllib.parse import urlparse\n",
    "\n",
    "def can_crawl(url):\n",
    "    \"\"\"\n",
    "    Check if the crawler can crawl a given URL based on the site's robots.txt.\n",
    "    \"\"\"\n",
    "    parsed_url = urlparse(url)\n",
    "    robots_url = f\"{parsed_url.scheme}://{parsed_url.netloc}/robots.txt\"\n",
    "    \n",
    "    rp = RobotFileParser()\n",
    "    rp.set_url(robots_url)\n",
    "    rp.read()\n",
    "    \n",
    "    return rp.can_fetch(\"FriendlyUniStudentResearcher\", url)\n",
    "\n",
    "def crawl(url):\n",
    "    \"\"\"\n",
    "    Attempt to crawl a URL, respecting robots.txt rules.\n",
    "    \"\"\"\n",
    "    if can_crawl(url):\n",
    "        try:\n",
    "            response = requests.get(url)\n",
    "            # Process the response here (e.g., parse HTML, follow links, etc.)\n",
    "            print(f\"Successfully crawled: {url}\")\n",
    "        except Exception as e:\n",
    "            print(f\"An error occurred while crawling {url}: {e}\")\n",
    "    else:\n",
    "        print(f\"robots.txt error: Crawling not allowed for {url}\")\n",
    "\n",
    "# Example usage\n",
    "urls_to_crawl = [\n",
    "    \"http://police.uk/mediacentre\",\n",
    "    \"http://police.uk/?u=media\",\n",
    "    \"http://police.uk\"\n",
    "    # Add other URLs you're interested in\n",
    "]\n",
    "\n",
    "for url in urls_to_crawl:\n",
    "    crawl(url)"
   ]
  },
  {
   "cell_type": "markdown",
   "metadata": {},
   "source": [
    "It is customary to include a specific \"user-agent\" to identify your bot and make it possible for website administrators to contact you with concerns:"
   ]
  },
  {
   "cell_type": "code",
   "execution_count": null,
   "metadata": {},
   "outputs": [],
   "source": [
    "session = requests.Session()\n",
    "\n",
    "# Set the custom user-agent for all requests made with this session\n",
    "session.headers.update({\n",
    "    'User-Agent': \"FriendlyUniStudentResearcher/1.0 (+mailto:soc204@exeter.ac.uk)\"\n",
    "})\n",
    "response = session.get()"
   ]
  },
  {
   "cell_type": "code",
   "execution_count": 7,
   "metadata": {},
   "outputs": [
    {
     "name": "stdout",
     "output_type": "stream",
     "text": [
      "User-Agent received by httpbin.org:\n",
      "FriendlyUniStudentResearcher/1.0 (+mailto:soc204@exeter.ac.uk)\n"
     ]
    }
   ],
   "source": [
    "import requests\n",
    "import json\n",
    "\n",
    "# Define your custom user-agent string\n",
    "user_agent = \"FriendlyUniStudentResearcher/1.0 (+mailto:soc204@exeter.ac.uk)\"\n",
    "\n",
    "# Set the headers for your request to include your custom user-agent\n",
    "headers = {\n",
    "    'User-Agent': user_agent\n",
    "}\n",
    "\n",
    "# The URL for testing headers (httpbin.org is useful for HTTP requests testing)\n",
    "test_url = \"https://httpbin.org/headers\"\n",
    "\n",
    "# Make the request with your headers\n",
    "response = requests.get(test_url, headers=headers)\n",
    "\n",
    "# Parse the JSON response\n",
    "response_json = response.json()\n",
    "\n",
    "# Extract and print the User-Agent header from the response\n",
    "print(\"User-Agent received by httpbin.org:\")\n",
    "print(response_json['headers']['User-Agent'])\n"
   ]
  },
  {
   "cell_type": "code",
   "execution_count": null,
   "metadata": {},
   "outputs": [],
   "source": [
    "from selenium import webdriver\n",
    "from selenium.webdriver.chrome.service import Service\n",
    "from selenium.webdriver.common.keys import Keys\n",
    "import time\n",
    "from selenium.webdriver.chrome.options import Options\n",
    "\n",
    "options = Options()\n",
    "user_agent = \"FriendlyUniStudentResearcher/1.0 (+mailto:soc204@exeter.ac.uk)\"\n",
    "options.add_argument(f'user-agent={user_agent}')\n",
    "# Specify the path to chromedriver if it's not in your PATH\n",
    "chromedriver_path = r\"C:\\Users\\socor\\Downloads\\chromedriver-win64\\chromedriver-win64\\chromedriver.exe\"\n",
    "\n",
    "# Initialize the WebDriver (assuming Chrome)\n",
    "service = Service(executable_path=chromedriver_path)\n",
    "driver = webdriver.Chrome(service=service)\n",
    "\n",
    "session = requests.Session()\n",
    "\n",
    "# Set the custom user-agent for all requests made with this session\n",
    "session.headers.update({\n",
    "    'User-Agent': \"FriendlyUniStudentResearcher/1.0 (+mailto:soc204@exeter.ac.uk)\"\n",
    "})\n",
    "response = session.get()\n",
    "\n",
    "driver.quit()"
   ]
  },
  {
   "cell_type": "code",
   "execution_count": 22,
   "metadata": {},
   "outputs": [
    {
     "ename": "AttributeError",
     "evalue": "'NoneType' object has no attribute 'rulelines'",
     "output_type": "error",
     "traceback": [
      "\u001b[1;31m---------------------------------------------------------------------------\u001b[0m",
      "\u001b[1;31mAttributeError\u001b[0m                            Traceback (most recent call last)",
      "\u001b[1;32m<ipython-input-22-dd4376a6c90c>\u001b[0m in \u001b[0;36m<module>\u001b[1;34m\u001b[0m\n\u001b[0;32m      5\u001b[0m \u001b[0mrp\u001b[0m\u001b[1;33m.\u001b[0m\u001b[0mset_url\u001b[0m\u001b[1;33m(\u001b[0m\u001b[0mrobots_url\u001b[0m\u001b[1;33m)\u001b[0m\u001b[1;33m\u001b[0m\u001b[1;33m\u001b[0m\u001b[0m\n\u001b[0;32m      6\u001b[0m \u001b[0mrp\u001b[0m\u001b[1;33m.\u001b[0m\u001b[0mread\u001b[0m\u001b[1;33m(\u001b[0m\u001b[1;33m)\u001b[0m\u001b[1;33m\u001b[0m\u001b[1;33m\u001b[0m\u001b[0m\n\u001b[1;32m----> 7\u001b[1;33m \u001b[1;32mfor\u001b[0m \u001b[0mline\u001b[0m \u001b[1;32min\u001b[0m \u001b[0mrp\u001b[0m\u001b[1;33m.\u001b[0m\u001b[0mdefault_entry\u001b[0m\u001b[1;33m.\u001b[0m\u001b[0mrulelines\u001b[0m\u001b[1;33m:\u001b[0m\u001b[1;33m\u001b[0m\u001b[1;33m\u001b[0m\u001b[0m\n\u001b[0m\u001b[0;32m      8\u001b[0m     \u001b[0mprint\u001b[0m\u001b[1;33m(\u001b[0m\u001b[1;34mf\"Allow: {line.allowance} Path: {line.path}\"\u001b[0m\u001b[1;33m)\u001b[0m\u001b[1;33m\u001b[0m\u001b[1;33m\u001b[0m\u001b[0m\n\u001b[0;32m      9\u001b[0m \u001b[1;33m\u001b[0m\u001b[0m\n",
      "\u001b[1;31mAttributeError\u001b[0m: 'NoneType' object has no attribute 'rulelines'"
     ]
    }
   ],
   "source": [
    "url = 'https://www.police.uk/'\n",
    "parsed_url = urlparse(url)\n",
    "robots_url = f\"{parsed_url.scheme}://{parsed_url.netloc}/robots.txt\"\n",
    "rp = RobotFileParser()\n",
    "rp.set_url(robots_url)\n",
    "rp.read()\n",
    "for line in rp.default_entry.rulelines:\n",
    "    print(f\"Allow: {line.allowance} Path: {line.path}\")\n",
    "\n",
    "# Check if the root URL is allowed\n",
    "print(rp.can_fetch(\"*\", \"https://www.police.uk/\"))\n",
    "rp.can_fetch(\"*\", url)"
   ]
  },
  {
   "cell_type": "code",
   "execution_count": 18,
   "metadata": {},
   "outputs": [
    {
     "name": "stdout",
     "output_type": "stream",
     "text": [
      "Fetching new robots.txt data.\n"
     ]
    },
    {
     "data": {
      "text/plain": [
       "<urllib.robotparser.RobotFileParser at 0x22aa7399bb0>"
      ]
     },
     "execution_count": 18,
     "metadata": {},
     "output_type": "execute_result"
    }
   ],
   "source": [
    "from urllib.parse import urlparse\n",
    "from urllib.robotparser import RobotFileParser\n",
    "\n",
    "# Initialize a cache dictionary\n",
    "robots_cache = {}\n",
    "\n",
    "def cache_robots_data(url):\n",
    "    \"\"\"\n",
    "    Fetches and caches the robots.txt data for the given URL's domain.\n",
    "    \"\"\"\n",
    "    # Parse the domain from the given URL\n",
    "    parsed_url = urlparse(url)\n",
    "    base_url = f\"{parsed_url.scheme}://{parsed_url.netloc}\"\n",
    "    robots_url = f\"{base_url}/robots.txt\"\n",
    "    \n",
    "    # Check if we already have cached data for this domain\n",
    "    if base_url in robots_cache:\n",
    "        print(\"Using cached robots.txt data.\")\n",
    "        return robots_cache[base_url]\n",
    "    else:\n",
    "        print(\"Fetching new robots.txt data.\")\n",
    "        # Initialize a RobotFileParser instance\n",
    "        rp = RobotFileParser()\n",
    "        rp.set_url(robots_url)\n",
    "        rp.read()  # Fetch and parse the robots.txt\n",
    "        \n",
    "        # Cache the RobotFileParser instance for future use\n",
    "        robots_cache[base_url] = rp\n",
    "        \n",
    "        return rp\n",
    "\n",
    "# Example usage\n",
    "rp = cache_robots_data('https://www.police.uk')\n",
    "rp"
   ]
  },
  {
   "cell_type": "markdown",
   "metadata": {},
   "source": [
    "# Data Collection"
   ]
  },
  {
   "cell_type": "code",
   "execution_count": 3,
   "metadata": {},
   "outputs": [],
   "source": [
    "from selenium.webdriver.chrome.options import Options\n",
    "def establish_user_agent(user_agent, chromedriver_path):\n",
    "    chrome_options = Options()\n",
    "    chrome_options.add_argument(f\"user-agent={user_agent}\")\n",
    "    return chrome_options"
   ]
  },
  {
   "cell_type": "code",
   "execution_count": 4,
   "metadata": {},
   "outputs": [],
   "source": [
    "from selenium import webdriver\n",
    "from selenium.webdriver.chrome.service import Service\n",
    "def init_chrome_webdriver(chromedriver_path, chrome_options):\n",
    "    chrome_options.add_argument(\"--no-sandbox\")  # This parameter helps in avoiding unnecessary crashes.\n",
    "    chrome_options.add_argument(\"--disable-gpu\")  # Disables GPU hardware acceleration. If software renderer is not in place, then the browser might not launch.\n",
    "    chrome_options.add_argument(\"--log-level=3\")  # This will only show fatal errors in the console.\n",
    "    service = Service(executable_path=chromedriver_path)\n",
    "    driver = webdriver.Chrome(service=service, options=chrome_options)\n",
    "    return driver"
   ]
  },
  {
   "cell_type": "code",
   "execution_count": 5,
   "metadata": {},
   "outputs": [],
   "source": [
    "import time\n",
    "import json\n",
    "from selenium.webdriver.common.by import By \n",
    "def test_user_agent(driver, user_agent):\n",
    "    driver.get(\"https://httpbin.org/user-agent\")\n",
    "    time.sleep(5)\n",
    "    response_data = json.loads(driver.find_element(By.TAG_NAME, \"body\").text)\n",
    "    echoed_user_agent = response_data[\"user-agent\"]\n",
    "    \n",
    "    if echoed_user_agent != user_agent:\n",
    "        print(\"User-Agent does not match the expected value. Quitting...\")\n",
    "        raise Exception(\"User-Agent does not match the expected value.\")"
   ]
  },
  {
   "cell_type": "code",
   "execution_count": 6,
   "metadata": {},
   "outputs": [],
   "source": [
    "def is_target_disallowed(target, disallowed_dict):\n",
    "    \"\"\"\n",
    "    Check if the target path matches any of the disallowed paths.\n",
    "\n",
    "    :param target_path: The target path to check\n",
    "    :param disallowed_paths: A dictionary of disallowed paths from robots.txtf files for each base_url\n",
    "    :return: True if the target path is disallowed, False otherwise\n",
    "    \"\"\"\n",
    "    # Extract base URL from the target\n",
    "    parsed_url = urlparse(target)\n",
    "    base_url = f\"{parsed_url.scheme}://{parsed_url.netloc}\"\n",
    "    \n",
    "    # Retrieve the list of disallowed patterns for the base URL\n",
    "    disallowed_patterns = disallowed_dict.get(base_url, [])\n",
    "    \n",
    "    # Normalize target path\n",
    "    target_pattern = f'{parsed_url.path}?{parsed_url.query}'.rstrip(\"?\")\n",
    "    target_path = target_pattern.rstrip(\"/\")\n",
    "\n",
    "    for pattern in disallowed_patterns:\n",
    "        # Normalize disallowed path\n",
    "        pattern = pattern.rstrip(\"/\")\n",
    "        \n",
    "        # Check if the target pattern starts with the disallowed pattern\n",
    "        if target_path.startswith(pattern):\n",
    "            return True\n",
    "        # Checking for file extension disallowance, e.g., '*.aspx$'\n",
    "        if pattern.endswith('$'):\n",
    "            base_pattern = pattern[1:-1]\n",
    "            if target_path.endswith(base_pattern):\n",
    "                return True\n",
    "\n",
    "    return False"
   ]
  },
  {
   "cell_type": "code",
   "execution_count": 58,
   "metadata": {},
   "outputs": [],
   "source": [
    "from urllib.parse import urlparse\n",
    "import re\n",
    "def establish_bot_permissions(driver, target, existing_disallowed=None):\n",
    "    parsed_url = urlparse(target)\n",
    "    base_url = f\"{parsed_url.scheme}://{parsed_url.netloc}\"\n",
    "    \n",
    "    # Initialize the dictionary if not provided\n",
    "    if existing_disallowed is None:\n",
    "        existing_disallowed = {}\n",
    "    \n",
    "    # If the base URL is already in the dictionary, return it\n",
    "    if base_url in existing_disallowed:\n",
    "        if is_target_disallowed(target, existing_disallowed):\n",
    "            print('This URL is not allowed to be crawled in line with robots.txt')\n",
    "            raise Exception(f\"Target path {target} is disallowed.\")\n",
    "        else:\n",
    "            print(f\"{target} is not disallowed\")\n",
    "        return existing_disallowed\n",
    "    \n",
    "    # Navigate to relevant robots.txt file\n",
    "    robots_url = f\"{base_url}/robots.txt\"\n",
    "    driver.get(robots_url)\n",
    "    time.sleep(1)\n",
    "    \n",
    "    # Scrape disallowed patterns\n",
    "    robots_txt_content = driver.find_element(By.TAG_NAME, \"body\").text\n",
    "    disallow_pattern = r\"Disallow: ([^\\n]+)\"\n",
    "    disallowed_paths = re.findall(disallow_pattern, robots_txt_content)\n",
    "    existing_disallowed[base_url] = disallowed_paths\n",
    "    \n",
    "    if is_target_disallowed(target, existing_disallowed):\n",
    "        print('This URL is not allowed to be crawled in line with robots.txt')\n",
    "        raise Exception(f\"Target path {target} is disallowed.\")\n",
    "    else:\n",
    "            print(f\"{target} is not disallowed\")\n",
    "    return existing_disallowed"
   ]
  },
  {
   "cell_type": "code",
   "execution_count": 8,
   "metadata": {},
   "outputs": [],
   "source": [
    "from selenium.webdriver.support.ui import WebDriverWait\n",
    "from selenium.webdriver.support import expected_conditions as EC\n",
    "\n",
    "def get_force_areas(driver, target):\n",
    "    try:\n",
    "        driver.get(target)\n",
    "        all_buttons = WebDriverWait(driver, 10).until(\n",
    "            EC.presence_of_all_elements_located((By.CSS_SELECTOR, \".js-crime-stats-table-toggle\"))\n",
    "        )\n",
    "    \n",
    "        if len(all_buttons) > 1:\n",
    "            toggle_button = all_buttons[1]  # Select the second button\n",
    "            driver.execute_script(\"arguments[0].scrollIntoView(true);\", toggle_button)\n",
    "            toggle_button.click()\n",
    "            time.sleep(2)\n",
    "        else:\n",
    "            print(\"Not enough buttons found.\")\n",
    "    \n",
    "        tables = driver.find_elements(By.TAG_NAME, 'table')\n",
    "        table = tables[-1]\n",
    "        driver.execute_script(\"arguments[0].scrollIntoView(true);\", table)\n",
    "        rows = table.find_elements(By.TAG_NAME, 'tr')\n",
    "        force_areas = []\n",
    "    \n",
    "        for row in rows:\n",
    "            cells = row.find_elements(By.TAG_NAME, 'td')\n",
    "            if cells:\n",
    "                text = cells[0].text.strip()\n",
    "                force_areas.append(text)\n",
    "    \n",
    "    return force_areas"
   ]
  },
  {
   "cell_type": "code",
   "execution_count": 50,
   "metadata": {},
   "outputs": [],
   "source": [
    "from selenium.webdriver.common.keys import Keys\n",
    "def navigate_to_force_area_performance(driver, area, disallowed_patterns, force_area_urls={}):\n",
    "    try:\n",
    "        all_search_inputs = WebDriverWait(driver, 10).until(\n",
    "            EC.visibility_of_all_elements_located((By.CSS_SELECTOR, \"input[type='search'], input[name*='search'], input[placeholder*='Search']\"))\n",
    "        )\n",
    "\n",
    "        # Make sure there are at least two search bars\n",
    "        if len(all_search_inputs) >= 2:\n",
    "            search_input = all_search_inputs[1]  # Select the second search input\n",
    "        else:\n",
    "            raise Exception(\"Less than two search inputs found on the page.\")\n",
    "            \n",
    "        search_input.click()\n",
    "        # Clear the search field first in case there's any pre-filled text\n",
    "        search_input.clear()\n",
    "        # Enter the area name into the search field\n",
    "        search_input.send_keys(area)\n",
    "        # Search!\n",
    "        search_input.send_keys(Keys.ENTER)  # Press Enter directly via Selenium\n",
    "        \n",
    "        time.sleep(1)\n",
    "        #Check if this new page is disallowed\n",
    "        target = driver.current_url\n",
    "        disallowed_patterns = establish_bot_permissions(driver,target,disallowed_patterns)\n",
    "\n",
    "        driver.get(target)\n",
    "        time.sleep(1)\n",
    "        print(f\"Navigation to the {area} performance page is successful.\")\n",
    "\n",
    "    except Exception as e:\n",
    "        print(f\"An error occurred while navigating to the {area} performance page: {e}\")\n",
    "    return force_area_urls"
   ]
  },
  {
   "cell_type": "code",
   "execution_count": 112,
   "metadata": {},
   "outputs": [],
   "source": [
    "def get_jurisdictions(driver, area, disallowed_patterns, force_area_jurisdictions={}):\n",
    "    link = driver.find_elements(By.XPATH, \"//a[.//h3[contains(@class, 'c-link-panel_title') and contains(text(), 'Compare your area')]]\")\n",
    "    if len(link)<1:\n",
    "        print(\"No data available\")\n",
    "        jurisdictions[area]={}\n",
    "        return jurisdictions\n",
    "    link = WebDriverWait(driver, 10).until(\n",
    "            EC.visibility_of_element_located((By.XPATH, \"//a[.//h3[contains(@class, 'c-link-panel_title') and contains(text(), 'Compare your area')]]\"))\n",
    "        )\n",
    "    target = link.get_attribute('href')\n",
    "    disallowed_patterns = establish_bot_permissions(driver,target,disallowed_patterns) \n",
    "    driver.get(target)\n",
    "    time.sleep(1)\n",
    "    all_buttons = driver.find_elements(By.CSS_SELECTOR, \".js-crime-stats-table-toggle\")\n",
    "    if len(all_buttons) > 1:\n",
    "        toggle_button = all_buttons[1]\n",
    "        driver.execute_script(\"arguments[0].scrollIntoView(true);\", toggle_button)\n",
    "        toggle_button.click()\n",
    "        time.sleep(1)\n",
    "    else:\n",
    "        print(\"Not enough buttons found.\")\n",
    "        jurisdictions[area]={}\n",
    "        return jurisdictions\n",
    "    \n",
    "    tables = driver.find_elements(By.TAG_NAME, 'table')        \n",
    "    table = tables[2]\n",
    "    driver.execute_script(\"arguments[0].scrollIntoView(true);\", table)\n",
    "    rows = table.find_elements(By.TAG_NAME, 'tr')\n",
    "    force_area_jurisdictions = {}\n",
    "    \n",
    "    for row in rows:\n",
    "        cells = row.find_elements(By.TAG_NAME, 'td')\n",
    "        if cells:\n",
    "            text = cells[0].text.strip()\n",
    "            force_area_jurisdictions[text]=cells[1].text.strip()\n",
    "    jurisdictions[area] = force_area_jurisdictions\n",
    "    return jurisdictions"
   ]
  },
  {
   "cell_type": "code",
   "execution_count": 62,
   "metadata": {},
   "outputs": [],
   "source": [
    "def get_resource_reserves(driver,forceArea):\n",
    "    driver.get(target)\n",
    "    all_buttons = WebDriverWait(driver, 10).until(\n",
    "        EC.presence_of_all_elements_located((By.CSS_SELECTOR, \".js-crime-stats-table-toggle\"))\n",
    "    )\n",
    "    \n",
    "    if len(all_buttons) > 1:\n",
    "        toggle_button = all_buttons[1]  # Select the second button\n",
    "        driver.execute_script(\"arguments[0].scrollIntoView(true);\", toggle_button)\n",
    "        toggle_button.click()\n",
    "        time.sleep(2)\n",
    "    else:\n",
    "        print(\"Not enough buttons found.\")\n",
    "    \n",
    "    tables = driver.find_elements(By.TAG_NAME, 'table')\n",
    "    table = tables[-1]\n",
    "    driver.execute_script(\"arguments[0].scrollIntoView(true);\", table)\n",
    "    rows = table.find_elements(By.TAG_NAME, 'tr')\n",
    "    force_areas = []\n",
    "    \n",
    "    for row in rows:\n",
    "        cells = row.find_elements(By.TAG_NAME, 'td')\n",
    "        if cells:\n",
    "            text = cells[0].text.strip()\n",
    "            force_areas.append(text)"
   ]
  },
  {
   "cell_type": "markdown",
   "metadata": {},
   "source": [
    "What follows is the webscraping script- remember to recreate this script's output, you must have first downloaded the relevant chromedriver for your machine from https://googlechromelabs.github.io/chrome-for-testing/#stable, and provide the path to your own version of the chromedriver where prompted in the script. You may also wish to use your own user-agent. It is recommended that your user-agent contains a (+mailto:emailaddress) string so that any crawling of the bot that raises concerns with the service provider can be mediated by them reaching out to you."
   ]
  },
  {
   "cell_type": "code",
   "execution_count": 113,
   "metadata": {},
   "outputs": [
    {
     "name": "stdout",
     "output_type": "stream",
     "text": [
      "https://www.police.uk/pu/your-area/avon-somerset-constabulary/performance/financial-reserves/ is not disallowed\n",
      "https://www.police.uk/pu/performance/ is not disallowed\n",
      "https://www.police.uk/pu/your-area/avon-somerset-constabulary/performance/performance-avon-somerset/?tc=AN004 is not disallowed\n",
      "Navigation to the Avon and Somerset Constabulary performance page is successful.\n",
      "https://www.police.uk/pu/your-area/avon-somerset-constabulary/performance/compare-your-area/?tc=AN004 is not disallowed\n",
      "https://www.police.uk/pu/your-area/bedfordshire-police/performance/performance-bedfordshire-police/?tc=NU1 is not disallowed\n",
      "Navigation to the Bedfordshire Police performance page is successful.\n",
      "https://www.police.uk/pu/your-area/bedfordshire-police/performance/compare-your-area/?tc=NU1 is not disallowed\n",
      "https://www.police.uk/pu/your-area/cambridgeshire-constabulary/performance/performance-cambridgeshire-constabulary/?tc=Huntingdon_and_Yaxley is not disallowed\n",
      "Navigation to the Cambridgeshire Constabulary performance page is successful.\n",
      "https://www.police.uk/pu/your-area/cambridgeshire-constabulary/performance/compare-your-area/?tc=Huntingdon_and_Yaxley is not disallowed\n",
      "https://www.police.uk/pu/your-area/cheshire-constabulary/performance/performance-cheshire-constabulary/?tc=VB01 is not disallowed\n",
      "Navigation to the Cheshire Constabulary performance page is successful.\n",
      "https://www.police.uk/pu/your-area/cheshire-constabulary/performance/compare-your-area/?tc=VB01 is not disallowed\n",
      "https://www.police.uk/pu/your-area/cleveland-police/performance/performance-cleveland-police/?tc=Middlesbrough%20North is not disallowed\n",
      "Navigation to the Cleveland Police performance page is successful.\n",
      "https://www.police.uk/pu/your-area/cleveland-police/performance/compare-your-area/?tc=Middlesbrough+North is not disallowed\n",
      "https://www.police.uk/pu/your-area/cumbria-constabulary/performance/performance-cumbria-constabulary/?tc=LOCC1CAE is not disallowed\n",
      "Navigation to the Cumbria Constabulary performance page is successful.\n",
      "https://www.police.uk/pu/your-area/cumbria-constabulary/performance/compare-your-area/?tc=LOCC1CAE is not disallowed\n",
      "https://www.police.uk/pu/your-area/derbyshire-constabulary/performance/performance-derbyshire-constabulary/?tc=SK03 is not disallowed\n",
      "Navigation to the Derbyshire Constabulary performance page is successful.\n",
      "https://www.police.uk/pu/your-area/derbyshire-constabulary/performance/compare-your-area/?tc=SK03 is not disallowed\n",
      "https://www.police.uk/pu/your-area/devon-and-cornwall-police/performance/performance-devon-and-cornwall-police/?tc=DEV.4063 is not disallowed\n",
      "Navigation to the Devon & Cornwall Police performance page is successful.\n",
      "https://www.police.uk/pu/your-area/devon-and-cornwall-police/performance/compare-your-area/?tc=DEV.4063 is not disallowed\n",
      "https://www.police.uk/pu/your-area/dorset-police/performance/performance-dorset-police/?tc=55.CP3001 is not disallowed\n",
      "Navigation to the Dorset Police performance page is successful.\n",
      "https://www.police.uk/pu/your-area/dorset-police/performance/compare-your-area/?tc=55.CP3001 is not disallowed\n",
      "https://www.police.uk/pu/your-area/durham-constabulary/performance/performance-durham-police/?tc=DHAM11 is not disallowed\n",
      "Navigation to the Durham Constabulary performance page is successful.\n",
      "https://www.police.uk/pu/your-area/durham-constabulary/performance/compare-your-area/?tc=DHAM11 is not disallowed\n",
      "https://www.police.uk/pu/your-area/dyfed-powys-police/performance/performance-dyfed-powys-police/?tc=A005 is not disallowed\n",
      "Navigation to the Dyfed-Powys Police performance page is successful.\n",
      "https://www.police.uk/pu/your-area/dyfed-powys-police/performance/compare-your-area/?tc=A005 is not disallowed\n",
      "https://www.police.uk/pu/your-area/essex-police/performance/performance-essex-police/?tc=NB102 is not disallowed\n",
      "Navigation to the Essex Police performance page is successful.\n",
      "https://www.police.uk/pu/your-area/essex-police/performance/compare-your-area/?tc=NB102 is not disallowed\n",
      "https://www.police.uk/pu/your-area/gloucestershire-constabulary/performance/performance-gloucestershire-constabulary/?tc=BB3 is not disallowed\n",
      "Navigation to the Gloucestershire Constabulary performance page is successful.\n",
      "https://www.police.uk/pu/your-area/gloucestershire-constabulary/performance/compare-your-area/?tc=BB3 is not disallowed\n",
      "https://www.police.uk/pu/your-area/greater-manchester-police/performance/performance-greater-manchester-police/?tc=AC20 is not disallowed\n",
      "Navigation to the Greater Manchester Police performance page is successful.\n",
      "https://www.police.uk/pu/your-area/greater-manchester-police/performance/compare-your-area/?tc=AC20 is not disallowed\n",
      "https://www.police.uk/pu/your-area/gwent-police/performance/performance-gwent-police/?tc=TC83 is not disallowed\n",
      "Navigation to the Gwent Police performance page is successful.\n",
      "https://www.police.uk/pu/your-area/gwent-police/performance/compare-your-area/?tc=TC83 is not disallowed\n",
      "https://www.police.uk/pu/your-area/hampshire-constabulary/performance/performance-hampshire-constabulary/?tc=9WC02 is not disallowed\n",
      "Navigation to the Hampshire Constabulary performance page is successful.\n",
      "https://www.police.uk/pu/your-area/hampshire-constabulary/performance/compare-your-area/?tc=9WC02 is not disallowed\n",
      "https://www.police.uk/pu/your-area/hertfordshire-constabulary/performance/performance-hertfordshire-constabulary/?tc=B01 is not disallowed\n",
      "Navigation to the Hertfordshire Constabulary performance page is successful.\n",
      "https://www.police.uk/pu/your-area/hertfordshire-constabulary/performance/compare-your-area/?tc=B01 is not disallowed\n",
      "https://www.police.uk/pu/your-area/humberside-police/performance/performance-humberside-police/?tc=33 is not disallowed\n",
      "Navigation to the Humberside Police performance page is successful.\n",
      "https://www.police.uk/pu/your-area/humberside-police/performance/compare-your-area/?tc=33 is not disallowed\n",
      "https://www.police.uk/pu/your-area/kent-police/performance/performance-kent-police/?tc=YA36 is not disallowed\n",
      "Navigation to the Kent Police performance page is successful.\n",
      "https://www.police.uk/pu/your-area/kent-police/performance/compare-your-area/?tc=YA36 is not disallowed\n",
      "https://www.police.uk/pu/your-area/lancashire-constabulary/performance/performance-lancashire-constabulary/?tc=C21 is not disallowed\n",
      "Navigation to the Lancashire Constabulary performance page is successful.\n",
      "https://www.police.uk/pu/your-area/lancashire-constabulary/performance/compare-your-area/?tc=C21 is not disallowed\n",
      "Not enough buttons found.\n",
      "https://www.police.uk/pu/your-area/leicestershire-police/performance/performance-leicestershire-police/?tc=NH20 is not disallowed\n",
      "Navigation to the Leicestershire Police performance page is successful.\n",
      "https://www.police.uk/pu/your-area/leicestershire-police/performance/compare-your-area/?tc=NH20 is not disallowed\n",
      "https://www.police.uk/pu/your-area/lincolnshire-police/performance/performance-lincolnshire-police/?tc=NC07 is not disallowed\n",
      "Navigation to the Lincolnshire Police performance page is successful.\n",
      "https://www.police.uk/pu/your-area/lincolnshire-police/performance/compare-your-area/?tc=NC07 is not disallowed\n",
      "https://www.police.uk/pu/your-area/merseyside-police/performance/performance-merseyside-police/?tc=LPL2B is not disallowed\n",
      "Navigation to the Merseyside Police performance page is successful.\n",
      "https://www.police.uk/pu/your-area/merseyside-police/performance/compare-your-area/?tc=LPL2B is not disallowed\n",
      "https://www.police.uk/pu/your-area/police-service-of-northern-ireland/performance/performance-psni/?tc=Strabane is not disallowed\n",
      "Navigation to the MOPAC performance page is successful.\n",
      "No data available\n",
      "https://www.police.uk/pu/your-area/norfolk-constabulary/performance/performance-norfolk-constabulary/?tc=D12 is not disallowed\n",
      "Navigation to the Norfolk Constabulary performance page is successful.\n",
      "https://www.police.uk/pu/your-area/norfolk-constabulary/performance/compare-your-area/?tc=D12 is not disallowed\n",
      "https://www.police.uk/pu/your-area/north-wales-police/performance/performance-north-wales-police/?tc=WCW18 is not disallowed\n",
      "Navigation to the North Wales Police performance page is successful.\n",
      "https://www.police.uk/pu/your-area/north-wales-police/performance/compare-your-area/?tc=WCW18 is not disallowed\n",
      "https://www.police.uk/pu/your-area/north-yorkshire-police/performance/performance-north-yorkshire-police/?tc=york-outer is not disallowed\n",
      "Navigation to the North Yorkshire Police performance page is successful.\n",
      "https://www.police.uk/pu/your-area/north-yorkshire-police/performance/compare-your-area/?tc=york-outer is not disallowed\n",
      "https://www.police.uk/pu/your-area/northamptonshire-police/performance/performance-northamptonshire-police/?tc=NN6 is not disallowed\n",
      "Navigation to the Northamptonshire Police performance page is successful.\n",
      "https://www.police.uk/pu/your-area/northamptonshire-police/performance/compare-your-area/?tc=NN6 is not disallowed\n",
      "https://www.police.uk/pu/your-area/northumbria-police/performance/performance-northumbria-police/?tc=A5 is not disallowed\n",
      "Navigation to the Northumbria Police performance page is successful.\n",
      "https://www.police.uk/pu/your-area/northumbria-police/performance/compare-your-area/?tc=A5 is not disallowed\n",
      "https://www.police.uk/pu/your-area/nottinghamshire-police/performance/performance-nottinghamshire-police/?tc=31-28 is not disallowed\n",
      "Navigation to the Nottinghamshire Police performance page is successful.\n",
      "https://www.police.uk/pu/your-area/nottinghamshire-police/performance/compare-your-area/?tc=31-28 is not disallowed\n",
      "https://www.police.uk/pu/your-area/south-wales-police/performance/performance-south-wales-police/?tc=W05000898 is not disallowed\n",
      "Navigation to the South Wales Police performance page is successful.\n",
      "https://www.police.uk/pu/your-area/south-wales-police/performance/compare-your-area/?tc=W05000898 is not disallowed\n",
      "https://www.police.uk/pu/your-area/south-yorkshire-police/performance/performance-south-yorkshire-police/?tc=KC is not disallowed\n",
      "Navigation to the South Yorkshire Police performance page is successful.\n",
      "https://www.police.uk/pu/your-area/south-yorkshire-police/performance/compare-your-area/?tc=KC is not disallowed\n",
      "https://www.police.uk/pu/your-area/staffordshire-police/performance/performance-staffordshire-police/?tc=WM0 is not disallowed\n",
      "Navigation to the Staffordshire Police performance page is successful.\n",
      "https://www.police.uk/pu/your-area/staffordshire-police/performance/compare-your-area/?tc=WM0 is not disallowed\n",
      "https://www.police.uk/pu/your-area/suffolk-constabulary/performance/performance-suffolk-constabulary/?tc=S16 is not disallowed\n",
      "Navigation to the Suffolk Constabulary performance page is successful.\n",
      "https://www.police.uk/pu/your-area/suffolk-constabulary/performance/compare-your-area/?tc=S16 is not disallowed\n",
      "https://www.police.uk/pu/your-area/surrey-police/performance/performance-surrey-police/?tc=GDAS is not disallowed\n",
      "Navigation to the Surrey Police performance page is successful.\n",
      "https://www.police.uk/pu/your-area/surrey-police/performance/compare-your-area/?tc=GDAS is not disallowed\n",
      "https://www.police.uk/pu/your-area/sussex-police/performance/performance-sussex-police/?tc=ES1NH1 is not disallowed\n",
      "Navigation to the Sussex Police performance page is successful.\n",
      "https://www.police.uk/pu/your-area/sussex-police/performance/compare-your-area/?tc=ES1NH1 is not disallowed\n",
      "https://www.police.uk/pu/your-area/thames-valley-police/performance/performance-thames-valley-police/?tc=N473 is not disallowed\n",
      "Navigation to the Thames Valley Police performance page is successful.\n",
      "https://www.police.uk/pu/your-area/thames-valley-police/performance/compare-your-area/?tc=N473 is not disallowed\n",
      "https://www.police.uk/pu/your-area/warwickshire-police/performance/performance-warwickshire-police/?tc=wrw is not disallowed\n",
      "Navigation to the Warwickshire Police performance page is successful.\n",
      "https://www.police.uk/pu/your-area/warwickshire-police/performance/compare-your-area/?tc=wrw is not disallowed\n",
      "https://www.police.uk/pu/your-area/west-mercia-police/performance/performance-west-mercia-police/?tc=PAC13 is not disallowed\n",
      "Navigation to the West Mercia Police performance page is successful.\n",
      "https://www.police.uk/pu/your-area/west-mercia-police/performance/compare-your-area/?tc=PAC13 is not disallowed\n",
      "https://www.police.uk/pu/your-area/west-midlands-police/performance/performance-west-midlands-police/?tc=WS002 is not disallowed\n",
      "Navigation to the West Midlands Police performance page is successful.\n",
      "https://www.police.uk/pu/your-area/west-midlands-police/performance/compare-your-area/?tc=WS002 is not disallowed\n",
      "https://www.police.uk/pu/your-area/west-yorkshire-police/performance/performance-west-yorkshire-police/?tc=WDT_WEST is not disallowed\n",
      "Navigation to the West Yorkshire Police performance page is successful.\n",
      "https://www.police.uk/pu/your-area/west-yorkshire-police/performance/compare-your-area/?tc=WDT_WEST is not disallowed\n",
      "https://www.police.uk/pu/your-area/wiltshire-police/performance/performance-wiltshire-police/?tc=EZ11 is not disallowed\n",
      "Navigation to the Wiltshire Police performance page is successful.\n",
      "https://www.police.uk/pu/your-area/wiltshire-police/performance/compare-your-area/?tc=EZ11 is not disallowed\n"
     ]
    }
   ],
   "source": [
    "# Setup User-Agent\n",
    "user_agent = \"FriendlyUniStudentResearcher/1.0 (+mailto:soc204@exeter.ac.uk)\"\n",
    "\n",
    "#Provide the path to your own version of the chromedriver\n",
    "chromedriver_path = r\"C:\\Users\\socor\\Downloads\\chromedriver-win64\\chromedriver-win64\\chromedriver.exe\"\n",
    "\n",
    "chrome_options = establish_user_agent(user_agent, chromedriver_path)\n",
    "\n",
    "# Initialize the WebDriver (assuming Chrome)\n",
    "driver = init_chrome_webdriver(chromedriver_path,chrome_options)\n",
    "\n",
    "# Set target URL\n",
    "target = 'https://www.police.uk/pu/your-area/avon-somerset-constabulary/performance/financial-reserves/'\n",
    "\n",
    "try:\n",
    "    # Navigate to a website that echoes back the user-agent\n",
    "    test_user_agent(driver, user_agent)\n",
    "        \n",
    "    # Navigate to target website robots.txt and save the disallowed patterns\n",
    "    disallowed_patterns = establish_bot_permissions(driver, target)\n",
    "    \n",
    "    # Collect the names of Force areas for which data is available\n",
    "    Force_Areas = get_force_areas(driver, target)\n",
    "    \n",
    "    target = 'https://www.police.uk/pu/performance/'\n",
    "    disallowed_patterns = establish_bot_permissions(driver, target, disallowed_patterns)\n",
    "    driver.get(target)\n",
    "    force_area_urls = {}\n",
    "    jurisdictions = {}\n",
    "    # Target each force area's performance data\n",
    "    for area in Force_Areas[:-1]:\n",
    "        force_area_urls = navigate_to_force_area_performance(driver, area, disallowed_patterns, force_area_urls)\n",
    "        jurisdictions = get_jurisdictions(driver, area, disallowed_patterns)\n",
    "        #get force area's historical financial reserves\n",
    "        financial_reserves = get_force_area_finances(driver, area, disallowed_patterns)\n",
    "        \n",
    "        driver.get('https://www.police.uk/pu/performance/')\n",
    "        time.sleep(2)    \n",
    "\n",
    "    time.sleep(10)\n",
    "    \n",
    "except Exception as e:\n",
    "    print(f\"An error occurred: {e}\")\n",
    "finally:\n",
    "    # Close the browser\n",
    "    driver.quit()"
   ]
  },
  {
   "cell_type": "code",
   "execution_count": 114,
   "metadata": {},
   "outputs": [
    {
     "name": "stdout",
     "output_type": "stream",
     "text": [
      "{'Avon and Somerset Constabulary': {'Force average': '83.24', 'Bath & North East Somerset': '64.78', 'South Gloucestershire': '65.18', 'Somerset': '70.55', 'North Somerset': '71.27', 'Bristol': '118.47'}, 'Bedfordshire Police': {'Force average': '73.8', 'Central Bedfordshire': '55.34', 'Bedford': '78.27', 'Luton': '88.51'}, 'Cambridgeshire Constabulary': {'Force average': '84.51', 'East Cambridgeshire': '48.32', 'South Cambridgeshire': '49.05', 'Huntingdonshire': '61.03', 'Fenland': '79.24', 'Peterborough': '120.79', 'Cambridge': '121.05'}, 'Cheshire Constabulary': {'Force average': '78.23', 'Cheshire East': '69.88', 'Cheshire West': '77.20', 'Warrington': '78.48', 'Halton': '102.31'}, 'Cleveland Police': {'Force average': '144.57', 'Stockton-on-Tees': '125.09', 'Redcar & Cleveland': '125.97', 'Hartlepool': '153.47', 'Middlesbrough': '183.78'}, 'Cumbria Constabulary': {'Force average': '74.1', 'South Lakeland': '52.42', 'Eden': '60.74', 'Copeland': '66.37', 'Allerdale': '72.45', 'Barrow-in-Furness': '88.96', 'Carlisle': '94.22'}, 'Derbyshire Constabulary': {'Force average': '85.62', 'Derbyshire Dales': '50.15', 'North East Derbyshire': '58.25', 'South Derbyshire': '63.81', 'High Peak': '66.20', 'Amber Valley': '72.62', 'Bolsover': '82.79', 'Erewash': '85.23', 'Chesterfield': '103.56', 'Derby': '119.25'}, 'Devon & Cornwall Police': {'Force average': '58.6', 'Isles of Scilly': '24.11', 'South Devon & Dartmoor': '41.47', 'East & Mid Devon': '43.75', 'Northern Devon': '53.57', 'Cornwall': '55.08', 'Exeter': '79.84', 'Torbay': '86.93', 'Plymouth': '90.54'}, 'Dorset Police': {'Force average': '66.92', 'Dorset County': '50.25', 'Poole': '70.28', 'Bournemouth': '96.75'}, 'Durham Constabulary': {'Force average': '106.92', 'County Durham': '104.39', 'Darlington': '116.30'}, 'Dyfed-Powys Police': {'Force average': '78.9', 'Powys': '46.06', 'Carmarthenshire': '51.60', 'Ceredigion': '55.49', 'Pembrokeshire': '55.95'}, 'Essex Police': {'Force average': '86.32', 'Rochford': '51.28', 'Maldon': '51.45', 'Uttlesford': '61.10', 'Castle Point': '62.36', 'Braintree': '66.84', 'Brentwood': '75.57', 'Epping Forest': '77.02', 'Tendring': '87.74', 'Chelmsford': '89.64', 'Colchester': '91.53', 'Thurrock': '94.68', 'Basildon': '102.87', 'Southend-on-Sea': '103.49', 'Harlow': '125.18'}, 'Gloucestershire Constabulary': {'Force average': '85.25', 'Cotswold': '55.11', 'Forest of Dean': '59.61', 'Tewkesbury': '59.96', 'Stroud': '62.12', 'Cheltenham': '101.66', 'Gloucester': '126.84'}, 'Greater Manchester Police': {'Force average': '128.42', 'Trafford': '85.83', 'Stockport': '92.15', 'Bury': '110.94', 'Wigan': '111.20', 'Tameside': '118.05', 'Bolton': '121.54', 'Oldham': '126.14', 'Rochdale': '129.35', 'Salford': '135.20', 'Manchester': '181.50'}, 'Gwent Police': {'Force average': '99.22', 'Monmouthshire': '63.88', 'Caerphilly': '87.59', 'Torfaen': '103.00', 'Blaenau Gwent': '115.29', 'Newport': '125.06'}, 'Hampshire Constabulary': {'Force average': '85.8', 'Fareham': '52.60', 'East Hampshire': '53.45', 'New Forest': '63.61', 'Test Valley': '66.45', 'Winchester': '67.09', 'Eastleigh': '67.24', 'North Hampshire': '69.76', 'Isle of Wight': '79.14', 'Havant': '83.55', 'Gosport': '84.53', 'Portsmouth': '124.51', 'Southampton': '136.93'}, 'Hertfordshire Constabulary': {'Force average': '64.13', 'North Hertfordshire': '46.43', 'Three Rivers': '49.37', 'East Hertfordshire': '50.27', 'St Albans': '57.82', 'Dacorum': '63.31', 'Broxbourne': '68.77', 'Welwyn & Hatfield': '71.75', 'Hertsmere': '73.17', 'Stevenage': '81.48', 'Watford': '87.51'}, 'Humberside Police': {'Force average': '110.84', 'East Riding of Yorkshire': '56.71', 'North Lincolnshire': '80.76', 'North East Lincolnshire': '123.45', 'Kingston upon Hull': '140.43'}, 'Kent Police': {'Force average': '92.93', 'Sevenoaks': '63.96', 'Tunbridge Wells': '66.25', 'Tonbridge & Malling': '69.48', 'Shepway': '80.96', 'Ashford': '84.21', 'Maidstone': '89.79', 'Canterbury': '90.15', 'Dover': '92.18', 'Swale': '101.56', 'Dartford & Gravesham': '104.28', 'Medway': '108.82', 'Thanet': '114.33'}, 'Lancashire Constabulary': {}, 'Leicestershire Police': {'Force average': '94.96', 'Rutland': '44.01', 'Harborough': '55.24', 'Oadby & Wigston': '68.77', 'Hinckley & Bosworth': '68.84', 'Melton': '68.88', 'Blaby': '71.26', 'Charnwood': '78.73', 'North West Leicestershire': '84.58', 'Leicester': '134.41'}, 'Lincolnshire Police': {'Force average': '75.72', 'North Kesteven': '43.72', 'South Kesteven': '58.27', 'South Holland': '60.78', 'West Lindsey': '69.98', 'East Lindsey': '81.31', 'Boston': '86.81', 'Lincoln': '139.87'}, 'Merseyside Police': {'Force average': '111.7', 'Wirral': '86.74', 'Sefton': '91.19', 'Knowsley': '105.81', 'St Helens': '108.92', 'Liverpool': '141.62'}, 'MOPAC': {}, 'Norfolk Constabulary': {'Force average': '69.21', 'Broadland': '41.66', 'North Norfolk': '46.42', 'South Norfolk': '46.95', 'Breckland': '57.81', \"King's Lynn & West Norfolk\": '65.90', 'Great Yarmouth': '101.53', 'Norwich': '120.60'}, 'North Wales Police': {'Force average': '84.07', 'Isle of Anglesey': '60.45', 'Gwynedd': '71.69', 'Flintshire': '72.23', 'Conwy': '91.66', 'Wrexham': '97.89', 'Denbighshire': '107.44'}, 'North Yorkshire Police': {'Force average': '59.65', 'North Yorkshire': '56.22', 'York': '68.91'}, 'Northamptonshire Police': {'Force average': '83.08', 'Daventry & South Northamptonshire': '47.77', 'East Northamptonshire': '61.18', 'Kettering': '85.89', 'Wellingborough': '90.31', 'Corby': '90.54', 'Northampton': '112.52'}, 'Northumbria Police': {'Force average': '100.73', 'Northumberland': '77.46', 'North Tyneside': '89.32', 'Gateshead': '97.59', 'South Tyneside': '104.96', 'Sunderland': '107.77', 'Newcastle upon Tyne': '126.71'}, 'Nottinghamshire Police': {'Force average': '91.75', 'South Nottinghamshire': '55.64', 'Newark & Sherwood': '70.31', 'Bassetlaw': '88.90', 'Ashfield': '89.26', 'Mansfield': '114.93', 'Nottingham': '125.79'}, 'South Wales Police': {'Force average': '83.63', 'Vale of Glamorgan': '63.40', 'Neath & Port Talbot': '64.33', 'Bridgend': '68.93', 'Rhondda Cynon Taff': '71.94', 'Swansea': '78.35', 'Merthyr Tydfil': '97.63', 'Cardiff': '108.85'}, 'South Yorkshire Police': {'Force average': '113.65', 'Rotherham': '101.89', 'Sheffield': '105.07', 'Barnsley': '111.11', 'Doncaster': '136.61'}, 'Staffordshire Police': {'Force average': '80.51', 'Staffordshire Moorlands': '52.54', 'South Staffordshire': '53.27', 'Lichfield': '60.89', 'Stafford': '64.50', 'Newcastle under Lyme': '71.23', 'East Staffordshire': '74.43', 'Cannock Chase': '75.68', 'Tamworth': '79.32', 'Stoke on Trent': '124.13'}, 'Suffolk Constabulary': {'Force average': '63.21', 'Suffolk Coastal': '41.90', 'Western Suffolk': '51.65', 'Waveney': '73.06', 'Ipswich': '101.18'}, 'Surrey Police': {'Force average': '62.25', 'Waverley': '45.30', 'Tandridge': '53.81', 'Surrey Heath': '55.44', 'Mole Valley': '55.74', 'Elmbridge': '57.28', 'Reigate & Banstead': '62.52', 'Woking': '65.73', 'Epsom & Ewell': '66.46', 'Guildford': '68.94', 'Runnymede': '71.47', 'Spelthorne': '84.30'}, 'Sussex Police': {'Force average': '79.09', 'Wealden': '43.22', 'Mid Sussex': '50.50', 'Horsham': '54.20', 'Lewes': '57.48', 'Rother': '59.19', 'Chichester': '67.70', 'Arun': '73.89', 'Adur': '80.21', 'Worthing': '94.85', 'Brighton & Hove': '99.54', 'Eastbourne': '103.91', 'Hastings': '105.94', 'Crawley': '124.19'}, 'Thames Valley Police': {'Force average': '76.12', 'Chiltern': '44.11', 'South Oxfordshire': '49.40', 'Vale of White Horse': '51.24', 'Wokingham': '52.16', 'West Oxfordshire': '54.85', 'West Berkshire': '62.20', 'Aylesbury Vale': '62.69', 'Bracknell Forest': '64.37', 'Windsor & Maidenhead': '66.41', 'South Buckinghamshire': '67.28', 'Wycombe': '70.79', 'Cherwell': '79.83', 'Milton Keynes': '103.15', 'Oxford': '107.51', 'Slough': '111.96', 'Reading': '117.34'}, 'Warwickshire Police': {'Force average': '71.41', 'Rugby': '65.13', 'South Warwickshire': '65.27', 'North Warwickshire': '69.59', 'Nuneaton & Bedworth': '87.56'}, 'West Mercia Police': {'Force average': '71.74', 'Shropshire': '58.99', 'Herefordshire': '60.10', 'South Worcestershire': '75.09', 'North Worcestershire': '75.13', 'Telford & Wrekin': '93.40'}, 'West Midlands Police': {'Force average': '119.7', 'Dudley': '87.83', 'Solihull': '92.44', 'Walsall': '111.79', 'Coventry': '113.62', 'Sandwell': '114.62', 'Wolverhampton': '126.75', 'Birmingham': '133.78'}, 'West Yorkshire Police': {'Force average': '132.34', 'Kirklees': '107.70', 'Calderdale': '123.63', 'Wakefield': '138.20', 'Bradford': '139.58', 'Leeds': '140.83'}, 'Wiltshire Police': {'Force average': '59.43', 'Wiltshire County': '51.05', 'Swindon': '77.57'}}\n"
     ]
    }
   ],
   "source": [
    "print(jurisdictions)"
   ]
  },
  {
   "cell_type": "markdown",
   "metadata": {},
   "source": [
    "# Data Cleaning"
   ]
  },
  {
   "cell_type": "markdown",
   "metadata": {},
   "source": [
    "The webpage states that data is not available for \"City of London Police\" force area, so we'll add that force area manually."
   ]
  },
  {
   "cell_type": "code",
   "execution_count": 20,
   "metadata": {},
   "outputs": [],
   "source": [
    "Force_Areas.append(\"City of London Police\")"
   ]
  },
  {
   "cell_type": "markdown",
   "metadata": {},
   "source": [
    "We need to store that data in a pandas series to unlock better functionality:"
   ]
  },
  {
   "cell_type": "code",
   "execution_count": 21,
   "metadata": {},
   "outputs": [
    {
     "data": {
      "text/plain": [
       "0     Avon and Somerset Constabulary\n",
       "1                Bedfordshire Police\n",
       "2        Cambridgeshire Constabulary\n",
       "3              Cheshire Constabulary\n",
       "4                   Cleveland Police\n",
       "5               Cumbria Constabulary\n",
       "6            Derbyshire Constabulary\n",
       "7            Devon & Cornwall Police\n",
       "8                      Dorset Police\n",
       "9                Durham Constabulary\n",
       "10                Dyfed-Powys Police\n",
       "11                      Essex Police\n",
       "12      Gloucestershire Constabulary\n",
       "13         Greater Manchester Police\n",
       "14                      Gwent Police\n",
       "15            Hampshire Constabulary\n",
       "16        Hertfordshire Constabulary\n",
       "17                 Humberside Police\n",
       "18                       Kent Police\n",
       "19           Lancashire Constabulary\n",
       "20             Leicestershire Police\n",
       "21               Lincolnshire Police\n",
       "22                 Merseyside Police\n",
       "23                             MOPAC\n",
       "24              Norfolk Constabulary\n",
       "25                North Wales Police\n",
       "26            North Yorkshire Police\n",
       "27           Northamptonshire Police\n",
       "28                Northumbria Police\n",
       "29            Nottinghamshire Police\n",
       "30                South Wales Police\n",
       "31            South Yorkshire Police\n",
       "32              Staffordshire Police\n",
       "33              Suffolk Constabulary\n",
       "34                     Surrey Police\n",
       "35                     Sussex Police\n",
       "36              Thames Valley Police\n",
       "37               Warwickshire Police\n",
       "38                West Mercia Police\n",
       "39              West Midlands Police\n",
       "40             West Yorkshire Police\n",
       "41                  Wiltshire Police\n",
       "42             Total England & Wales\n",
       "43             City of London Police\n",
       "dtype: object"
      ]
     },
     "execution_count": 21,
     "metadata": {},
     "output_type": "execute_result"
    }
   ],
   "source": [
    "import pandas as pd\n",
    "Force_Area = pd.Series(Force_Areas)\n",
    "Force_Area"
   ]
  },
  {
   "cell_type": "markdown",
   "metadata": {},
   "source": [
    "https://github.com/SOCStudentUoE/BEE2041-Empirical-Assignment"
   ]
  }
 ],
 "metadata": {
  "kernelspec": {
   "display_name": "Python 3",
   "language": "python",
   "name": "python3"
  },
  "language_info": {
   "codemirror_mode": {
    "name": "ipython",
    "version": 3
   },
   "file_extension": ".py",
   "mimetype": "text/x-python",
   "name": "python",
   "nbconvert_exporter": "python",
   "pygments_lexer": "ipython3",
   "version": "3.8.3"
  }
 },
 "nbformat": 4,
 "nbformat_minor": 4
}
