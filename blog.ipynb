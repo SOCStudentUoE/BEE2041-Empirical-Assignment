{
 "cells": [
  {
   "cell_type": "markdown",
   "metadata": {},
   "source": [
    "# BEE2041 Empirical Project Blog"
   ]
  },
  {
   "cell_type": "code",
   "execution_count": 59,
   "metadata": {},
   "outputs": [
    {
     "name": "stdout",
     "output_type": "stream",
     "text": [
      "Requirement already up-to-date: selenium in c:\\users\\socor\\anaconda3\\lib\\site-packages (4.19.0)\n",
      "Requirement already satisfied, skipping upgrade: typing_extensions>=4.9.0 in c:\\users\\socor\\anaconda3\\lib\\site-packages (from selenium) (4.10.0)\n",
      "Collecting certifi>=2021.10.8\n",
      "  Downloading certifi-2024.2.2-py3-none-any.whl (163 kB)\n",
      "Requirement already satisfied, skipping upgrade: trio-websocket~=0.9 in c:\\users\\socor\\anaconda3\\lib\\site-packages (from selenium) (0.11.1)\n",
      "Requirement already satisfied, skipping upgrade: trio~=0.17 in c:\\users\\socor\\anaconda3\\lib\\site-packages (from selenium) (0.25.0)\n",
      "Collecting urllib3[socks]<3,>=1.26\n",
      "  Downloading urllib3-2.2.1-py3-none-any.whl (121 kB)\n",
      "Requirement already satisfied, skipping upgrade: wsproto>=0.14 in c:\\users\\socor\\anaconda3\\lib\\site-packages (from trio-websocket~=0.9->selenium) (1.2.0)\n",
      "Requirement already satisfied, skipping upgrade: exceptiongroup; python_version < \"3.11\" in c:\\users\\socor\\anaconda3\\lib\\site-packages (from trio-websocket~=0.9->selenium) (1.2.0)\n",
      "Requirement already satisfied, skipping upgrade: outcome in c:\\users\\socor\\anaconda3\\lib\\site-packages (from trio~=0.17->selenium) (1.3.0.post0)\n",
      "Requirement already satisfied, skipping upgrade: attrs>=23.2.0 in c:\\users\\socor\\anaconda3\\lib\\site-packages (from trio~=0.17->selenium) (23.2.0)\n",
      "Requirement already satisfied, skipping upgrade: sortedcontainers in c:\\users\\socor\\anaconda3\\lib\\site-packages (from trio~=0.17->selenium) (2.2.2)\n",
      "Requirement already satisfied, skipping upgrade: sniffio>=1.3.0 in c:\\users\\socor\\anaconda3\\lib\\site-packages (from trio~=0.17->selenium) (1.3.1)\n",
      "Requirement already satisfied, skipping upgrade: idna in c:\\users\\socor\\anaconda3\\lib\\site-packages (from trio~=0.17->selenium) (2.10)\n",
      "Requirement already satisfied, skipping upgrade: cffi>=1.14; os_name == \"nt\" and implementation_name != \"pypy\" in c:\\users\\socor\\anaconda3\\lib\\site-packages (from trio~=0.17->selenium) (1.14.0)\n",
      "Requirement already satisfied, skipping upgrade: pysocks!=1.5.7,<2.0,>=1.5.6; extra == \"socks\" in c:\\users\\socor\\anaconda3\\lib\\site-packages (from urllib3[socks]<3,>=1.26->selenium) (1.7.1)\n",
      "Requirement already satisfied, skipping upgrade: h11<1,>=0.9.0 in c:\\users\\socor\\anaconda3\\lib\\site-packages (from wsproto>=0.14->trio-websocket~=0.9->selenium) (0.14.0)\n",
      "Requirement already satisfied, skipping upgrade: pycparser in c:\\users\\socor\\anaconda3\\lib\\site-packages (from cffi>=1.14; os_name == \"nt\" and implementation_name != \"pypy\"->trio~=0.17->selenium) (2.20)\n",
      "Installing collected packages: certifi, urllib3\n",
      "  Attempting uninstall: certifi\n",
      "    Found existing installation: certifi 2020.6.20\n",
      "    Uninstalling certifi-2020.6.20:\n",
      "      Successfully uninstalled certifi-2020.6.20\n",
      "  Attempting uninstall: urllib3\n",
      "    Found existing installation: urllib3 1.25.9\n",
      "    Uninstalling urllib3-1.25.9:\n",
      "      Successfully uninstalled urllib3-1.25.9\n",
      "Successfully installed certifi-2024.2.2 urllib3-2.2.1\n",
      "Note: you may need to restart the kernel to use updated packages.\n"
     ]
    },
    {
     "name": "stderr",
     "output_type": "stream",
     "text": [
      "ERROR: requests 2.24.0 has requirement urllib3!=1.25.0,!=1.25.1,<1.26,>=1.21.1, but you'll have urllib3 2.2.1 which is incompatible.\n"
     ]
    }
   ],
   "source": [
    "pip install selenium --upgrade"
   ]
  },
  {
   "cell_type": "code",
   "execution_count": 37,
   "metadata": {},
   "outputs": [
    {
     "data": {
      "text/plain": [
       "<html lang=\"en\" op=\"news\"><head><meta content=\"origin\" name=\"referrer\"/><meta content=\"width=device-width, initial-scale=1.0\" name=\"viewport\"/><link href=\"news.css?i3TCm9mQaQeIHjM4t2Io\" rel=\"stylesheet\" type=\"text/css\"/>\n",
       "<link href=\"y18.svg\" rel=\"icon\"/>\n",
       "<link href=\"rss\" rel=\"alternate\" title=\"RSS\" type=\"application/rss+xml\"/>\n",
       "<title>Hacker News</title></head><body><center><table bgcolor=\"#f6f6ef\" border=\"0\" cellpadding=\"0\" cellspacing=\"0\" id=\"hnmain\" width=\"85%\">\n",
       "<tr><td bgcolor=\"#ff6600\"><table border=\"0\" cellpadding=\"0\" cellspacing=\"0\" style=\"padding:2px\" width=\"100%\"><tr><td style=\"width:18px;padding-right:4px\"><a href=\"https://news.ycombinator.com\"><img height=\"18\" src=\"y18.svg\" style=\"border:1px white solid; display:block\" width=\"18\"/></a></td>\n",
       "<td style=\"line-height:12pt; height:10px;\"><span class=\"pagetop\"><b class=\"hnname\"><a href=\"news\">Hacker News</a></b>\n",
       "<a href=\"newest\">new</a> | <a href=\"front\">past</a> | <a href=\"newcomments\">comments</a> | <a href=\"ask\">ask</a> | <a href=\"show\">show</a> | <a href=\"jobs\">jobs</a> | <a href=\"submit\" rel=\"nofollow\">submit</a> </span></td><td style=\"text-align:right;padding-right:4px;\"><span class=\"pagetop\">\n",
       "<a href=\"login?goto=news\">login</a>\n",
       "</span></td>\n",
       "</tr></table></td></tr>\n",
       "<tr id=\"pagespace\" style=\"height:10px\" title=\"\"></tr><tr><td><table border=\"0\" cellpadding=\"0\" cellspacing=\"0\">\n",
       "<tr class=\"athing\" id=\"39960717\">\n",
       "<td align=\"right\" class=\"title\" valign=\"top\"><span class=\"rank\">1.</span></td> <td class=\"votelinks\" valign=\"top\"><center><a href=\"vote?id=39960717&amp;how=up&amp;goto=news\" id=\"up_39960717\"><div class=\"votearrow\" title=\"upvote\"></div></a></center></td><td class=\"title\"><span class=\"titleline\"><a href=\"https://arxiv.org/abs/2404.02258\">Mixture-of-Depths: Dynamically allocating compute in transformers</a><span class=\"sitebit comhead\"> (<a href=\"from?site=arxiv.org\"><span class=\"sitestr\">arxiv.org</span></a>)</span></span></td></tr><tr><td colspan=\"2\"></td><td class=\"subtext\"><span class=\"subline\">\n",
       "<span class=\"score\" id=\"score_39960717\">114 points</span> by <a class=\"hnuser\" href=\"user?id=milliondreams\">milliondreams</a> <span class=\"age\" title=\"2024-04-07T13:42:05\"><a href=\"item?id=39960717\">4 hours ago</a></span> <span id=\"unv_39960717\"></span> | <a href=\"hide?id=39960717&amp;goto=news\">hide</a> | <a href=\"item?id=39960717\">15 comments</a> </span>\n",
       "</td></tr>\n",
       "<tr class=\"spacer\" style=\"height:5px\"></tr>\n",
       "<tr class=\"athing\" id=\"39959380\">\n",
       "<td align=\"right\" class=\"title\" valign=\"top\"><span class=\"rank\">2.</span></td> <td class=\"votelinks\" valign=\"top\"><center><a href=\"vote?id=39959380&amp;how=up&amp;goto=news\" id=\"up_39959380\"><div class=\"votearrow\" title=\"upvote\"></div></a></center></td><td class=\"title\"><span class=\"titleline\"><a href=\"https://sourcegraph.com/blog/the-lifecycle-of-a-code-ai-completion\">The lifecycle of a code AI completion</a><span class=\"sitebit comhead\"> (<a href=\"from?site=sourcegraph.com\"><span class=\"sitestr\">sourcegraph.com</span></a>)</span></span></td></tr><tr><td colspan=\"2\"></td><td class=\"subtext\"><span class=\"subline\">\n",
       "<span class=\"score\" id=\"score_39959380\">34 points</span> by <a class=\"hnuser\" href=\"user?id=tosh\">tosh</a> <span class=\"age\" title=\"2024-04-07T08:55:03\"><a href=\"item?id=39959380\">2 hours ago</a></span> <span id=\"unv_39959380\"></span> | <a href=\"hide?id=39959380&amp;goto=news\">hide</a> | <a href=\"item?id=39959380\">discuss</a> </span>\n",
       "</td></tr>\n",
       "<tr class=\"spacer\" style=\"height:5px\"></tr>\n",
       "<tr class=\"athing\" id=\"39961868\">\n",
       "<td align=\"right\" class=\"title\" valign=\"top\"><span class=\"rank\">3.</span></td> <td class=\"votelinks\" valign=\"top\"><center><a href=\"vote?id=39961868&amp;how=up&amp;goto=news\" id=\"up_39961868\"><div class=\"votearrow\" title=\"upvote\"></div></a></center></td><td class=\"title\"><span class=\"titleline\"><a href=\"https://med.stanford.edu/news/all-news/2024/03/ai-patient-messages.html\">AI assists clinicians in responding to patient messages at Stanford Medicine</a><span class=\"sitebit comhead\"> (<a href=\"from?site=stanford.edu\"><span class=\"sitestr\">stanford.edu</span></a>)</span></span></td></tr><tr><td colspan=\"2\"></td><td class=\"subtext\"><span class=\"subline\">\n",
       "<span class=\"score\" id=\"score_39961868\">38 points</span> by <a class=\"hnuser\" href=\"user?id=namanyayg\">namanyayg</a> <span class=\"age\" title=\"2024-04-07T16:37:12\"><a href=\"item?id=39961868\">3 hours ago</a></span> <span id=\"unv_39961868\"></span> | <a href=\"hide?id=39961868&amp;goto=news\">hide</a> | <a href=\"item?id=39961868\">32 comments</a> </span>\n",
       "</td></tr>\n",
       "<tr class=\"spacer\" style=\"height:5px\"></tr>\n",
       "<tr class=\"athing\" id=\"39959946\">\n",
       "<td align=\"right\" class=\"title\" valign=\"top\"><span class=\"rank\">4.</span></td> <td class=\"votelinks\" valign=\"top\"><center><a href=\"vote?id=39959946&amp;how=up&amp;goto=news\" id=\"up_39959946\"><div class=\"votearrow\" title=\"upvote\"></div></a></center></td><td class=\"title\"><span class=\"titleline\"><a href=\"https://retrocomputing.stackexchange.com/questions/29787/did-any-processor-implement-an-integer-square-root-instruction\">Did any processor implement an integer square root instruction?</a><span class=\"sitebit comhead\"> (<a href=\"from?site=retrocomputing.stackexchange.com\"><span class=\"sitestr\">retrocomputing.stackexchange.com</span></a>)</span></span></td></tr><tr><td colspan=\"2\"></td><td class=\"subtext\"><span class=\"subline\">\n",
       "<span class=\"score\" id=\"score_39959946\">163 points</span> by <a class=\"hnuser\" href=\"user?id=rwallace\">rwallace</a> <span class=\"age\" title=\"2024-04-07T10:55:10\"><a href=\"item?id=39959946\">9 hours ago</a></span> <span id=\"unv_39959946\"></span> | <a href=\"hide?id=39959946&amp;goto=news\">hide</a> | <a href=\"item?id=39959946\">51 comments</a> </span>\n",
       "</td></tr>\n",
       "<tr class=\"spacer\" style=\"height:5px\"></tr>\n",
       "<tr class=\"athing\" id=\"39959069\">\n",
       "<td align=\"right\" class=\"title\" valign=\"top\"><span class=\"rank\">5.</span></td> <td class=\"votelinks\" valign=\"top\"><center><a href=\"vote?id=39959069&amp;how=up&amp;goto=news\" id=\"up_39959069\"><div class=\"votearrow\" title=\"upvote\"></div></a></center></td><td class=\"title\"><span class=\"titleline\"><a href=\"https://thebaffler.com/odds-and-ends/its-not-what-the-world-needs-right-now-norman-wilson\">It's not what the world needs right now</a><span class=\"sitebit comhead\"> (<a href=\"from?site=thebaffler.com\"><span class=\"sitestr\">thebaffler.com</span></a>)</span></span></td></tr><tr><td colspan=\"2\"></td><td class=\"subtext\"><span class=\"subline\">\n",
       "<span class=\"score\" id=\"score_39959069\">87 points</span> by <a class=\"hnuser\" href=\"user?id=cribbles\">cribbles</a> <span class=\"age\" title=\"2024-04-07T07:56:40\"><a href=\"item?id=39959069\">3 hours ago</a></span> <span id=\"unv_39959069\"></span> | <a href=\"hide?id=39959069&amp;goto=news\">hide</a> | <a href=\"item?id=39959069\">50 comments</a> </span>\n",
       "</td></tr>\n",
       "<tr class=\"spacer\" style=\"height:5px\"></tr>\n",
       "<tr class=\"athing\" id=\"39960645\">\n",
       "<td align=\"right\" class=\"title\" valign=\"top\"><span class=\"rank\">6.</span></td> <td class=\"votelinks\" valign=\"top\"><center><a href=\"vote?id=39960645&amp;how=up&amp;goto=news\" id=\"up_39960645\"><div class=\"votearrow\" title=\"upvote\"></div></a></center></td><td class=\"title\"><span class=\"titleline\"><a href=\"https://breckyunits.com/sleepWriting.html\">Blog posts, sorted by sleep</a><span class=\"sitebit comhead\"> (<a href=\"from?site=breckyunits.com\"><span class=\"sitestr\">breckyunits.com</span></a>)</span></span></td></tr><tr><td colspan=\"2\"></td><td class=\"subtext\"><span class=\"subline\">\n",
       "<span class=\"score\" id=\"score_39960645\">84 points</span> by <a class=\"hnuser\" href=\"user?id=breck\">breck</a> <span class=\"age\" title=\"2024-04-07T13:32:27\"><a href=\"item?id=39960645\">5 hours ago</a></span> <span id=\"unv_39960645\"></span> | <a href=\"hide?id=39960645&amp;goto=news\">hide</a> | <a href=\"item?id=39960645\">17 comments</a> </span>\n",
       "</td></tr>\n",
       "<tr class=\"spacer\" style=\"height:5px\"></tr>\n",
       "<tr class=\"athing\" id=\"39962737\">\n",
       "<td align=\"right\" class=\"title\" valign=\"top\"><span class=\"rank\">7.</span></td> <td class=\"votelinks\" valign=\"top\"><center><a href=\"vote?id=39962737&amp;how=up&amp;goto=news\" id=\"up_39962737\"><div class=\"votearrow\" title=\"upvote\"></div></a></center></td><td class=\"title\"><span class=\"titleline\"><a href=\"https://lareviewofbooks.org/article/the-bulgarian-computers-global-reach-on-victor-petrovs-balkan-cyberia/\">The Bulgarian Computer's Global Reach: On Victor Petrov's \"Balkan Cyberia\"</a><span class=\"sitebit comhead\"> (<a href=\"from?site=lareviewofbooks.org\"><span class=\"sitestr\">lareviewofbooks.org</span></a>)</span></span></td></tr><tr><td colspan=\"2\"></td><td class=\"subtext\"><span class=\"subline\">\n",
       "<span class=\"score\" id=\"score_39962737\">28 points</span> by <a class=\"hnuser\" href=\"user?id=martinlaz\">martinlaz</a> <span class=\"age\" title=\"2024-04-07T18:37:55\"><a href=\"item?id=39962737\">1 hour ago</a></span> <span id=\"unv_39962737\"></span> | <a href=\"hide?id=39962737&amp;goto=news\">hide</a> | <a href=\"item?id=39962737\">9 comments</a> </span>\n",
       "</td></tr>\n",
       "<tr class=\"spacer\" style=\"height:5px\"></tr>\n",
       "<tr class=\"athing\" id=\"39955545\">\n",
       "<td align=\"right\" class=\"title\" valign=\"top\"><span class=\"rank\">8.</span></td> <td class=\"votelinks\" valign=\"top\"><center><a href=\"vote?id=39955545&amp;how=up&amp;goto=news\" id=\"up_39955545\"><div class=\"votearrow\" title=\"upvote\"></div></a></center></td><td class=\"title\"><span class=\"titleline\"><a href=\"https://www.preethamrn.com/posts/my-first-open-source-contribution\">My First Open Source Contribution</a><span class=\"sitebit comhead\"> (<a href=\"from?site=preethamrn.com\"><span class=\"sitestr\">preethamrn.com</span></a>)</span></span></td></tr><tr><td colspan=\"2\"></td><td class=\"subtext\"><span class=\"subline\">\n",
       "<span class=\"score\" id=\"score_39955545\">16 points</span> by <a class=\"hnuser\" href=\"user?id=tripdout\">tripdout</a> <span class=\"age\" title=\"2024-04-06T21:06:46\"><a href=\"item?id=39955545\">2 hours ago</a></span> <span id=\"unv_39955545\"></span> | <a href=\"hide?id=39955545&amp;goto=news\">hide</a> | <a href=\"item?id=39955545\">discuss</a> </span>\n",
       "</td></tr>\n",
       "<tr class=\"spacer\" style=\"height:5px\"></tr>\n",
       "<tr class=\"athing\" id=\"39960125\">\n",
       "<td align=\"right\" class=\"title\" valign=\"top\"><span class=\"rank\">9.</span></td> <td class=\"votelinks\" valign=\"top\"><center><a href=\"vote?id=39960125&amp;how=up&amp;goto=news\" id=\"up_39960125\"><div class=\"votearrow\" title=\"upvote\"></div></a></center></td><td class=\"title\"><span class=\"titleline\"><a href=\"https://security.googleblog.com/2024/03/google-public-dnss-approach-to-fight.html\">Google Public DNS's approach to fight against cache poisoning attacks</a><span class=\"sitebit comhead\"> (<a href=\"from?site=googleblog.com\"><span class=\"sitestr\">googleblog.com</span></a>)</span></span></td></tr><tr><td colspan=\"2\"></td><td class=\"subtext\"><span class=\"subline\">\n",
       "<span class=\"score\" id=\"score_39960125\">117 points</span> by <a class=\"hnuser\" href=\"user?id=tatersolid\">tatersolid</a> <span class=\"age\" title=\"2024-04-07T11:46:55\"><a href=\"item?id=39960125\">8 hours ago</a></span> <span id=\"unv_39960125\"></span> | <a href=\"hide?id=39960125&amp;goto=news\">hide</a> | <a href=\"item?id=39960125\">26 comments</a> </span>\n",
       "</td></tr>\n",
       "<tr class=\"spacer\" style=\"height:5px\"></tr>\n",
       "<tr class=\"athing\" id=\"39962923\">\n",
       "<td align=\"right\" class=\"title\" valign=\"top\"><span class=\"rank\">10.</span></td> <td class=\"votelinks\" valign=\"top\"><center><a href=\"vote?id=39962923&amp;how=up&amp;goto=news\" id=\"up_39962923\"><div class=\"votearrow\" title=\"upvote\"></div></a></center></td><td class=\"title\"><span class=\"titleline\"><a href=\"https://www.cbc.ca/news/politics/federal-government-ai-investment-1.7166234\">Justin Trudeau announces $2.4B for AI investments in Canada</a><span class=\"sitebit comhead\"> (<a href=\"from?site=cbc.ca\"><span class=\"sitestr\">cbc.ca</span></a>)</span></span></td></tr><tr><td colspan=\"2\"></td><td class=\"subtext\"><span class=\"subline\">\n",
       "<span class=\"score\" id=\"score_39962923\">30 points</span> by <a class=\"hnuser\" href=\"user?id=astlouis44\">astlouis44</a> <span class=\"age\" title=\"2024-04-07T19:03:36\"><a href=\"item?id=39962923\">1 hour ago</a></span> <span id=\"unv_39962923\"></span> | <a href=\"hide?id=39962923&amp;goto=news\">hide</a> | <a href=\"item?id=39962923\">22 comments</a> </span>\n",
       "</td></tr>\n",
       "<tr class=\"spacer\" style=\"height:5px\"></tr>\n",
       "<tr class=\"athing\" id=\"39960537\">\n",
       "<td align=\"right\" class=\"title\" valign=\"top\"><span class=\"rank\">11.</span></td> <td class=\"votelinks\" valign=\"top\"><center><a href=\"vote?id=39960537&amp;how=up&amp;goto=news\" id=\"up_39960537\"><div class=\"votearrow\" title=\"upvote\"></div></a></center></td><td class=\"title\"><span class=\"titleline\"><a href=\"https://github.com/stackframe-projects/pgmock\">Show HN: I open-sourced the in-memory PostgreSQL I built at work for E2E tests</a><span class=\"sitebit comhead\"> (<a href=\"from?site=github.com/stackframe-projects\"><span class=\"sitestr\">github.com/stackframe-projects</span></a>)</span></span></td></tr><tr><td colspan=\"2\"></td><td class=\"subtext\"><span class=\"subline\">\n",
       "<span class=\"score\" id=\"score_39960537\">79 points</span> by <a class=\"hnuser\" href=\"user?id=n2d4\">n2d4</a> <span class=\"age\" title=\"2024-04-07T13:13:43\"><a href=\"item?id=39960537\">6 hours ago</a></span> <span id=\"unv_39960537\"></span> | <a href=\"hide?id=39960537&amp;goto=news\">hide</a> | <a href=\"item?id=39960537\">9 comments</a> </span>\n",
       "</td></tr>\n",
       "<tr class=\"spacer\" style=\"height:5px\"></tr>\n",
       "<tr class=\"athing\" id=\"39962071\">\n",
       "<td align=\"right\" class=\"title\" valign=\"top\"><span class=\"rank\">12.</span></td> <td><img height=\"1\" src=\"s.gif\" width=\"14\"/></td> <td class=\"title\"><span class=\"titleline\"><a href=\"https://www.ycombinator.com/companies/greptile/jobs/4MY7eZL-founding-engineer\">Greptile (YC W24) Is Hiring a Founding Engineer</a><span class=\"sitebit comhead\"> (<a href=\"from?site=ycombinator.com\"><span class=\"sitestr\">ycombinator.com</span></a>)</span></span></td></tr><tr><td colspan=\"2\"></td><td class=\"subtext\">\n",
       "<span class=\"age\" title=\"2024-04-07T17:00:40\"><a href=\"item?id=39962071\">3 hours ago</a></span> | <a href=\"hide?id=39962071&amp;goto=news\">hide</a> </td></tr>\n",
       "<tr class=\"spacer\" style=\"height:5px\"></tr>\n",
       "<tr class=\"athing\" id=\"39962756\">\n",
       "<td align=\"right\" class=\"title\" valign=\"top\"><span class=\"rank\">13.</span></td> <td class=\"votelinks\" valign=\"top\"><center><a href=\"vote?id=39962756&amp;how=up&amp;goto=news\" id=\"up_39962756\"><div class=\"votearrow\" title=\"upvote\"></div></a></center></td><td class=\"title\"><span class=\"titleline\"><a href=\"https://github.com/FascinatedBox/bonk\">Show HN: Bonk, a command-line tool for X11 window management</a><span class=\"sitebit comhead\"> (<a href=\"from?site=github.com/fascinatedbox\"><span class=\"sitestr\">github.com/fascinatedbox</span></a>)</span></span></td></tr><tr><td colspan=\"2\"></td><td class=\"subtext\"><span class=\"subline\">\n",
       "<span class=\"score\" id=\"score_39962756\">14 points</span> by <a class=\"hnuser\" href=\"user?id=FascinatedBox\">FascinatedBox</a> <span class=\"age\" title=\"2024-04-07T18:39:43\"><a href=\"item?id=39962756\">1 hour ago</a></span> <span id=\"unv_39962756\"></span> | <a href=\"hide?id=39962756&amp;goto=news\">hide</a> | <a href=\"item?id=39962756\">3 comments</a> </span>\n",
       "</td></tr>\n",
       "<tr class=\"spacer\" style=\"height:5px\"></tr>\n",
       "<tr class=\"athing\" id=\"39960535\">\n",
       "<td align=\"right\" class=\"title\" valign=\"top\"><span class=\"rank\">14.</span></td> <td class=\"votelinks\" valign=\"top\"><center><a href=\"vote?id=39960535&amp;how=up&amp;goto=news\" id=\"up_39960535\"><div class=\"votearrow\" title=\"upvote\"></div></a></center></td><td class=\"title\"><span class=\"titleline\"><a href=\"https://github.com/AmrDeveloper/ClangQL\">ClangQL: A tool to run SQL-like query on C/C++ Code</a><span class=\"sitebit comhead\"> (<a href=\"from?site=github.com/amrdeveloper\"><span class=\"sitestr\">github.com/amrdeveloper</span></a>)</span></span></td></tr><tr><td colspan=\"2\"></td><td class=\"subtext\"><span class=\"subline\">\n",
       "<span class=\"score\" id=\"score_39960535\">50 points</span> by <a class=\"hnuser\" href=\"user?id=bubblehack3r\">bubblehack3r</a> <span class=\"age\" title=\"2024-04-07T13:13:23\"><a href=\"item?id=39960535\">6 hours ago</a></span> <span id=\"unv_39960535\"></span> | <a href=\"hide?id=39960535&amp;goto=news\">hide</a> | <a href=\"item?id=39960535\">9 comments</a> </span>\n",
       "</td></tr>\n",
       "<tr class=\"spacer\" style=\"height:5px\"></tr>\n",
       "<tr class=\"athing\" id=\"39960788\">\n",
       "<td align=\"right\" class=\"title\" valign=\"top\"><span class=\"rank\">15.</span></td> <td class=\"votelinks\" valign=\"top\"><center><a href=\"vote?id=39960788&amp;how=up&amp;goto=news\" id=\"up_39960788\"><div class=\"votearrow\" title=\"upvote\"></div></a></center></td><td class=\"title\"><span class=\"titleline\"><a href=\"https://daveon.design/adventures-making-vegemite.html\">Adventures Making Vegemite</a><span class=\"sitebit comhead\"> (<a href=\"from?site=daveon.design\"><span class=\"sitestr\">daveon.design</span></a>)</span></span></td></tr><tr><td colspan=\"2\"></td><td class=\"subtext\"><span class=\"subline\">\n",
       "<span class=\"score\" id=\"score_39960788\">103 points</span> by <a class=\"hnuser\" href=\"user?id=vintagedave\">vintagedave</a> <span class=\"age\" title=\"2024-04-07T13:55:02\"><a href=\"item?id=39960788\">6 hours ago</a></span> <span id=\"unv_39960788\"></span> | <a href=\"hide?id=39960788&amp;goto=news\">hide</a> | <a href=\"item?id=39960788\">56 comments</a> </span>\n",
       "</td></tr>\n",
       "<tr class=\"spacer\" style=\"height:5px\"></tr>\n",
       "<tr class=\"athing\" id=\"39960202\">\n",
       "<td align=\"right\" class=\"title\" valign=\"top\"><span class=\"rank\">16.</span></td> <td class=\"votelinks\" valign=\"top\"><center><a href=\"vote?id=39960202&amp;how=up&amp;goto=news\" id=\"up_39960202\"><div class=\"votearrow\" title=\"upvote\"></div></a></center></td><td class=\"title\"><span class=\"titleline\"><a href=\"https://github.com/pldubouilh/alarm\">Fire alarm audio detection, using FFTs and Go</a><span class=\"sitebit comhead\"> (<a href=\"from?site=github.com/pldubouilh\"><span class=\"sitestr\">github.com/pldubouilh</span></a>)</span></span></td></tr><tr><td colspan=\"2\"></td><td class=\"subtext\"><span class=\"subline\">\n",
       "<span class=\"score\" id=\"score_39960202\">12 points</span> by <a class=\"hnuser\" href=\"user?id=pdubouilh\">pdubouilh</a> <span class=\"age\" title=\"2024-04-07T12:08:22\"><a href=\"item?id=39960202\">2 hours ago</a></span> <span id=\"unv_39960202\"></span> | <a href=\"hide?id=39960202&amp;goto=news\">hide</a> | <a href=\"item?id=39960202\">8 comments</a> </span>\n",
       "</td></tr>\n",
       "<tr class=\"spacer\" style=\"height:5px\"></tr>\n",
       "<tr class=\"athing\" id=\"39959368\">\n",
       "<td align=\"right\" class=\"title\" valign=\"top\"><span class=\"rank\">17.</span></td> <td class=\"votelinks\" valign=\"top\"><center><a href=\"vote?id=39959368&amp;how=up&amp;goto=news\" id=\"up_39959368\"><div class=\"votearrow\" title=\"upvote\"></div></a></center></td><td class=\"title\"><span class=\"titleline\"><a href=\"https://eidel.io/how-to-found-a-company-in-germany-14-easy-steps-and-lots-of-pain/\">How to found a company in Germany: 14 \"easy\" steps and lots of pain</a><span class=\"sitebit comhead\"> (<a href=\"from?site=eidel.io\"><span class=\"sitestr\">eidel.io</span></a>)</span></span></td></tr><tr><td colspan=\"2\"></td><td class=\"subtext\"><span class=\"subline\">\n",
       "<span class=\"score\" id=\"score_39959368\">82 points</span> by <a class=\"hnuser\" href=\"user?id=olieidel\">olieidel</a> <span class=\"age\" title=\"2024-04-07T08:51:20\"><a href=\"item?id=39959368\">11 hours ago</a></span> <span id=\"unv_39959368\"></span> | <a href=\"hide?id=39959368&amp;goto=news\">hide</a> | <a href=\"item?id=39959368\">107 comments</a> </span>\n",
       "</td></tr>\n",
       "<tr class=\"spacer\" style=\"height:5px\"></tr>\n",
       "<tr class=\"athing\" id=\"39954993\">\n",
       "<td align=\"right\" class=\"title\" valign=\"top\"><span class=\"rank\">18.</span></td> <td class=\"votelinks\" valign=\"top\"><center><a href=\"vote?id=39954993&amp;how=up&amp;goto=news\" id=\"up_39954993\"><div class=\"votearrow\" title=\"upvote\"></div></a></center></td><td class=\"title\"><span class=\"titleline\"><a href=\"https://www.infinitelymore.xyz/p/structuralism\">Structuralism as a Philosophy of Mathematics</a><span class=\"sitebit comhead\"> (<a href=\"from?site=infinitelymore.xyz\"><span class=\"sitestr\">infinitelymore.xyz</span></a>)</span></span></td></tr><tr><td colspan=\"2\"></td><td class=\"subtext\"><span class=\"subline\">\n",
       "<span class=\"score\" id=\"score_39954993\">86 points</span> by <a class=\"hnuser\" href=\"user?id=FillMaths\">FillMaths</a> <span class=\"age\" title=\"2024-04-06T19:59:24\"><a href=\"item?id=39954993\">10 hours ago</a></span> <span id=\"unv_39954993\"></span> | <a href=\"hide?id=39954993&amp;goto=news\">hide</a> | <a href=\"item?id=39954993\">38 comments</a> </span>\n",
       "</td></tr>\n",
       "<tr class=\"spacer\" style=\"height:5px\"></tr>\n",
       "<tr class=\"athing\" id=\"39961245\">\n",
       "<td align=\"right\" class=\"title\" valign=\"top\"><span class=\"rank\">19.</span></td> <td class=\"votelinks\" valign=\"top\"><center><a href=\"vote?id=39961245&amp;how=up&amp;goto=news\" id=\"up_39961245\"><div class=\"votearrow\" title=\"upvote\"></div></a></center></td><td class=\"title\"><span class=\"titleline\"><a href=\"https://retrocmp.de/hardware/greaseweazle/greaseweazle.htm\">Greaseweazle</a><span class=\"sitebit comhead\"> (<a href=\"from?site=retrocmp.de\"><span class=\"sitestr\">retrocmp.de</span></a>)</span></span></td></tr><tr><td colspan=\"2\"></td><td class=\"subtext\"><span class=\"subline\">\n",
       "<span class=\"score\" id=\"score_39961245\">21 points</span> by <a class=\"hnuser\" href=\"user?id=mikerg87\">mikerg87</a> <span class=\"age\" title=\"2024-04-07T15:06:42\"><a href=\"item?id=39961245\">4 hours ago</a></span> <span id=\"unv_39961245\"></span> | <a href=\"hide?id=39961245&amp;goto=news\">hide</a> | <a href=\"item?id=39961245\">3 comments</a> </span>\n",
       "</td></tr>\n",
       "<tr class=\"spacer\" style=\"height:5px\"></tr>\n",
       "<tr class=\"athing\" id=\"39947045\">\n",
       "<td align=\"right\" class=\"title\" valign=\"top\"><span class=\"rank\">20.</span></td> <td class=\"votelinks\" valign=\"top\"><center><a href=\"vote?id=39947045&amp;how=up&amp;goto=news\" id=\"up_39947045\"><div class=\"votearrow\" title=\"upvote\"></div></a></center></td><td class=\"title\"><span class=\"titleline\"><a href=\"https://codewithkira.com/2024-04-04-state-of-clojure-ml.html\">Clojure's machine learning ecosystem</a><span class=\"sitebit comhead\"> (<a href=\"from?site=codewithkira.com\"><span class=\"sitestr\">codewithkira.com</span></a>)</span></span></td></tr><tr><td colspan=\"2\"></td><td class=\"subtext\"><span class=\"subline\">\n",
       "<span class=\"score\" id=\"score_39947045\">43 points</span> by <a class=\"hnuser\" href=\"user?id=kmclean\">kmclean</a> <span class=\"age\" title=\"2024-04-05T20:49:14\"><a href=\"item?id=39947045\">2 hours ago</a></span> <span id=\"unv_39947045\"></span> | <a href=\"hide?id=39947045&amp;goto=news\">hide</a> | <a href=\"item?id=39947045\">8 comments</a> </span>\n",
       "</td></tr>\n",
       "<tr class=\"spacer\" style=\"height:5px\"></tr>\n",
       "<tr class=\"athing\" id=\"39961994\">\n",
       "<td align=\"right\" class=\"title\" valign=\"top\"><span class=\"rank\">21.</span></td> <td class=\"votelinks\" valign=\"top\"><center><a href=\"vote?id=39961994&amp;how=up&amp;goto=news\" id=\"up_39961994\"><div class=\"votearrow\" title=\"upvote\"></div></a></center></td><td class=\"title\"><span class=\"titleline\"><a href=\"https://github.com/rpgp/rpgp\">Rpgp: Pure Rust implementation of OpenPGP</a><span class=\"sitebit comhead\"> (<a href=\"from?site=github.com/rpgp\"><span class=\"sitestr\">github.com/rpgp</span></a>)</span></span></td></tr><tr><td colspan=\"2\"></td><td class=\"subtext\"><span class=\"subline\">\n",
       "<span class=\"score\" id=\"score_39961994\">49 points</span> by <a class=\"hnuser\" href=\"user?id=bpierre\">bpierre</a> <span class=\"age\" title=\"2024-04-07T16:50:30\"><a href=\"item?id=39961994\">3 hours ago</a></span> <span id=\"unv_39961994\"></span> | <a href=\"hide?id=39961994&amp;goto=news\">hide</a> | <a href=\"item?id=39961994\">16 comments</a> </span>\n",
       "</td></tr>\n",
       "<tr class=\"spacer\" style=\"height:5px\"></tr>\n",
       "<tr class=\"athing\" id=\"39959790\">\n",
       "<td align=\"right\" class=\"title\" valign=\"top\"><span class=\"rank\">22.</span></td> <td class=\"votelinks\" valign=\"top\"><center><a href=\"vote?id=39959790&amp;how=up&amp;goto=news\" id=\"up_39959790\"><div class=\"votearrow\" title=\"upvote\"></div></a></center></td><td class=\"title\"><span class=\"titleline\"><a href=\"https://www.sbert.net/index.html\">SentenceTransformers: Python framework for sentence, text and image embeddings</a><span class=\"sitebit comhead\"> (<a href=\"from?site=sbert.net\"><span class=\"sitestr\">sbert.net</span></a>)</span></span></td></tr><tr><td colspan=\"2\"></td><td class=\"subtext\"><span class=\"subline\">\n",
       "<span class=\"score\" id=\"score_39959790\">135 points</span> by <a class=\"hnuser\" href=\"user?id=tosh\">tosh</a> <span class=\"age\" title=\"2024-04-07T10:23:51\"><a href=\"item?id=39959790\">9 hours ago</a></span> <span id=\"unv_39959790\"></span> | <a href=\"hide?id=39959790&amp;goto=news\">hide</a> | <a href=\"item?id=39959790\">34 comments</a> </span>\n",
       "</td></tr>\n",
       "<tr class=\"spacer\" style=\"height:5px\"></tr>\n",
       "<tr class=\"athing\" id=\"39950773\">\n",
       "<td align=\"right\" class=\"title\" valign=\"top\"><span class=\"rank\">23.</span></td> <td class=\"votelinks\" valign=\"top\"><center><a href=\"vote?id=39950773&amp;how=up&amp;goto=news\" id=\"up_39950773\"><div class=\"votearrow\" title=\"upvote\"></div></a></center></td><td class=\"title\"><span class=\"titleline\"><a href=\"https://www.devslovecoffee.com/blog/making-apple-progressive-blur-on-web/\">Making Apple Progressive Blur on the Web</a><span class=\"sitebit comhead\"> (<a href=\"from?site=devslovecoffee.com\"><span class=\"sitestr\">devslovecoffee.com</span></a>)</span></span></td></tr><tr><td colspan=\"2\"></td><td class=\"subtext\"><span class=\"subline\">\n",
       "<span class=\"score\" id=\"score_39950773\">58 points</span> by <a class=\"hnuser\" href=\"user?id=devslovecoffee\">devslovecoffee</a> <span class=\"age\" title=\"2024-04-06T07:49:55\"><a href=\"item?id=39950773\">7 hours ago</a></span> <span id=\"unv_39950773\"></span> | <a href=\"hide?id=39950773&amp;goto=news\">hide</a> | <a href=\"item?id=39950773\">32 comments</a> </span>\n",
       "</td></tr>\n",
       "<tr class=\"spacer\" style=\"height:5px\"></tr>\n",
       "<tr class=\"athing\" id=\"39960248\">\n",
       "<td align=\"right\" class=\"title\" valign=\"top\"><span class=\"rank\">24.</span></td> <td class=\"votelinks\" valign=\"top\"><center><a href=\"vote?id=39960248&amp;how=up&amp;goto=news\" id=\"up_39960248\"><div class=\"votearrow\" title=\"upvote\"></div></a></center></td><td class=\"title\"><span class=\"titleline\"><a href=\"https://hackaday.com/2024/04/07/comparing-desoldering-tools/\">Comparing Desoldering Tools</a><span class=\"sitebit comhead\"> (<a href=\"from?site=hackaday.com\"><span class=\"sitestr\">hackaday.com</span></a>)</span></span></td></tr><tr><td colspan=\"2\"></td><td class=\"subtext\"><span class=\"subline\">\n",
       "<span class=\"score\" id=\"score_39960248\">15 points</span> by <a class=\"hnuser\" href=\"user?id=geerlingguy\">geerlingguy</a> <span class=\"age\" title=\"2024-04-07T12:19:29\"><a href=\"item?id=39960248\">4 hours ago</a></span> <span id=\"unv_39960248\"></span> | <a href=\"hide?id=39960248&amp;goto=news\">hide</a> | <a href=\"item?id=39960248\">5 comments</a> </span>\n",
       "</td></tr>\n",
       "<tr class=\"spacer\" style=\"height:5px\"></tr>\n",
       "<tr class=\"athing\" id=\"39962349\">\n",
       "<td align=\"right\" class=\"title\" valign=\"top\"><span class=\"rank\">25.</span></td> <td class=\"votelinks\" valign=\"top\"><center><a href=\"vote?id=39962349&amp;how=up&amp;goto=news\" id=\"up_39962349\"><div class=\"votearrow\" title=\"upvote\"></div></a></center></td><td class=\"title\"><span class=\"titleline\"><a href=\"https://nate.mecca1.net/posts/2024-01-30_microblogging-protocols/\">ActivityPub/Nostr/At-Bluesky Compared</a><span class=\"sitebit comhead\"> (<a href=\"from?site=mecca1.net\"><span class=\"sitestr\">mecca1.net</span></a>)</span></span></td></tr><tr><td colspan=\"2\"></td><td class=\"subtext\"><span class=\"subline\">\n",
       "<span class=\"score\" id=\"score_39962349\">43 points</span> by <a class=\"hnuser\" href=\"user?id=nameequalsmain\">nameequalsmain</a> <span class=\"age\" title=\"2024-04-07T17:44:11\"><a href=\"item?id=39962349\">2 hours ago</a></span> <span id=\"unv_39962349\"></span> | <a href=\"hide?id=39962349&amp;goto=news\">hide</a> | <a href=\"item?id=39962349\">37 comments</a> </span>\n",
       "</td></tr>\n",
       "<tr class=\"spacer\" style=\"height:5px\"></tr>\n",
       "<tr class=\"athing\" id=\"39952819\">\n",
       "<td align=\"right\" class=\"title\" valign=\"top\"><span class=\"rank\">26.</span></td> <td class=\"votelinks\" valign=\"top\"><center><a href=\"vote?id=39952819&amp;how=up&amp;goto=news\" id=\"up_39952819\"><div class=\"votearrow\" title=\"upvote\"></div></a></center></td><td class=\"title\"><span class=\"titleline\"><a href=\"https://bkardell.com/blog/blessing-strings.html\" rel=\"nofollow\">The Blessing of the Strings</a><span class=\"sitebit comhead\"> (<a href=\"from?site=bkardell.com\"><span class=\"sitestr\">bkardell.com</span></a>)</span></span></td></tr><tr><td colspan=\"2\"></td><td class=\"subtext\"><span class=\"subline\">\n",
       "<span class=\"score\" id=\"score_39952819\">7 points</span> by <a class=\"hnuser\" href=\"user?id=lumpa\">lumpa</a> <span class=\"age\" title=\"2024-04-06T14:38:39\"><a href=\"item?id=39952819\">2 hours ago</a></span> <span id=\"unv_39952819\"></span> | <a href=\"hide?id=39952819&amp;goto=news\">hide</a> | <a href=\"item?id=39952819\">3 comments</a> </span>\n",
       "</td></tr>\n",
       "<tr class=\"spacer\" style=\"height:5px\"></tr>\n",
       "<tr class=\"athing\" id=\"39962184\">\n",
       "<td align=\"right\" class=\"title\" valign=\"top\"><span class=\"rank\">27.</span></td> <td class=\"votelinks\" valign=\"top\"><center><a href=\"vote?id=39962184&amp;how=up&amp;goto=news\" id=\"up_39962184\"><div class=\"votearrow\" title=\"upvote\"></div></a></center></td><td class=\"title\"><span class=\"titleline\"><a href=\"https://xemu.app/\">Xemu: Original Xbox Emulator</a><span class=\"sitebit comhead\"> (<a href=\"from?site=xemu.app\"><span class=\"sitestr\">xemu.app</span></a>)</span></span></td></tr><tr><td colspan=\"2\"></td><td class=\"subtext\"><span class=\"subline\">\n",
       "<span class=\"score\" id=\"score_39962184\">114 points</span> by <a class=\"hnuser\" href=\"user?id=InitEnabler\">InitEnabler</a> <span class=\"age\" title=\"2024-04-07T17:18:37\"><a href=\"item?id=39962184\">2 hours ago</a></span> <span id=\"unv_39962184\"></span> | <a href=\"hide?id=39962184&amp;goto=news\">hide</a> | <a href=\"item?id=39962184\">28 comments</a> </span>\n",
       "</td></tr>\n",
       "<tr class=\"spacer\" style=\"height:5px\"></tr>\n",
       "<tr class=\"athing\" id=\"39959543\">\n",
       "<td align=\"right\" class=\"title\" valign=\"top\"><span class=\"rank\">28.</span></td> <td class=\"votelinks\" valign=\"top\"><center><a href=\"vote?id=39959543&amp;how=up&amp;goto=news\" id=\"up_39959543\"><div class=\"votearrow\" title=\"upvote\"></div></a></center></td><td class=\"title\"><span class=\"titleline\"><a href=\"https://arxiv.org/abs/2404.02679\" rel=\"nofollow\">Rendering string diagrams recursively [pdf]</a><span class=\"sitebit comhead\"> (<a href=\"from?site=arxiv.org\"><span class=\"sitestr\">arxiv.org</span></a>)</span></span></td></tr><tr><td colspan=\"2\"></td><td class=\"subtext\"><span class=\"subline\">\n",
       "<span class=\"score\" id=\"score_39959543\">9 points</span> by <a class=\"hnuser\" href=\"user?id=g0xA52A2A\">g0xA52A2A</a> <span class=\"age\" title=\"2024-04-07T09:23:09\"><a href=\"item?id=39959543\">3 hours ago</a></span> <span id=\"unv_39959543\"></span> | <a href=\"hide?id=39959543&amp;goto=news\">hide</a> | <a href=\"item?id=39959543\">discuss</a> </span>\n",
       "</td></tr>\n",
       "<tr class=\"spacer\" style=\"height:5px\"></tr>\n",
       "<tr class=\"athing\" id=\"39958260\">\n",
       "<td align=\"right\" class=\"title\" valign=\"top\"><span class=\"rank\">29.</span></td> <td class=\"votelinks\" valign=\"top\"><center><a href=\"vote?id=39958260&amp;how=up&amp;goto=news\" id=\"up_39958260\"><div class=\"votearrow\" title=\"upvote\"></div></a></center></td><td class=\"title\"><span class=\"titleline\"><a href=\"https://lcamtuf.substack.com/p/is-the-frequency-domain-a-real-place\">Is the frequency domain a real place?</a><span class=\"sitebit comhead\"> (<a href=\"from?site=lcamtuf.substack.com\"><span class=\"sitestr\">lcamtuf.substack.com</span></a>)</span></span></td></tr><tr><td colspan=\"2\"></td><td class=\"subtext\"><span class=\"subline\">\n",
       "<span class=\"score\" id=\"score_39958260\">201 points</span> by <a class=\"hnuser\" href=\"user?id=zdw\">zdw</a> <span class=\"age\" title=\"2024-04-07T04:52:39\"><a href=\"item?id=39958260\">15 hours ago</a></span> <span id=\"unv_39958260\"></span> | <a href=\"hide?id=39958260&amp;goto=news\">hide</a> | <a href=\"item?id=39958260\">125 comments</a> </span>\n",
       "</td></tr>\n",
       "<tr class=\"spacer\" style=\"height:5px\"></tr>\n",
       "<tr class=\"athing\" id=\"39961910\">\n",
       "<td align=\"right\" class=\"title\" valign=\"top\"><span class=\"rank\">30.</span></td> <td class=\"votelinks\" valign=\"top\"><center><a href=\"vote?id=39961910&amp;how=up&amp;goto=news\" id=\"up_39961910\"><div class=\"votearrow\" title=\"upvote\"></div></a></center></td><td class=\"title\"><span class=\"titleline\"><a href=\"https://3quarksdaily.com/3quarksdaily/2020/10/what-john-von-neumann-really-did-at-los-alamos.html\" rel=\"nofollow\">What John von Neumann Did at Los Alamos</a><span class=\"sitebit comhead\"> (<a href=\"from?site=3quarksdaily.com\"><span class=\"sitestr\">3quarksdaily.com</span></a>)</span></span></td></tr><tr><td colspan=\"2\"></td><td class=\"subtext\"><span class=\"subline\">\n",
       "<span class=\"score\" id=\"score_39961910\">13 points</span> by <a class=\"hnuser\" href=\"user?id=fanf2\">fanf2</a> <span class=\"age\" title=\"2024-04-07T16:42:04\"><a href=\"item?id=39961910\">3 hours ago</a></span> <span id=\"unv_39961910\"></span> | <a href=\"hide?id=39961910&amp;goto=news\">hide</a> | <a href=\"item?id=39961910\">1 comment</a> </span>\n",
       "</td></tr>\n",
       "<tr class=\"spacer\" style=\"height:5px\"></tr>\n",
       "<tr class=\"morespace\" style=\"height:10px\"></tr><tr><td colspan=\"2\"></td>\n",
       "<td class=\"title\"><a class=\"morelink\" href=\"?p=2\" rel=\"next\">More</a></td> </tr>\n",
       "</table>\n",
       "</td></tr>\n",
       "<tr><td><img height=\"10\" src=\"s.gif\" width=\"0\"/><table cellpadding=\"1\" cellspacing=\"0\" width=\"100%\"><tr><td bgcolor=\"#ff6600\"></td></tr></table><br/>\n",
       "<center><span class=\"yclinks\"><a href=\"newsguidelines.html\">Guidelines</a> | <a href=\"newsfaq.html\">FAQ</a> | <a href=\"lists\">Lists</a> | <a href=\"https://github.com/HackerNews/API\">API</a> | <a href=\"security.html\">Security</a> | <a href=\"https://www.ycombinator.com/legal/\">Legal</a> | <a href=\"https://www.ycombinator.com/apply/\">Apply to YC</a> | <a href=\"mailto:hn@ycombinator.com\">Contact</a></span><br/><br/>\n",
       "<form action=\"//hn.algolia.com/\" method=\"get\">Search: <input autocapitalize=\"off\" autocomplete=\"false\" autocorrect=\"off\" name=\"q\" size=\"17\" spellcheck=\"false\" type=\"text\"/></form></center></td></tr> </table></center></body>\n",
       "<script src=\"hn.js?i3TCm9mQaQeIHjM4t2Io\" type=\"text/javascript\"></script>\n",
       "</html>"
      ]
     },
     "execution_count": 37,
     "metadata": {},
     "output_type": "execute_result"
    }
   ],
   "source": [
    "import requests\n",
    "\n",
    "url = 'https://news.ycombinator.com/'\n",
    "response = requests.get(url)\n",
    "html_content = response.text\n",
    "html_headers = response.headers\n",
    "html_headers"
   ]
  },
  {
   "cell_type": "code",
   "execution_count": 20,
   "metadata": {},
   "outputs": [
    {
     "data": {
      "text/plain": [
       "<html lang=\"en\" op=\"news\"><head><meta content=\"origin\" name=\"referrer\"/><meta content=\"width=device-width, initial-scale=1.0\" name=\"viewport\"/><link href=\"news.css?i3TCm9mQaQeIHjM4t2Io\" rel=\"stylesheet\" type=\"text/css\"/>\n",
       "<link href=\"y18.svg\" rel=\"icon\"/>\n",
       "<link href=\"rss\" rel=\"alternate\" title=\"RSS\" type=\"application/rss+xml\"/>\n",
       "<title>Hacker News</title></head><body><center><table bgcolor=\"#f6f6ef\" border=\"0\" cellpadding=\"0\" cellspacing=\"0\" id=\"hnmain\" width=\"85%\">\n",
       "<tr><td bgcolor=\"#ff6600\"><table border=\"0\" cellpadding=\"0\" cellspacing=\"0\" style=\"padding:2px\" width=\"100%\"><tr><td style=\"width:18px;padding-right:4px\"><a href=\"https://news.ycombinator.com\"><img height=\"18\" src=\"y18.svg\" style=\"border:1px white solid; display:block\" width=\"18\"/></a></td>\n",
       "<td style=\"line-height:12pt; height:10px;\"><span class=\"pagetop\"><b class=\"hnname\"><a href=\"news\">Hacker News</a></b>\n",
       "<a href=\"newest\">new</a> | <a href=\"front\">past</a> | <a href=\"newcomments\">comments</a> | <a href=\"ask\">ask</a> | <a href=\"show\">show</a> | <a href=\"jobs\">jobs</a> | <a href=\"submit\" rel=\"nofollow\">submit</a> </span></td><td style=\"text-align:right;padding-right:4px;\"><span class=\"pagetop\">\n",
       "<a href=\"login?goto=news\">login</a>\n",
       "</span></td>\n",
       "</tr></table></td></tr>\n",
       "<tr id=\"pagespace\" style=\"height:10px\" title=\"\"></tr><tr><td><table border=\"0\" cellpadding=\"0\" cellspacing=\"0\">\n",
       "<tr class=\"athing\" id=\"39954993\">\n",
       "<td align=\"right\" class=\"title\" valign=\"top\"><span class=\"rank\">1.</span></td> <td class=\"votelinks\" valign=\"top\"><center><a href=\"vote?id=39954993&amp;how=up&amp;goto=news\" id=\"up_39954993\"><div class=\"votearrow\" title=\"upvote\"></div></a></center></td><td class=\"title\"><span class=\"titleline\"><a href=\"https://www.infinitelymore.xyz/p/structuralism\">Structuralism as a Philosophy of Mathematics</a><span class=\"sitebit comhead\"> (<a href=\"from?site=infinitelymore.xyz\"><span class=\"sitestr\">infinitelymore.xyz</span></a>)</span></span></td></tr><tr><td colspan=\"2\"></td><td class=\"subtext\"><span class=\"subline\">\n",
       "<span class=\"score\" id=\"score_39954993\">18 points</span> by <a class=\"hnuser\" href=\"user?id=FillMaths\">FillMaths</a> <span class=\"age\" title=\"2024-04-06T19:59:24\"><a href=\"item?id=39954993\">1 hour ago</a></span> <span id=\"unv_39954993\"></span> | <a href=\"hide?id=39954993&amp;goto=news\">hide</a> | <a href=\"item?id=39954993\">2 comments</a> </span>\n",
       "</td></tr>\n",
       "<tr class=\"spacer\" style=\"height:5px\"></tr>\n",
       "<tr class=\"athing\" id=\"39959946\">\n",
       "<td align=\"right\" class=\"title\" valign=\"top\"><span class=\"rank\">2.</span></td> <td class=\"votelinks\" valign=\"top\"><center><a href=\"vote?id=39959946&amp;how=up&amp;goto=news\" id=\"up_39959946\"><div class=\"votearrow\" title=\"upvote\"></div></a></center></td><td class=\"title\"><span class=\"titleline\"><a href=\"https://retrocomputing.stackexchange.com/questions/29787/did-any-processor-implement-an-integer-square-root-instruction\" rel=\"nofollow\">Did any processor implement an integer square root instruction?</a><span class=\"sitebit comhead\"> (<a href=\"from?site=retrocomputing.stackexchange.com\"><span class=\"sitestr\">retrocomputing.stackexchange.com</span></a>)</span></span></td></tr><tr><td colspan=\"2\"></td><td class=\"subtext\"><span class=\"subline\">\n",
       "<span class=\"score\" id=\"score_39959946\">5 points</span> by <a class=\"hnuser\" href=\"user?id=rwallace\">rwallace</a> <span class=\"age\" title=\"2024-04-07T10:55:10\"><a href=\"item?id=39959946\">25 minutes ago</a></span> <span id=\"unv_39959946\"></span> | <a href=\"hide?id=39959946&amp;goto=news\">hide</a> | <a href=\"item?id=39959946\">discuss</a> </span>\n",
       "</td></tr>\n",
       "<tr class=\"spacer\" style=\"height:5px\"></tr>\n",
       "<tr class=\"athing\" id=\"39958701\">\n",
       "<td align=\"right\" class=\"title\" valign=\"top\"><span class=\"rank\">3.</span></td> <td class=\"votelinks\" valign=\"top\"><center><a href=\"vote?id=39958701&amp;how=up&amp;goto=news\" id=\"up_39958701\"><div class=\"votearrow\" title=\"upvote\"></div></a></center></td><td class=\"title\"><span class=\"titleline\"><a href=\"https://www.elephantsql.com/blog/end-of-life-announcement.html\">ElephantSQL Is Shutting Down</a><span class=\"sitebit comhead\"> (<a href=\"from?site=elephantsql.com\"><span class=\"sitestr\">elephantsql.com</span></a>)</span></span></td></tr><tr><td colspan=\"2\"></td><td class=\"subtext\"><span class=\"subline\">\n",
       "<span class=\"score\" id=\"score_39958701\">64 points</span> by <a class=\"hnuser\" href=\"user?id=jonbaer\">jonbaer</a> <span class=\"age\" title=\"2024-04-07T06:42:54\"><a href=\"item?id=39958701\">4 hours ago</a></span> <span id=\"unv_39958701\"></span> | <a href=\"hide?id=39958701&amp;goto=news\">hide</a> | <a href=\"item?id=39958701\">31 comments</a> </span>\n",
       "</td></tr>\n",
       "<tr class=\"spacer\" style=\"height:5px\"></tr>\n",
       "<tr class=\"athing\" id=\"39958260\">\n",
       "<td align=\"right\" class=\"title\" valign=\"top\"><span class=\"rank\">4.</span></td> <td class=\"votelinks\" valign=\"top\"><center><a href=\"vote?id=39958260&amp;how=up&amp;goto=news\" id=\"up_39958260\"><div class=\"votearrow\" title=\"upvote\"></div></a></center></td><td class=\"title\"><span class=\"titleline\"><a href=\"https://lcamtuf.substack.com/p/is-the-frequency-domain-a-real-place\">Is the frequency domain a real place?</a><span class=\"sitebit comhead\"> (<a href=\"from?site=lcamtuf.substack.com\"><span class=\"sitestr\">lcamtuf.substack.com</span></a>)</span></span></td></tr><tr><td colspan=\"2\"></td><td class=\"subtext\"><span class=\"subline\">\n",
       "<span class=\"score\" id=\"score_39958260\">119 points</span> by <a class=\"hnuser\" href=\"user?id=zdw\">zdw</a> <span class=\"age\" title=\"2024-04-07T04:52:39\"><a href=\"item?id=39958260\">6 hours ago</a></span> <span id=\"unv_39958260\"></span> | <a href=\"hide?id=39958260&amp;goto=news\">hide</a> | <a href=\"item?id=39958260\">65 comments</a> </span>\n",
       "</td></tr>\n",
       "<tr class=\"spacer\" style=\"height:5px\"></tr>\n",
       "<tr class=\"athing\" id=\"39956008\">\n",
       "<td align=\"right\" class=\"title\" valign=\"top\"><span class=\"rank\">5.</span></td> <td class=\"votelinks\" valign=\"top\"><center><a href=\"vote?id=39956008&amp;how=up&amp;goto=news\" id=\"up_39956008\"><div class=\"votearrow\" title=\"upvote\"></div></a></center></td><td class=\"title\"><span class=\"titleline\"><a href=\"https://github.com/maharmstone/btrfs\">WinBtrfs – an open-source btrfs driver for Windows</a><span class=\"sitebit comhead\"> (<a href=\"from?site=github.com/maharmstone\"><span class=\"sitestr\">github.com/maharmstone</span></a>)</span></span></td></tr><tr><td colspan=\"2\"></td><td class=\"subtext\"><span class=\"subline\">\n",
       "<span class=\"score\" id=\"score_39956008\">221 points</span> by <a class=\"hnuser\" href=\"user?id=jiripospisil\">jiripospisil</a> <span class=\"age\" title=\"2024-04-06T21:59:31\"><a href=\"item?id=39956008\">13 hours ago</a></span> <span id=\"unv_39956008\"></span> | <a href=\"hide?id=39956008&amp;goto=news\">hide</a> | <a href=\"item?id=39956008\">81 comments</a> </span>\n",
       "</td></tr>\n",
       "<tr class=\"spacer\" style=\"height:5px\"></tr>\n",
       "<tr class=\"athing\" id=\"39959228\">\n",
       "<td align=\"right\" class=\"title\" valign=\"top\"><span class=\"rank\">6.</span></td> <td class=\"votelinks\" valign=\"top\"><center><a href=\"vote?id=39959228&amp;how=up&amp;goto=news\" id=\"up_39959228\"><div class=\"votearrow\" title=\"upvote\"></div></a></center></td><td class=\"title\"><span class=\"titleline\"><a href=\"https://arxiv.org/abs/2305.14342\">Sophia: Scalable Stochastic 2nd-Order Optimizer for Language Model Pre-Training</a><span class=\"sitebit comhead\"> (<a href=\"from?site=arxiv.org\"><span class=\"sitestr\">arxiv.org</span></a>)</span></span></td></tr><tr><td colspan=\"2\"></td><td class=\"subtext\"><span class=\"subline\">\n",
       "<span class=\"score\" id=\"score_39959228\">8 points</span> by <a class=\"hnuser\" href=\"user?id=tosh\">tosh</a> <span class=\"age\" title=\"2024-04-07T08:23:26\"><a href=\"item?id=39959228\">2 hours ago</a></span> <span id=\"unv_39959228\"></span> | <a href=\"hide?id=39959228&amp;goto=news\">hide</a> | <a href=\"item?id=39959228\">discuss</a> </span>\n",
       "</td></tr>\n",
       "<tr class=\"spacer\" style=\"height:5px\"></tr>\n",
       "<tr class=\"athing\" id=\"39958025\">\n",
       "<td align=\"right\" class=\"title\" valign=\"top\"><span class=\"rank\">7.</span></td> <td class=\"votelinks\" valign=\"top\"><center><a href=\"vote?id=39958025&amp;how=up&amp;goto=news\" id=\"up_39958025\"><div class=\"votearrow\" title=\"upvote\"></div></a></center></td><td class=\"title\"><span class=\"titleline\"><a href=\"https://github.com/Unitech/pm2\">PM2: Production Process Manager with a Built-In Load Balancer</a><span class=\"sitebit comhead\"> (<a href=\"from?site=github.com/unitech\"><span class=\"sitestr\">github.com/unitech</span></a>)</span></span></td></tr><tr><td colspan=\"2\"></td><td class=\"subtext\"><span class=\"subline\">\n",
       "<span class=\"score\" id=\"score_39958025\">37 points</span> by <a class=\"hnuser\" href=\"user?id=thunderbong\">thunderbong</a> <span class=\"age\" title=\"2024-04-07T03:42:07\"><a href=\"item?id=39958025\">7 hours ago</a></span> <span id=\"unv_39958025\"></span> | <a href=\"hide?id=39958025&amp;goto=news\">hide</a> | <a href=\"item?id=39958025\">15 comments</a> </span>\n",
       "</td></tr>\n",
       "<tr class=\"spacer\" style=\"height:5px\"></tr>\n",
       "<tr class=\"athing\" id=\"39955944\">\n",
       "<td align=\"right\" class=\"title\" valign=\"top\"><span class=\"rank\">8.</span></td> <td class=\"votelinks\" valign=\"top\"><center><a href=\"vote?id=39955944&amp;how=up&amp;goto=news\" id=\"up_39955944\"><div class=\"votearrow\" title=\"upvote\"></div></a></center></td><td class=\"title\"><span class=\"titleline\"><a href=\"https://github.com/drawdb-io/drawdb\">Show HN: Online database diagram editor</a><span class=\"sitebit comhead\"> (<a href=\"from?site=github.com/drawdb-io\"><span class=\"sitestr\">github.com/drawdb-io</span></a>)</span></span></td></tr><tr><td colspan=\"2\"></td><td class=\"subtext\"><span class=\"subline\">\n",
       "<span class=\"score\" id=\"score_39955944\">190 points</span> by <a class=\"hnuser\" href=\"user?id=1ilit\">1ilit</a> <span class=\"age\" title=\"2024-04-06T21:52:38\"><a href=\"item?id=39955944\">13 hours ago</a></span> <span id=\"unv_39955944\"></span> | <a href=\"hide?id=39955944&amp;goto=news\">hide</a> | <a href=\"item?id=39955944\">38 comments</a> </span>\n",
       "</td></tr>\n",
       "<tr class=\"spacer\" style=\"height:5px\"></tr>\n",
       "<tr class=\"athing\" id=\"39956327\">\n",
       "<td align=\"right\" class=\"title\" valign=\"top\"><span class=\"rank\">9.</span></td> <td class=\"votelinks\" valign=\"top\"><center><a href=\"vote?id=39956327&amp;how=up&amp;goto=news\" id=\"up_39956327\"><div class=\"votearrow\" title=\"upvote\"></div></a></center></td><td class=\"title\"><span class=\"titleline\"><a href=\"https://blacksmith.sh/blog/cache-is-king-a-guide-for-docker-layer-caching-in-github-actions\">Cache is King: A guide for Docker layer caching in GitHub Actions</a><span class=\"sitebit comhead\"> (<a href=\"from?site=blacksmith.sh\"><span class=\"sitestr\">blacksmith.sh</span></a>)</span></span></td></tr><tr><td colspan=\"2\"></td><td class=\"subtext\"><span class=\"subline\">\n",
       "<span class=\"score\" id=\"score_39956327\">106 points</span> by <a class=\"hnuser\" href=\"user?id=adityamaru\">adityamaru</a> <span class=\"age\" title=\"2024-04-06T22:42:39\"><a href=\"item?id=39956327\">12 hours ago</a></span> <span id=\"unv_39956327\"></span> | <a href=\"hide?id=39956327&amp;goto=news\">hide</a> | <a href=\"item?id=39956327\">59 comments</a> </span>\n",
       "</td></tr>\n",
       "<tr class=\"spacer\" style=\"height:5px\"></tr>\n",
       "<tr class=\"athing\" id=\"39957081\">\n",
       "<td align=\"right\" class=\"title\" valign=\"top\"><span class=\"rank\">10.</span></td> <td class=\"votelinks\" valign=\"top\"><center><a href=\"vote?id=39957081&amp;how=up&amp;goto=news\" id=\"up_39957081\"><div class=\"votearrow\" title=\"upvote\"></div></a></center></td><td class=\"title\"><span class=\"titleline\"><a href=\"https://github.com/alexpinel/Dot\">Dot: use of local LLMs and RAG in particular to interact with documents</a><span class=\"sitebit comhead\"> (<a href=\"from?site=github.com/alexpinel\"><span class=\"sitestr\">github.com/alexpinel</span></a>)</span></span></td></tr><tr><td colspan=\"2\"></td><td class=\"subtext\"><span class=\"subline\">\n",
       "<span class=\"score\" id=\"score_39957081\">58 points</span> by <a class=\"hnuser\" href=\"user?id=irsagent\">irsagent</a> <span class=\"age\" title=\"2024-04-07T00:41:13\"><a href=\"item?id=39957081\">10 hours ago</a></span> <span id=\"unv_39957081\"></span> | <a href=\"hide?id=39957081&amp;goto=news\">hide</a> | <a href=\"item?id=39957081\">8 comments</a> </span>\n",
       "</td></tr>\n",
       "<tr class=\"spacer\" style=\"height:5px\"></tr>\n",
       "<tr class=\"athing\" id=\"39954422\">\n",
       "<td align=\"right\" class=\"title\" valign=\"top\"><span class=\"rank\">11.</span></td> <td class=\"votelinks\" valign=\"top\"><center><a href=\"vote?id=39954422&amp;how=up&amp;goto=news\" id=\"up_39954422\"><div class=\"votearrow\" title=\"upvote\"></div></a></center></td><td class=\"title\"><span class=\"titleline\"><a href=\"https://zengm.com/facesjs/\">Faces.js, a JavaScript library for generating vector-based cartoon faces</a><span class=\"sitebit comhead\"> (<a href=\"from?site=zengm.com\"><span class=\"sitestr\">zengm.com</span></a>)</span></span></td></tr><tr><td colspan=\"2\"></td><td class=\"subtext\"><span class=\"subline\">\n",
       "<span class=\"score\" id=\"score_39954422\">339 points</span> by <a class=\"hnuser\" href=\"user?id=starkparker\">starkparker</a> <span class=\"age\" title=\"2024-04-06T18:37:36\"><a href=\"item?id=39954422\">16 hours ago</a></span> <span id=\"unv_39954422\"></span> | <a href=\"hide?id=39954422&amp;goto=news\">hide</a> | <a href=\"item?id=39954422\">57 comments</a> </span>\n",
       "</td></tr>\n",
       "<tr class=\"spacer\" style=\"height:5px\"></tr>\n",
       "<tr class=\"athing\" id=\"39951203\">\n",
       "<td align=\"right\" class=\"title\" valign=\"top\"><span class=\"rank\">12.</span></td> <td class=\"votelinks\" valign=\"top\"><center><a href=\"vote?id=39951203&amp;how=up&amp;goto=news\" id=\"up_39951203\"><div class=\"votearrow\" title=\"upvote\"></div></a></center></td><td class=\"title\"><span class=\"titleline\"><a href=\"https://en.wikipedia.org/wiki/Gakken_EX-System\">Gakken Ex-System</a><span class=\"sitebit comhead\"> (<a href=\"from?site=wikipedia.org\"><span class=\"sitestr\">wikipedia.org</span></a>)</span></span></td></tr><tr><td colspan=\"2\"></td><td class=\"subtext\"><span class=\"subline\">\n",
       "<span class=\"score\" id=\"score_39951203\">13 points</span> by <a class=\"hnuser\" href=\"user?id=walterbell\">walterbell</a> <span class=\"age\" title=\"2024-04-06T09:33:18\"><a href=\"item?id=39951203\">6 hours ago</a></span> <span id=\"unv_39951203\"></span> | <a href=\"hide?id=39951203&amp;goto=news\">hide</a> | <a href=\"item?id=39951203\">5 comments</a> </span>\n",
       "</td></tr>\n",
       "<tr class=\"spacer\" style=\"height:5px\"></tr>\n",
       "<tr class=\"athing\" id=\"39950036\">\n",
       "<td align=\"right\" class=\"title\" valign=\"top\"><span class=\"rank\">13.</span></td> <td class=\"votelinks\" valign=\"top\"><center><a href=\"vote?id=39950036&amp;how=up&amp;goto=news\" id=\"up_39950036\"><div class=\"votearrow\" title=\"upvote\"></div></a></center></td><td class=\"title\"><span class=\"titleline\"><a href=\"https://lwn.net/SubscriberLink/967049/0ffb9b9ed8940013/\">A memory model for Rust code in the kernel</a><span class=\"sitebit comhead\"> (<a href=\"from?site=lwn.net\"><span class=\"sitestr\">lwn.net</span></a>)</span></span></td></tr><tr><td colspan=\"2\"></td><td class=\"subtext\"><span class=\"subline\">\n",
       "<span class=\"score\" id=\"score_39950036\">25 points</span> by <a class=\"hnuser\" href=\"user?id=jmillikin\">jmillikin</a> <span class=\"age\" title=\"2024-04-06T04:42:42\"><a href=\"item?id=39950036\">11 hours ago</a></span> <span id=\"unv_39950036\"></span> | <a href=\"hide?id=39950036&amp;goto=news\">hide</a> | <a href=\"item?id=39950036\">1 comment</a> </span>\n",
       "</td></tr>\n",
       "<tr class=\"spacer\" style=\"height:5px\"></tr>\n",
       "<tr class=\"athing\" id=\"39957107\">\n",
       "<td align=\"right\" class=\"title\" valign=\"top\"><span class=\"rank\">14.</span></td> <td class=\"votelinks\" valign=\"top\"><center><a href=\"vote?id=39957107&amp;how=up&amp;goto=news\" id=\"up_39957107\"><div class=\"votearrow\" title=\"upvote\"></div></a></center></td><td class=\"title\"><span class=\"titleline\"><a href=\"https://www.cambridge.org/core/journals/journal-of-fluid-mechanics/article/canonical-hamiltonian-formulation-of-the-navierstokes-problem/B3EB9389AE700867A6A3EA63A45E69C6\">A canonical Hamiltonian formulation of the Navier–Stokes problem</a><span class=\"sitebit comhead\"> (<a href=\"from?site=cambridge.org\"><span class=\"sitestr\">cambridge.org</span></a>)</span></span></td></tr><tr><td colspan=\"2\"></td><td class=\"subtext\"><span class=\"subline\">\n",
       "<span class=\"score\" id=\"score_39957107\">117 points</span> by <a class=\"hnuser\" href=\"user?id=Anon84\">Anon84</a> <span class=\"age\" title=\"2024-04-07T00:46:28\"><a href=\"item?id=39957107\">10 hours ago</a></span> <span id=\"unv_39957107\"></span> | <a href=\"hide?id=39957107&amp;goto=news\">hide</a> | <a href=\"item?id=39957107\">34 comments</a> </span>\n",
       "</td></tr>\n",
       "<tr class=\"spacer\" style=\"height:5px\"></tr>\n",
       "<tr class=\"athing\" id=\"39957607\">\n",
       "<td align=\"right\" class=\"title\" valign=\"top\"><span class=\"rank\">15.</span></td> <td class=\"votelinks\" valign=\"top\"><center><a href=\"vote?id=39957607&amp;how=up&amp;goto=news\" id=\"up_39957607\"><div class=\"votearrow\" title=\"upvote\"></div></a></center></td><td class=\"title\"><span class=\"titleline\"><a href=\"https://techcrunch.com/2024/03/14/lago-a-paris-based-open-source-billing-platform-banks-22m/\">Lago, Open-Source Stripe Alternative, banks $22M in funding</a><span class=\"sitebit comhead\"> (<a href=\"from?site=techcrunch.com\"><span class=\"sitestr\">techcrunch.com</span></a>)</span></span></td></tr><tr><td colspan=\"2\"></td><td class=\"subtext\"><span class=\"subline\">\n",
       "<span class=\"score\" id=\"score_39957607\">131 points</span> by <a class=\"hnuser\" href=\"user?id=Rafsark\">Rafsark</a> <span class=\"age\" title=\"2024-04-07T02:19:36\"><a href=\"item?id=39957607\">9 hours ago</a></span> <span id=\"unv_39957607\"></span> | <a href=\"hide?id=39957607&amp;goto=news\">hide</a> | <a href=\"item?id=39957607\">52 comments</a> </span>\n",
       "</td></tr>\n",
       "<tr class=\"spacer\" style=\"height:5px\"></tr>\n",
       "<tr class=\"athing\" id=\"39951198\">\n",
       "<td align=\"right\" class=\"title\" valign=\"top\"><span class=\"rank\">16.</span></td> <td class=\"votelinks\" valign=\"top\"><center><a href=\"vote?id=39951198&amp;how=up&amp;goto=news\" id=\"up_39951198\"><div class=\"votearrow\" title=\"upvote\"></div></a></center></td><td class=\"title\"><span class=\"titleline\"><a href=\"https://www.visitvenezia.eu/en/venetianity/discover-venice/the-venetian-antibandito-humps-or-pissotte-what-exactly-are-they\">Anti-crime humps in medieval Venice</a><span class=\"sitebit comhead\"> (<a href=\"from?site=visitvenezia.eu\"><span class=\"sitestr\">visitvenezia.eu</span></a>)</span></span></td></tr><tr><td colspan=\"2\"></td><td class=\"subtext\"><span class=\"subline\">\n",
       "<span class=\"score\" id=\"score_39951198\">93 points</span> by <a class=\"hnuser\" href=\"user?id=phront\">phront</a> <span class=\"age\" title=\"2024-04-06T09:31:36\"><a href=\"item?id=39951198\">13 hours ago</a></span> <span id=\"unv_39951198\"></span> | <a href=\"hide?id=39951198&amp;goto=news\">hide</a> | <a href=\"item?id=39951198\">10 comments</a> </span>\n",
       "</td></tr>\n",
       "<tr class=\"spacer\" style=\"height:5px\"></tr>\n",
       "<tr class=\"athing\" id=\"39954059\">\n",
       "<td align=\"right\" class=\"title\" valign=\"top\"><span class=\"rank\">17.</span></td> <td class=\"votelinks\" valign=\"top\"><center><a href=\"vote?id=39954059&amp;how=up&amp;goto=news\" id=\"up_39954059\"><div class=\"votearrow\" title=\"upvote\"></div></a></center></td><td class=\"title\"><span class=\"titleline\"><a href=\"https://programming-journal.org/2023/7/6/\">A Theory of Composing Protocols (2023)</a><span class=\"sitebit comhead\"> (<a href=\"from?site=programming-journal.org\"><span class=\"sitestr\">programming-journal.org</span></a>)</span></span></td></tr><tr><td colspan=\"2\"></td><td class=\"subtext\"><span class=\"subline\">\n",
       "<span class=\"score\" id=\"score_39954059\">85 points</span> by <a class=\"hnuser\" href=\"user?id=mpweiher\">mpweiher</a> <span class=\"age\" title=\"2024-04-06T17:46:59\"><a href=\"item?id=39954059\">17 hours ago</a></span> <span id=\"unv_39954059\"></span> | <a href=\"hide?id=39954059&amp;goto=news\">hide</a> | <a href=\"item?id=39954059\">14 comments</a> </span>\n",
       "</td></tr>\n",
       "<tr class=\"spacer\" style=\"height:5px\"></tr>\n",
       "<tr class=\"athing\" id=\"39955725\">\n",
       "<td align=\"right\" class=\"title\" valign=\"top\"><span class=\"rank\">18.</span></td> <td class=\"votelinks\" valign=\"top\"><center><a href=\"vote?id=39955725&amp;how=up&amp;goto=news\" id=\"up_39955725\"><div class=\"votearrow\" title=\"upvote\"></div></a></center></td><td class=\"title\"><span class=\"titleline\"><a href=\"https://arxiv.org/abs/2402.05120\">More Agents Is All You Need: LLMs performance scales with the number of agents</a><span class=\"sitebit comhead\"> (<a href=\"from?site=arxiv.org\"><span class=\"sitestr\">arxiv.org</span></a>)</span></span></td></tr><tr><td colspan=\"2\"></td><td class=\"subtext\"><span class=\"subline\">\n",
       "<span class=\"score\" id=\"score_39955725\">218 points</span> by <a class=\"hnuser\" href=\"user?id=TaurenHunter\">TaurenHunter</a> <span class=\"age\" title=\"2024-04-06T21:25:50\"><a href=\"item?id=39955725\">13 hours ago</a></span> <span id=\"unv_39955725\"></span> | <a href=\"hide?id=39955725&amp;goto=news\">hide</a> | <a href=\"item?id=39955725\">147 comments</a> </span>\n",
       "</td></tr>\n",
       "<tr class=\"spacer\" style=\"height:5px\"></tr>\n",
       "<tr class=\"athing\" id=\"39928681\">\n",
       "<td align=\"right\" class=\"title\" valign=\"top\"><span class=\"rank\">19.</span></td> <td class=\"votelinks\" valign=\"top\"><center><a href=\"vote?id=39928681&amp;how=up&amp;goto=news\" id=\"up_39928681\"><div class=\"votearrow\" title=\"upvote\"></div></a></center></td><td class=\"title\"><span class=\"titleline\"><a href=\"https://github.com/jpillora/chisel\">Chisel: A fast TCP/UDP tunnel over HTTP</a><span class=\"sitebit comhead\"> (<a href=\"from?site=github.com/jpillora\"><span class=\"sitestr\">github.com/jpillora</span></a>)</span></span></td></tr><tr><td colspan=\"2\"></td><td class=\"subtext\"><span class=\"subline\">\n",
       "<span class=\"score\" id=\"score_39928681\">230 points</span> by <a class=\"hnuser\" href=\"user?id=lyu07282\">lyu07282</a> <span class=\"age\" title=\"2024-04-04T10:47:51\"><a href=\"item?id=39928681\">20 hours ago</a></span> <span id=\"unv_39928681\"></span> | <a href=\"hide?id=39928681&amp;goto=news\">hide</a> | <a href=\"item?id=39928681\">44 comments</a> </span>\n",
       "</td></tr>\n",
       "<tr class=\"spacer\" style=\"height:5px\"></tr>\n",
       "<tr class=\"athing\" id=\"39956455\">\n",
       "<td align=\"right\" class=\"title\" valign=\"top\"><span class=\"rank\">20.</span></td> <td class=\"votelinks\" valign=\"top\"><center><a href=\"vote?id=39956455&amp;how=up&amp;goto=news\" id=\"up_39956455\"><div class=\"votearrow\" title=\"upvote\"></div></a></center></td><td class=\"title\"><span class=\"titleline\"><a href=\"https://twitter.com/bl4sty/status/1776691497506623562\">The xz sshd backdoor rabbithole goes quite a bit deeper</a><span class=\"sitebit comhead\"> (<a href=\"from?site=twitter.com/bl4sty\"><span class=\"sitestr\">twitter.com/bl4sty</span></a>)</span></span></td></tr><tr><td colspan=\"2\"></td><td class=\"subtext\"><span class=\"subline\">\n",
       "<span class=\"score\" id=\"score_39956455\">324 points</span> by <a class=\"hnuser\" href=\"user?id=nathell\">nathell</a> <span class=\"age\" title=\"2024-04-06T22:59:25\"><a href=\"item?id=39956455\">12 hours ago</a></span> <span id=\"unv_39956455\"></span> | <a href=\"hide?id=39956455&amp;goto=news\">hide</a> | <a href=\"item?id=39956455\">185 comments</a> </span>\n",
       "</td></tr>\n",
       "<tr class=\"spacer\" style=\"height:5px\"></tr>\n",
       "<tr class=\"athing\" id=\"39958523\">\n",
       "<td align=\"right\" class=\"title\" valign=\"top\"><span class=\"rank\">21.</span></td> <td class=\"votelinks\" valign=\"top\"><center><a href=\"vote?id=39958523&amp;how=up&amp;goto=news\" id=\"up_39958523\"><div class=\"votearrow\" title=\"upvote\"></div></a></center></td><td class=\"title\"><span class=\"titleline\"><a href=\"https://www.psypost.org/exposure-therapy-for-arachnophobia-can-benefit-unrelated-fears-study-finds/\">Exposure therapy for arachnophobia can benefit unrelated fears, study finds</a><span class=\"sitebit comhead\"> (<a href=\"from?site=psypost.org\"><span class=\"sitestr\">psypost.org</span></a>)</span></span></td></tr><tr><td colspan=\"2\"></td><td class=\"subtext\"><span class=\"subline\">\n",
       "<span class=\"score\" id=\"score_39958523\">25 points</span> by <a class=\"hnuser\" href=\"user?id=mpweiher\">mpweiher</a> <span class=\"age\" title=\"2024-04-07T06:06:59\"><a href=\"item?id=39958523\">5 hours ago</a></span> <span id=\"unv_39958523\"></span> | <a href=\"hide?id=39958523&amp;goto=news\">hide</a> | <a href=\"item?id=39958523\">11 comments</a> </span>\n",
       "</td></tr>\n",
       "<tr class=\"spacer\" style=\"height:5px\"></tr>\n",
       "<tr class=\"athing\" id=\"39955057\">\n",
       "<td align=\"right\" class=\"title\" valign=\"top\"><span class=\"rank\">22.</span></td> <td class=\"votelinks\" valign=\"top\"><center><a href=\"vote?id=39955057&amp;how=up&amp;goto=news\" id=\"up_39955057\"><div class=\"votearrow\" title=\"upvote\"></div></a></center></td><td class=\"title\"><span class=\"titleline\"><a href=\"https://brutalisthackernews.com\">Show HN: Brutalist Hacker News – A HN reader inspired by brutalist web design</a><span class=\"sitebit comhead\"> (<a href=\"from?site=brutalisthackernews.com\"><span class=\"sitestr\">brutalisthackernews.com</span></a>)</span></span></td></tr><tr><td colspan=\"2\"></td><td class=\"subtext\"><span class=\"subline\">\n",
       "<span class=\"score\" id=\"score_39955057\">71 points</span> by <a class=\"hnuser\" href=\"user?id=wkyleg\">wkyleg</a> <span class=\"age\" title=\"2024-04-06T20:08:47\"><a href=\"item?id=39955057\">15 hours ago</a></span> <span id=\"unv_39955057\"></span> | <a href=\"hide?id=39955057&amp;goto=news\">hide</a> | <a href=\"item?id=39955057\">122 comments</a> </span>\n",
       "</td></tr>\n",
       "<tr class=\"spacer\" style=\"height:5px\"></tr>\n",
       "<tr class=\"athing\" id=\"39930052\">\n",
       "<td align=\"right\" class=\"title\" valign=\"top\"><span class=\"rank\">23.</span></td> <td class=\"votelinks\" valign=\"top\"><center><a href=\"vote?id=39930052&amp;how=up&amp;goto=news\" id=\"up_39930052\"><div class=\"votearrow\" title=\"upvote\"></div></a></center></td><td class=\"title\"><span class=\"titleline\"><a href=\"https://www.youtube.com/watch?v=ADvyZOxlBu4\">ChrysaLisp GUI Demo [video]</a><span class=\"sitebit comhead\"> (<a href=\"from?site=youtube.com\"><span class=\"sitestr\">youtube.com</span></a>)</span></span></td></tr><tr><td colspan=\"2\"></td><td class=\"subtext\"><span class=\"subline\">\n",
       "<span class=\"score\" id=\"score_39930052\">132 points</span> by <a class=\"hnuser\" href=\"user?id=Koshkin\">Koshkin</a> <span class=\"age\" title=\"2024-04-04T13:21:33\"><a href=\"item?id=39930052\">20 hours ago</a></span> <span id=\"unv_39930052\"></span> | <a href=\"hide?id=39930052&amp;goto=news\">hide</a> | <a href=\"item?id=39930052\">7 comments</a> </span>\n",
       "</td></tr>\n",
       "<tr class=\"spacer\" style=\"height:5px\"></tr>\n",
       "<tr class=\"athing\" id=\"39953707\">\n",
       "<td align=\"right\" class=\"title\" valign=\"top\"><span class=\"rank\">24.</span></td> <td><img height=\"1\" src=\"s.gif\" width=\"14\"/></td> <td class=\"title\"><span class=\"titleline\"><a href=\"https://jobs.gem.com/zep/am9icG9zdDre4RbzEeB4wYY7s9TjXwhp\" rel=\"nofollow\">Zep AI (YC W24) is hiring a founding Go engineer</a><span class=\"sitebit comhead\"> (<a href=\"from?site=gem.com\"><span class=\"sitestr\">gem.com</span></a>)</span></span></td></tr><tr><td colspan=\"2\"></td><td class=\"subtext\">\n",
       "<span class=\"age\" title=\"2024-04-06T17:00:02\"><a href=\"item?id=39953707\">18 hours ago</a></span> | <a href=\"hide?id=39953707&amp;goto=news\">hide</a> </td></tr>\n",
       "<tr class=\"spacer\" style=\"height:5px\"></tr>\n",
       "<tr class=\"athing\" id=\"39928223\">\n",
       "<td align=\"right\" class=\"title\" valign=\"top\"><span class=\"rank\">25.</span></td> <td class=\"votelinks\" valign=\"top\"><center><a href=\"vote?id=39928223&amp;how=up&amp;goto=news\" id=\"up_39928223\"><div class=\"votearrow\" title=\"upvote\"></div></a></center></td><td class=\"title\"><span class=\"titleline\"><a href=\"https://zilliz.com/learn/introduction-to-natural-language-processing-tokens-ngrams-bag-of-words-models\">Tokens, n-grams, and bag-of-words models (2023)</a><span class=\"sitebit comhead\"> (<a href=\"from?site=zilliz.com\"><span class=\"sitestr\">zilliz.com</span></a>)</span></span></td></tr><tr><td colspan=\"2\"></td><td class=\"subtext\"><span class=\"subline\">\n",
       "<span class=\"score\" id=\"score_39928223\">136 points</span> by <a class=\"hnuser\" href=\"user?id=fzliu\">fzliu</a> <span class=\"age\" title=\"2024-04-04T09:27:03\"><a href=\"item?id=39928223\">22 hours ago</a></span> <span id=\"unv_39928223\"></span> | <a href=\"hide?id=39928223&amp;goto=news\">hide</a> | <a href=\"item?id=39928223\">16 comments</a> </span>\n",
       "</td></tr>\n",
       "<tr class=\"spacer\" style=\"height:5px\"></tr>\n",
       "<tr class=\"athing\" id=\"39952902\">\n",
       "<td align=\"right\" class=\"title\" valign=\"top\"><span class=\"rank\">26.</span></td> <td class=\"votelinks\" valign=\"top\"><center><a href=\"vote?id=39952902&amp;how=up&amp;goto=news\" id=\"up_39952902\"><div class=\"votearrow\" title=\"upvote\"></div></a></center></td><td class=\"title\"><span class=\"titleline\"><a href=\"https://www.wsj.com/real-estate/home-insurance-aerial-images-37a18b16\">Home insurers are dropping customers based on aerial images</a><span class=\"sitebit comhead\"> (<a href=\"from?site=wsj.com\"><span class=\"sitestr\">wsj.com</span></a>)</span></span></td></tr><tr><td colspan=\"2\"></td><td class=\"subtext\"><span class=\"subline\">\n",
       "<span class=\"score\" id=\"score_39952902\">260 points</span> by <a class=\"hnuser\" href=\"user?id=traviswingo\">traviswingo</a> <span class=\"age\" title=\"2024-04-06T14:52:08\"><a href=\"item?id=39952902\">20 hours ago</a></span> <span id=\"unv_39952902\"></span> | <a href=\"hide?id=39952902&amp;goto=news\">hide</a> | <a href=\"item?id=39952902\">557 comments</a> </span>\n",
       "</td></tr>\n",
       "<tr class=\"spacer\" style=\"height:5px\"></tr>\n",
       "<tr class=\"athing\" id=\"39952570\">\n",
       "<td align=\"right\" class=\"title\" valign=\"top\"><span class=\"rank\">27.</span></td> <td class=\"votelinks\" valign=\"top\"><center><a href=\"vote?id=39952570&amp;how=up&amp;goto=news\" id=\"up_39952570\"><div class=\"votearrow\" title=\"upvote\"></div></a></center></td><td class=\"title\"><span class=\"titleline\"><a href=\"https://www.computerhistory.org/revolution/mainframe-computers/7/164\">System/360 – CHM Revolution</a><span class=\"sitebit comhead\"> (<a href=\"from?site=computerhistory.org\"><span class=\"sitestr\">computerhistory.org</span></a>)</span></span></td></tr><tr><td colspan=\"2\"></td><td class=\"subtext\"><span class=\"subline\">\n",
       "<span class=\"score\" id=\"score_39952570\">63 points</span> by <a class=\"hnuser\" href=\"user?id=rbanffy\">rbanffy</a> <span class=\"age\" title=\"2024-04-06T14:12:13\"><a href=\"item?id=39952570\">20 hours ago</a></span> <span id=\"unv_39952570\"></span> | <a href=\"hide?id=39952570&amp;goto=news\">hide</a> | <a href=\"item?id=39952570\">23 comments</a> </span>\n",
       "</td></tr>\n",
       "<tr class=\"spacer\" style=\"height:5px\"></tr>\n",
       "<tr class=\"athing\" id=\"39952826\">\n",
       "<td align=\"right\" class=\"title\" valign=\"top\"><span class=\"rank\">28.</span></td> <td class=\"votelinks\" valign=\"top\"><center><a href=\"vote?id=39952826&amp;how=up&amp;goto=news\" id=\"up_39952826\"><div class=\"votearrow\" title=\"upvote\"></div></a></center></td><td class=\"title\"><span class=\"titleline\"><a href=\"https://arxiv.org/abs/2311.03099\">Language models are Super Mario: Absorbing abilities from homologous models</a><span class=\"sitebit comhead\"> (<a href=\"from?site=arxiv.org\"><span class=\"sitestr\">arxiv.org</span></a>)</span></span></td></tr><tr><td colspan=\"2\"></td><td class=\"subtext\"><span class=\"subline\">\n",
       "<span class=\"score\" id=\"score_39952826\">99 points</span> by <a class=\"hnuser\" href=\"user?id=tosh\">tosh</a> <span class=\"age\" title=\"2024-04-06T14:39:05\"><a href=\"item?id=39952826\">20 hours ago</a></span> <span id=\"unv_39952826\"></span> | <a href=\"hide?id=39952826&amp;goto=news\">hide</a> | <a href=\"item?id=39952826\">58 comments</a> </span>\n",
       "</td></tr>\n",
       "<tr class=\"spacer\" style=\"height:5px\"></tr>\n",
       "<tr class=\"athing\" id=\"39950760\">\n",
       "<td align=\"right\" class=\"title\" valign=\"top\"><span class=\"rank\">29.</span></td> <td class=\"votelinks\" valign=\"top\"><center><a href=\"vote?id=39950760&amp;how=up&amp;goto=news\" id=\"up_39950760\"><div class=\"votearrow\" title=\"upvote\"></div></a></center></td><td class=\"title\"><span class=\"titleline\"><a href=\"https://evaparish.com/blog/how-i-edit\">What I think about when I edit (2019)</a><span class=\"sitebit comhead\"> (<a href=\"from?site=evaparish.com\"><span class=\"sitestr\">evaparish.com</span></a>)</span></span></td></tr><tr><td colspan=\"2\"></td><td class=\"subtext\"><span class=\"subline\">\n",
       "<span class=\"score\" id=\"score_39950760\">290 points</span> by <a class=\"hnuser\" href=\"user?id=tarf\">tarf</a> <span class=\"age\" title=\"2024-04-06T07:48:25\"><a href=\"item?id=39950760\">1 day ago</a></span> <span id=\"unv_39950760\"></span> | <a href=\"hide?id=39950760&amp;goto=news\">hide</a> | <a href=\"item?id=39950760\">124 comments</a> </span>\n",
       "</td></tr>\n",
       "<tr class=\"spacer\" style=\"height:5px\"></tr>\n",
       "<tr class=\"athing\" id=\"39928866\">\n",
       "<td align=\"right\" class=\"title\" valign=\"top\"><span class=\"rank\">30.</span></td> <td class=\"votelinks\" valign=\"top\"><center><a href=\"vote?id=39928866&amp;how=up&amp;goto=news\" id=\"up_39928866\"><div class=\"votearrow\" title=\"upvote\"></div></a></center></td><td class=\"title\"><span class=\"titleline\"><a href=\"https://phys.org/news/2024-04-sunflower-family-tree-reveals-multiple.html\">New sunflower family tree reveals multiple origins of flower symmetry</a><span class=\"sitebit comhead\"> (<a href=\"from?site=phys.org\"><span class=\"sitestr\">phys.org</span></a>)</span></span></td></tr><tr><td colspan=\"2\"></td><td class=\"subtext\"><span class=\"subline\">\n",
       "<span class=\"score\" id=\"score_39928866\">48 points</span> by <a class=\"hnuser\" href=\"user?id=pseudolus\">pseudolus</a> <span class=\"age\" title=\"2024-04-04T11:17:10\"><a href=\"item?id=39928866\">20 hours ago</a></span> <span id=\"unv_39928866\"></span> | <a href=\"hide?id=39928866&amp;goto=news\">hide</a> | <a href=\"item?id=39928866\">4 comments</a> </span>\n",
       "</td></tr>\n",
       "<tr class=\"spacer\" style=\"height:5px\"></tr>\n",
       "<tr class=\"morespace\" style=\"height:10px\"></tr><tr><td colspan=\"2\"></td>\n",
       "<td class=\"title\"><a class=\"morelink\" href=\"?p=2\" rel=\"next\">More</a></td> </tr>\n",
       "</table>\n",
       "</td></tr>\n",
       "<tr><td><img height=\"10\" src=\"s.gif\" width=\"0\"/><table cellpadding=\"1\" cellspacing=\"0\" width=\"100%\"><tr><td bgcolor=\"#ff6600\"></td></tr></table><br/>\n",
       "<center><span class=\"yclinks\"><a href=\"newsguidelines.html\">Guidelines</a> | <a href=\"newsfaq.html\">FAQ</a> | <a href=\"lists\">Lists</a> | <a href=\"https://github.com/HackerNews/API\">API</a> | <a href=\"security.html\">Security</a> | <a href=\"https://www.ycombinator.com/legal/\">Legal</a> | <a href=\"https://www.ycombinator.com/apply/\">Apply to YC</a> | <a href=\"mailto:hn@ycombinator.com\">Contact</a></span><br/><br/>\n",
       "<form action=\"//hn.algolia.com/\" method=\"get\">Search: <input autocapitalize=\"off\" autocomplete=\"false\" autocorrect=\"off\" name=\"q\" size=\"17\" spellcheck=\"false\" type=\"text\"/></form></center></td></tr> </table></center></body>\n",
       "<script src=\"hn.js?i3TCm9mQaQeIHjM4t2Io\" type=\"text/javascript\"></script>\n",
       "</html>"
      ]
     },
     "execution_count": 20,
     "metadata": {},
     "output_type": "execute_result"
    }
   ],
   "source": [
    "soup = BeautifulSoup(html_content, 'html.parser')\n",
    "soup"
   ]
  },
  {
   "cell_type": "code",
   "execution_count": 35,
   "metadata": {},
   "outputs": [
    {
     "data": {
      "text/plain": [
       "[('Structuralism as a Philosophy of Mathematics',\n",
       "  'https://www.infinitelymore.xyz/p/structuralism'),\n",
       " ('Did any processor implement an integer square root instruction?',\n",
       "  'https://retrocomputing.stackexchange.com/questions/29787/did-any-processor-implement-an-integer-square-root-instruction'),\n",
       " ('ElephantSQL Is Shutting Down',\n",
       "  'https://www.elephantsql.com/blog/end-of-life-announcement.html'),\n",
       " ('Is the frequency domain a real place?',\n",
       "  'https://lcamtuf.substack.com/p/is-the-frequency-domain-a-real-place'),\n",
       " ('WinBtrfs – an open-source btrfs driver for Windows',\n",
       "  'https://github.com/maharmstone/btrfs'),\n",
       " ('Sophia: Scalable Stochastic 2nd-Order Optimizer for Language Model Pre-Training',\n",
       "  'https://arxiv.org/abs/2305.14342'),\n",
       " ('PM2: Production Process Manager with a Built-In Load Balancer',\n",
       "  'https://github.com/Unitech/pm2'),\n",
       " ('Show HN: Online database diagram editor',\n",
       "  'https://github.com/drawdb-io/drawdb'),\n",
       " ('Cache is King: A guide for Docker layer caching in GitHub Actions',\n",
       "  'https://blacksmith.sh/blog/cache-is-king-a-guide-for-docker-layer-caching-in-github-actions'),\n",
       " ('Dot: use of local LLMs and RAG in particular to interact with documents',\n",
       "  'https://github.com/alexpinel/Dot'),\n",
       " ('Faces.js, a JavaScript library for generating vector-based cartoon faces',\n",
       "  'https://zengm.com/facesjs/'),\n",
       " ('Gakken Ex-System', 'https://en.wikipedia.org/wiki/Gakken_EX-System'),\n",
       " ('A memory model for Rust code in the kernel',\n",
       "  'https://lwn.net/SubscriberLink/967049/0ffb9b9ed8940013/'),\n",
       " ('A canonical Hamiltonian formulation of the Navier–Stokes problem',\n",
       "  'https://www.cambridge.org/core/journals/journal-of-fluid-mechanics/article/canonical-hamiltonian-formulation-of-the-navierstokes-problem/B3EB9389AE700867A6A3EA63A45E69C6'),\n",
       " ('Lago, Open-Source Stripe Alternative, banks $22M in funding',\n",
       "  'https://techcrunch.com/2024/03/14/lago-a-paris-based-open-source-billing-platform-banks-22m/'),\n",
       " ('Anti-crime humps in medieval Venice',\n",
       "  'https://www.visitvenezia.eu/en/venetianity/discover-venice/the-venetian-antibandito-humps-or-pissotte-what-exactly-are-they'),\n",
       " ('A Theory of Composing Protocols (2023)',\n",
       "  'https://programming-journal.org/2023/7/6/'),\n",
       " ('More Agents Is All You Need: LLMs performance scales with the number of agents',\n",
       "  'https://arxiv.org/abs/2402.05120'),\n",
       " ('Chisel: A fast TCP/UDP tunnel over HTTP',\n",
       "  'https://github.com/jpillora/chisel'),\n",
       " ('The xz sshd backdoor rabbithole goes quite a bit deeper',\n",
       "  'https://twitter.com/bl4sty/status/1776691497506623562'),\n",
       " ('Exposure therapy for arachnophobia can benefit unrelated fears, study finds',\n",
       "  'https://www.psypost.org/exposure-therapy-for-arachnophobia-can-benefit-unrelated-fears-study-finds/'),\n",
       " ('Show HN: Brutalist Hacker News – A HN reader inspired by brutalist web design',\n",
       "  'https://brutalisthackernews.com'),\n",
       " ('ChrysaLisp GUI Demo [video]',\n",
       "  'https://www.youtube.com/watch?v=ADvyZOxlBu4'),\n",
       " ('Zep AI (YC W24) is hiring a founding Go engineer',\n",
       "  'https://jobs.gem.com/zep/am9icG9zdDre4RbzEeB4wYY7s9TjXwhp'),\n",
       " ('Tokens, n-grams, and bag-of-words models (2023)',\n",
       "  'https://zilliz.com/learn/introduction-to-natural-language-processing-tokens-ngrams-bag-of-words-models'),\n",
       " ('Home insurers are dropping customers based on aerial images',\n",
       "  'https://www.wsj.com/real-estate/home-insurance-aerial-images-37a18b16'),\n",
       " ('System/360 – CHM Revolution',\n",
       "  'https://www.computerhistory.org/revolution/mainframe-computers/7/164'),\n",
       " ('Language models are Super Mario: Absorbing abilities from homologous models',\n",
       "  'https://arxiv.org/abs/2311.03099'),\n",
       " ('What I think about when I edit (2019)',\n",
       "  'https://evaparish.com/blog/how-i-edit'),\n",
       " ('New sunflower family tree reveals multiple origins of flower symmetry',\n",
       "  'https://phys.org/news/2024-04-sunflower-family-tree-reveals-multiple.html')]"
      ]
     },
     "execution_count": 35,
     "metadata": {},
     "output_type": "execute_result"
    }
   ],
   "source": [
    "headline_rows = soup.find_all('span', class_='titleline')\n",
    "headlines = []\n",
    "for row in headline_rows:\n",
    "    headline_link = row.find('a')\n",
    "    if headline_link:\n",
    "    # Extract the text (headline) and the 'href' attribute (URL)\n",
    "        headline_text = headline_link.text\n",
    "        headline_url = headline_link['href']\n",
    "        \n",
    "    # Append a tuple of the headline text and URL to the headlines list\n",
    "        headlines.append((headline_text, headline_url))\n",
    "headlines"
   ]
  },
  {
   "cell_type": "code",
   "execution_count": null,
   "metadata": {},
   "outputs": [],
   "source": [
    "# Find all 'a' tags within 'td' tags with the class 'title'\n",
    "headline_tags = soup.find_all('a')\n",
    "\n",
    "# Extract headlines and URLs\n",
    "headlines = [(tag.text, tag['href']) for tag in headline_tags]\n",
    "type(headline_rows)"
   ]
  },
  {
   "cell_type": "code",
   "execution_count": 9,
   "metadata": {},
   "outputs": [],
   "source": [
    "for i, (headline, url) in enumerate(headlines, 1):\n",
    "    print(f\"{i}. {headline}\\n   {url}\\n\")"
   ]
  },
  {
   "cell_type": "markdown",
   "metadata": {},
   "source": [
    "We need a list of all PCCs/force areas. let us scrape that list:\n"
   ]
  },
  {
   "cell_type": "code",
   "execution_count": 46,
   "metadata": {},
   "outputs": [
    {
     "data": {
      "text/plain": [
       "<!DOCTYPE html>\n",
       "<html lang=\"en-US\"><head><title>Just a moment...</title><meta content=\"text/html; charset=utf-8\" http-equiv=\"Content-Type\"/><meta content=\"IE=Edge\" http-equiv=\"X-UA-Compatible\"/><meta content=\"noindex,nofollow\" name=\"robots\"/><meta content=\"width=device-width,initial-scale=1\" name=\"viewport\"/><style>*{box-sizing:border-box;margin:0;padding:0}html{line-height:1.15;-webkit-text-size-adjust:100%;color:#313131}button,html{font-family:system-ui,-apple-system,BlinkMacSystemFont,Segoe UI,Roboto,Helvetica Neue,Arial,Noto Sans,sans-serif,Apple Color Emoji,Segoe UI Emoji,Segoe UI Symbol,Noto Color Emoji}@media (prefers-color-scheme:dark){body{background-color:#222;color:#d9d9d9}body a{color:#fff}body a:hover{color:#ee730a;text-decoration:underline}body .lds-ring div{border-color:#999 transparent transparent}body .font-red{color:#b20f03}body .big-button,body .pow-button{background-color:#4693ff;color:#1d1d1d}body #challenge-success-text{background-image:url(data:image/svg+xml;base64,PHN2ZyB4bWxucz0iaHR0cDovL3d3dy53My5vcmcvMjAwMC9zdmciIHdpZHRoPSIzMiIgaGVpZ2h0PSIzMiIgZmlsbD0ibm9uZSIgdmlld0JveD0iMCAwIDI2IDI2Ij48cGF0aCBmaWxsPSIjZDlkOWQ5IiBkPSJNMTMgMGExMyAxMyAwIDEgMCAwIDI2IDEzIDEzIDAgMCAwIDAtMjZtMCAyNGExMSAxMSAwIDEgMSAwLTIyIDExIDExIDAgMCAxIDAgMjIiLz48cGF0aCBmaWxsPSIjZDlkOWQ5IiBkPSJtMTAuOTU1IDE2LjA1NS0zLjk1LTQuMTI1LTEuNDQ1IDEuMzg1IDUuMzcgNS42MSA5LjQ5NS05LjYtMS40Mi0xLjQwNXoiLz48L3N2Zz4=)}body #challenge-error-text{background-image:url(data:image/svg+xml;base64,PHN2ZyB4bWxucz0iaHR0cDovL3d3dy53My5vcmcvMjAwMC9zdmciIHdpZHRoPSIzMiIgaGVpZ2h0PSIzMiIgZmlsbD0ibm9uZSI+PHBhdGggZmlsbD0iI0IyMEYwMyIgZD0iTTE2IDNhMTMgMTMgMCAxIDAgMTMgMTNBMTMuMDE1IDEzLjAxNSAwIDAgMCAxNiAzbTAgMjRhMTEgMTEgMCAxIDEgMTEtMTEgMTEuMDEgMTEuMDEgMCAwIDEtMTEgMTEiLz48cGF0aCBmaWxsPSIjQjIwRjAzIiBkPSJNMTcuMDM4IDE4LjYxNUgxNC44N0wxNC41NjMgOS41aDIuNzgzem0tMS4wODQgMS40MjdxLjY2IDAgMS4wNTcuMzg4LjQwNy4zODkuNDA3Ljk5NCAwIC41OTYtLjQwNy45ODQtLjM5Ny4zOS0xLjA1Ny4zODktLjY1IDAtMS4wNTYtLjM4OS0uMzk4LS4zODktLjM5OC0uOTg0IDAtLjU5Ny4zOTgtLjk4NS40MDYtLjM5NyAxLjA1Ni0uMzk3Ii8+PC9zdmc+)}}body{display:flex;flex-direction:column;min-height:100vh}body.no-js .loading-spinner{visibility:hidden}body.no-js .challenge-running{display:none}body.dark{background-color:#222;color:#d9d9d9}body.dark a{color:#fff}body.dark a:hover{color:#ee730a;text-decoration:underline}body.dark .lds-ring div{border-color:#999 transparent transparent}body.dark .font-red{color:#b20f03}body.dark .big-button,body.dark .pow-button{background-color:#4693ff;color:#1d1d1d}body.dark #challenge-success-text{background-image:url(data:image/svg+xml;base64,PHN2ZyB4bWxucz0iaHR0cDovL3d3dy53My5vcmcvMjAwMC9zdmciIHdpZHRoPSIzMiIgaGVpZ2h0PSIzMiIgZmlsbD0ibm9uZSIgdmlld0JveD0iMCAwIDI2IDI2Ij48cGF0aCBmaWxsPSIjZDlkOWQ5IiBkPSJNMTMgMGExMyAxMyAwIDEgMCAwIDI2IDEzIDEzIDAgMCAwIDAtMjZtMCAyNGExMSAxMSAwIDEgMSAwLTIyIDExIDExIDAgMCAxIDAgMjIiLz48cGF0aCBmaWxsPSIjZDlkOWQ5IiBkPSJtMTAuOTU1IDE2LjA1NS0zLjk1LTQuMTI1LTEuNDQ1IDEuMzg1IDUuMzcgNS42MSA5LjQ5NS05LjYtMS40Mi0xLjQwNXoiLz48L3N2Zz4=)}body.dark #challenge-error-text{background-image:url(data:image/svg+xml;base64,PHN2ZyB4bWxucz0iaHR0cDovL3d3dy53My5vcmcvMjAwMC9zdmciIHdpZHRoPSIzMiIgaGVpZ2h0PSIzMiIgZmlsbD0ibm9uZSI+PHBhdGggZmlsbD0iI0IyMEYwMyIgZD0iTTE2IDNhMTMgMTMgMCAxIDAgMTMgMTNBMTMuMDE1IDEzLjAxNSAwIDAgMCAxNiAzbTAgMjRhMTEgMTEgMCAxIDEgMTEtMTEgMTEuMDEgMTEuMDEgMCAwIDEtMTEgMTEiLz48cGF0aCBmaWxsPSIjQjIwRjAzIiBkPSJNMTcuMDM4IDE4LjYxNUgxNC44N0wxNC41NjMgOS41aDIuNzgzem0tMS4wODQgMS40MjdxLjY2IDAgMS4wNTcuMzg4LjQwNy4zODkuNDA3Ljk5NCAwIC41OTYtLjQwNy45ODQtLjM5Ny4zOS0xLjA1Ny4zODktLjY1IDAtMS4wNTYtLjM4OS0uMzk4LS4zODktLjM5OC0uOTg0IDAtLjU5Ny4zOTgtLjk4NS40MDYtLjM5NyAxLjA1Ni0uMzk3Ii8+PC9zdmc+)}body.light{background-color:transparent;color:#313131}body.light a{color:#0051c3}body.light a:hover{color:#ee730a;text-decoration:underline}body.light .lds-ring div{border-color:#595959 transparent transparent}body.light .font-red{color:#fc574a}body.light .big-button,body.light .pow-button{background-color:#003681;border-color:#003681;color:#fff}body.light #challenge-success-text{background-image:url(data:image/svg+xml;base64,PHN2ZyB4bWxucz0iaHR0cDovL3d3dy53My5vcmcvMjAwMC9zdmciIHdpZHRoPSIzMiIgaGVpZ2h0PSIzMiIgZmlsbD0ibm9uZSIgdmlld0JveD0iMCAwIDI2IDI2Ij48cGF0aCBmaWxsPSIjMzEzMTMxIiBkPSJNMTMgMGExMyAxMyAwIDEgMCAwIDI2IDEzIDEzIDAgMCAwIDAtMjZtMCAyNGExMSAxMSAwIDEgMSAwLTIyIDExIDExIDAgMCAxIDAgMjIiLz48cGF0aCBmaWxsPSIjMzEzMTMxIiBkPSJtMTAuOTU1IDE2LjA1NS0zLjk1LTQuMTI1LTEuNDQ1IDEuMzg1IDUuMzcgNS42MSA5LjQ5NS05LjYtMS40Mi0xLjQwNXoiLz48L3N2Zz4=)}body.light #challenge-error-text{background-image:url(data:image/svg+xml;base64,PHN2ZyB4bWxucz0iaHR0cDovL3d3dy53My5vcmcvMjAwMC9zdmciIHdpZHRoPSIzMiIgaGVpZ2h0PSIzMiIgZmlsbD0ibm9uZSI+PHBhdGggZmlsbD0iI2ZjNTc0YSIgZD0iTTE2IDNhMTMgMTMgMCAxIDAgMTMgMTNBMTMuMDE1IDEzLjAxNSAwIDAgMCAxNiAzbTAgMjRhMTEgMTEgMCAxIDEgMTEtMTEgMTEuMDEgMTEuMDEgMCAwIDEtMTEgMTEiLz48cGF0aCBmaWxsPSIjZmM1NzRhIiBkPSJNMTcuMDM4IDE4LjYxNUgxNC44N0wxNC41NjMgOS41aDIuNzgzem0tMS4wODQgMS40MjdxLjY2IDAgMS4wNTcuMzg4LjQwNy4zODkuNDA3Ljk5NCAwIC41OTYtLjQwNy45ODQtLjM5Ny4zOS0xLjA1Ny4zODktLjY1IDAtMS4wNTYtLjM4OS0uMzk4LS4zODktLjM5OC0uOTg0IDAtLjU5Ny4zOTgtLjk4NS40MDYtLjM5NyAxLjA1Ni0uMzk3Ii8+PC9zdmc+)}a{background-color:transparent;color:#0051c3;text-decoration:none;transition:color .15s ease}a:hover{color:#ee730a;text-decoration:underline}.main-content{margin:8rem auto;max-width:60rem;width:100%}.heading-favicon{height:2rem;margin-right:.5rem;width:2rem}@media (width <= 720px){.main-content{margin-top:4rem}.heading-favicon{height:1.5rem;width:1.5rem}}.footer,.main-content{padding-left:1.5rem;padding-right:1.5rem}.main-wrapper{align-items:center;display:flex;flex:1;flex-direction:column}.font-red{color:#b20f03}.spacer{margin:2rem 0}.h1{font-size:2.5rem;font-weight:500;line-height:3.75rem}.h2{font-weight:500}.core-msg,.h2{font-size:1.5rem;line-height:2.25rem}.body-text,.core-msg{font-weight:400}.body-text{font-size:1rem;line-height:1.25rem}@media (width <= 720px){.h1{font-size:1.5rem;line-height:1.75rem}.h2{font-size:1.25rem}.core-msg,.h2{line-height:1.5rem}.core-msg{font-size:1rem}}#challenge-error-text{background-image:url(data:image/svg+xml;base64,PHN2ZyB4bWxucz0iaHR0cDovL3d3dy53My5vcmcvMjAwMC9zdmciIHdpZHRoPSIzMiIgaGVpZ2h0PSIzMiIgZmlsbD0ibm9uZSI+PHBhdGggZmlsbD0iI2ZjNTc0YSIgZD0iTTE2IDNhMTMgMTMgMCAxIDAgMTMgMTNBMTMuMDE1IDEzLjAxNSAwIDAgMCAxNiAzbTAgMjRhMTEgMTEgMCAxIDEgMTEtMTEgMTEuMDEgMTEuMDEgMCAwIDEtMTEgMTEiLz48cGF0aCBmaWxsPSIjZmM1NzRhIiBkPSJNMTcuMDM4IDE4LjYxNUgxNC44N0wxNC41NjMgOS41aDIuNzgzem0tMS4wODQgMS40MjdxLjY2IDAgMS4wNTcuMzg4LjQwNy4zODkuNDA3Ljk5NCAwIC41OTYtLjQwNy45ODQtLjM5Ny4zOS0xLjA1Ny4zODktLjY1IDAtMS4wNTYtLjM4OS0uMzk4LS4zODktLjM5OC0uOTg0IDAtLjU5Ny4zOTgtLjk4NS40MDYtLjM5NyAxLjA1Ni0uMzk3Ii8+PC9zdmc+);padding-left:34px}#challenge-error-text,#challenge-success-text{background-repeat:no-repeat;background-size:contain}#challenge-success-text{background-image:url(data:image/svg+xml;base64,PHN2ZyB4bWxucz0iaHR0cDovL3d3dy53My5vcmcvMjAwMC9zdmciIHdpZHRoPSIzMiIgaGVpZ2h0PSIzMiIgZmlsbD0ibm9uZSIgdmlld0JveD0iMCAwIDI2IDI2Ij48cGF0aCBmaWxsPSIjMzEzMTMxIiBkPSJNMTMgMGExMyAxMyAwIDEgMCAwIDI2IDEzIDEzIDAgMCAwIDAtMjZtMCAyNGExMSAxMSAwIDEgMSAwLTIyIDExIDExIDAgMCAxIDAgMjIiLz48cGF0aCBmaWxsPSIjMzEzMTMxIiBkPSJtMTAuOTU1IDE2LjA1NS0zLjk1LTQuMTI1LTEuNDQ1IDEuMzg1IDUuMzcgNS42MSA5LjQ5NS05LjYtMS40Mi0xLjQwNXoiLz48L3N2Zz4=);padding-left:42px}.text-center{text-align:center}.big-button{border:.063rem solid #0051c3;border-radius:.313rem;font-size:.875rem;line-height:1.313rem;padding:.375rem 1rem;transition-duration:.2s;transition-property:background-color,border-color,color;transition-timing-function:ease}.big-button:hover{cursor:pointer}.captcha-prompt:not(.hidden){display:flex}@media (width <= 720px){.captcha-prompt:not(.hidden){flex-wrap:wrap;justify-content:center}}.pow-button{background-color:#0051c3;color:#fff;margin:2rem 0}.pow-button:hover{background-color:#003681;border-color:#003681;color:#fff}.footer{font-size:.75rem;line-height:1.125rem;margin:0 auto;max-width:60rem;width:100%}.footer-inner{border-top:1px solid #d9d9d9;padding-bottom:1rem;padding-top:1rem}.clearfix:after{clear:both;content:\"\";display:table}.clearfix .column{float:left;padding-right:1.5rem;width:50%}.diagnostic-wrapper{margin-bottom:.5rem}.footer .ray-id{text-align:center}.footer .ray-id code{font-family:monaco,courier,monospace}.core-msg,.zone-name-title{overflow-wrap:break-word}@media (width <= 720px){.diagnostic-wrapper{display:flex;flex-wrap:wrap;justify-content:center}.clearfix:after{clear:none;content:none;display:initial;text-align:center}.column{padding-bottom:2rem}.clearfix .column{float:none;padding:0;width:auto;word-break:keep-all}.zone-name-title{margin-bottom:1rem}}.loading-spinner{height:76.391px}.lds-ring{display:inline-block;position:relative}.lds-ring,.lds-ring div{height:1.875rem;width:1.875rem}.lds-ring div{animation:lds-ring 1.2s cubic-bezier(.5,0,.5,1) infinite;border:.3rem solid transparent;border-radius:50%;border-top-color:#313131;box-sizing:border-box;display:block;position:absolute}.lds-ring div:first-child{animation-delay:-.45s}.lds-ring div:nth-child(2){animation-delay:-.3s}.lds-ring div:nth-child(3){animation-delay:-.15s}@keyframes lds-ring{0%{transform:rotate(0)}to{transform:rotate(1turn)}}@media screen and (-ms-high-contrast:active),screen and (-ms-high-contrast:none){.main-wrapper,body{display:block}}</style><meta content=\"375\" http-equiv=\"refresh\"/></head><body class=\"no-js\"><div class=\"main-wrapper\" role=\"main\"><div class=\"main-content\"><noscript><div id=\"challenge-error-title\"><div class=\"h2\"><span id=\"challenge-error-text\">Enable JavaScript and cookies to continue</span></div></div></noscript></div></div><script>(function(){window._cf_chl_opt={cvId: '3',cZone: \"www.police.uk\",cType: 'managed',cNounce: '42736',cRay: '871a96246ee394ac',cHash: '3b2d5d14ae06da7',cUPMDTk: \"\\/?__cf_chl_tk=shOUR.AdeN2KfiT2e2aGpXC7sxaiwCafP5YoYvWRVXY-1712666645-0.0.1.1-1578\",cFPWv: 'b',cTTimeMs: '1000',cMTimeMs: '375000',cTplV: 5,cTplB: 'cf',cK: \"visitor-time\",fa: \"\\/?__cf_chl_f_tk=shOUR.AdeN2KfiT2e2aGpXC7sxaiwCafP5YoYvWRVXY-1712666645-0.0.1.1-1578\",md: \"6H4OwbhlsRC4ihOz2jUMd1yMBXmhQF.jYjRfwzmZL2s-1712666645-1.1.1.1-9cfkXKSlEncebbUljAZdoWg2gN6yS3ienVdntXCwUhqQsqx6JdXUwF2kbzvfwDXCkpuzphuPlxud5hK2Y6Yd.up.GYPVSWmfs35Fm.RVxARmOpVRcTmPpsp09xKb7._YUHQWSApNzOKTDkzZkWiJA7dN.7He1ziOP5ea8hRuRwK8rxQMfE7rzEdE3_1ch7DRnVBLVs1irlgEIanLGqmx03Ph.t8nFLFZEjTg4V6y0.EsJutLSrtfo7OW21RIDejxyt.6ydoFNDWlvOsZmsGacTX1sM4p1O4tuF5n6AgI59_jhdMeBCy3O01mO1VOBjYjCoOHMhMJRsFa3n0BPaMFusC_cPujxvNgcIoC3BOpbPubGNl8Gaiu_ManVtWLAVxCp6LEYWypNMj9QzkbcqYJPnYCZHu7PGKFya7A8e7mQz1m45tkk6uo01ftUiQ1vSKqmauLLVmo0UCyPUZPcJCYZak6HuskwcNFnjExeMvRKjtjP5Wqh55ZaLliQs9gAPSnFT2dds5yJ34wV3gDOYK5Lwt95T2Lqudr90YCtTTB2s0zuAMKGsPVyn4T0MqCViEtmgmsbHNBCRaYMRavbdIUNDd9LYe.6Zp5PRCx7e3y6u3D1qnuo7yDb2FBVNKrKawJBAPlmQhdhgSs.dZsVkt0YWovxlyuO3HH.KamC7p7k.n1ImjUzAAc2_6XSuNh086_kRUfZx8pCQOj522YqIiSik02KWbagBZ7vgNZa_l3gdEaaPar1XUKG1ebyydhw8JDaPOsW1XYJ88zJ1s3jFXXxgiOnRx6dopGJ44JpAkH.yLZIRju3yq7XgWrp1zCsC_gEND5bEnwRoefz5sCu24pZh1195xKvMksYnxnaJnVWQoQvyHl.uMqyPppNUx9zUYvJpQcA.oI6_c.SEZYr5fLxNDsSfuedD119niRmBh9KvPayTrV_AzwUZahe3s5O3sWE723dptsH4bsADmAfKgkP6tzMyLyMLGtRThEkwDhoDIOejAocE9pnKTAQAdpg1xCG3U9OqZ65DR7i.7La.3GVjlLpeDBb4UnfS1tE4KW3Y5mUfyXFkrQgOki9j9_s24B.qYSZhdSYJ6rhYXNz_Dz8lFGqTYlXPRM3zJ_Npz1L84_9xKsnSm60Kqz6FCXVLHKJY6r4QR9LiETwdLoIJBCkNGNjVoXJMA3QP6r4XRSCILD71wohV3VZifD.fXL7c06AsBOpXR9EKJpnXH7FZeVP7ibqHQW_6YrDtUIQ30UQtmBuVbdtSUJvnfQIfjmVzDan7yHg56t4cxkHYsCK1kX72M7Yv_W.HRCxh1LWnKIq78YM6ONRZuAzD.VnuB2YffpT.Rl9FQICAX4D9C1yOuOtRRgw75P8gLhAtzPbRl64TaurPrNzZpw5aahAvQySYaiKjz_BiNzQ56BmuHsVgIxGaBBk4LTuddx3d5jQbLt60kYgY0tShfM3y6HKyQlKujC2mPmva30wFwj0_.L7TXY8mFncNNObqzHJpznIFb1dgA\",mdrd: \"WKj4jl9CrSKh7deY8ANd7bB9zpDClldzqSxdJMyMOW4-1712666645-1.1.1.1-I789AnODvTEEu4sEC4nbUU9k5yIJjD8Y_I23OHDft60Ia8sGOGhZojc7esWkzrzoONBmcg289N9wQtPJpr92GVjZ8jPaMBxhOyhId32gUwc9lJ2UX.OM3rpUDWnvkA8PXjzGWX6dZvn.iDksoiLO95gpFrYHBGGolkxGGQcqgLj7WbejOBvEQp4CNvRvGMMNtg6Q6q3RqMB2Hz8EKO7OSUW0p7jz.qB3aXMvZEvMlWewcjvHShflKcpybbWybPTbJQypiqwrTRtyrHXlNi_r34wCzU8k85B5XgU8v9SPrW7BbGXSrWu89s82XVIEYCbdK6YZoAdPsyugQ8mJ0Z6RZb.jN7tX.k9AUjzQKu4w_DrZcnDgEirkqqIIB8b6sosy_qaS8yOkOusVFJwB9yAevm1WUqjOvRxd.Y97PQGRunhZgQzJi9nURmqDKKupPKCx7f7nRUdJHhIIXmDO86ugYasJbqFh583xeVZ.EO7SyIRERB.LmWUQ1D65bCiXWRxlKy5ndiXZJZ4HU4K2zK5Gq7qRBJRhmO2hZthUMlENvEZ0G4pUj4wlDdmboMl5SvJu74hmnEZzSZ26Uo2kUDdSShZOn3BD9GMUDoJr8ia_g2WWbO6pO.p8hObvJvs6XroVEiaSS_tF2MlJNK37Z31UHjmRuEYBnwTrj_dSdpW0i9kSSyD4IL0ZgULRLKYsIu.7Fjkg.OsB.0SUdSlSWzvkWFNga0TYbxDiPeqJLDcdZVu4K0mhVRJgmDea6bqdkMY1tU7gQDoCnIBUmz_6sXIk4yq8.UADyHSl4QyessZ50rVlYObbFopr9jaMY5zbKKA21CnHpirTEOMEUITXUIJnBZ6JRmwoyHJQoIxo6.IM1wHPbCsORqGmH_24beKFOkQ5UgTU__eOnDyXSqTMxaGjvfCNQyXArlfE8UAc8zMnqW64QPDxNT3wjjOGoQ6JJFwM5.QYd2sSHKEJ0be8eMGxONecxFvnyGlwTw8FIdlHgTEwTXu.b2svoN29ER7qY7tQ68P11b16VTmg0fE5D5rMtlIAI5sq1Pp9d62oISoZL5uPwjeFMV6u2tqpP9Rf2c_ORWcSplIEvqndgUUkdj20VCskAL2_jzohdAad1uxVnDd05cxUr75Hja.hXsWB1WKoATvs4cizhZREUOO.QLckA8DNf3tf8jDz23b1E_Zxa4Rnsc2HrnD8ivV0kF4v1ShC7NBQK5qo9vfWKt77d.WpmbSLbJI7.FpOVmA2YNibF3vqeL.M8ydZkRbdwKGzee8p33EJ.GwZ6Nm1hyZsLJBSsFozKzXV1K0jEWoF8YW52HxibDHPRFDJxqu5JU_8lic1adKq.Jh6aomdeDMX4xT666yiVluIDd7GMRD0dNM2uLkCE5H2exf4yHjFBbQ6W0mDQotNo1N9PwZGoi53mB0SP1cbcBxQ0jESiw69T_IBhagWoThELMzF0js8cxC3_yHYmtFuhPPl6pYaA5CY5KFXhhg07RW3W7l4sUHVDO9sOLg84k8rqF05UGf69Jywn5Cvmn9E4dn5e5xEb_gB.B2A_q183rjAayUYPsAsaaywoMiir0t2h_no0hkhnJa4eXy1hDOWo5lTcFuUFY3Co3Cf42JjU57MtKEJZAFhsfAe4n16O7VJv9xUqgseDlCUgNs.x3WxUVMzRMwEp5BUnS3sw6bRdiDuUOCzRV8cgj9gpF4DLtf4gTQZDI0KIm4YEZKT1UvTiB_iw42yCec1yOM6a8cqPI34Nh_JxENwxFcFDf3oLUjVTfPB21OnaU41bEnTT36sVoeBpPExthR3dLnAcPBXQ_IGS97SwQ3q4id89Gf5cccz9ucyTF8iOj.h7tY742GXDOLSdIVmNZrD0RXTvkYSjuwbN74K06I8j0AEpHQh5M.7sJBadqmUW8dHUBEBYgk1qHKjP0oj0HD3OmO8UyQSWdHK9Jdu4bEPkDOXmh7MIZlqqj2p_Nednjcy8j5zd7SnHxmxkg4k.CYJLWvL0e5MI_nQNGVJVbsT1Woe__wb_UZHL3wEB1VcnqTEN2LvXT7T1BSfAlU51olzAt3BwNHOfuMrU8yRwtabyM4duPkFdDdTH1r1t27SrY1dNXiKZg.vqZKix5DV.ddKCoeju..bNdmkJzNVC.t.1Y5PSangSXlCWelI06ZEQiupD6kA\",cRq: {ru: 'aHR0cHM6Ly93d3cucG9saWNlLnVrLw==',ra: 'cHl0aG9uLXJlcXVlc3RzLzIuMjQuMA==',rm: 'R0VU',d: 'zze5u6JV6sze97nNNG9KKJ3QnbdNGaUuitbu1Qmg/pLdaP0TExwzsWcl4bqHiuW6UZ9P7qpoDsyEzd8Fry/fxTY/bN+0/COgxh5px0zwCXhnSK+uZFM59WmGHHn4AmiAiG8IPJsTcWwKhppcFeTTTK8RGSlERlhoe0H7P6QbZhnm7F6dJYQXCRkotlsdiBmGy5MzyhmuC3I/PFDcARhZn1JBSxbdmtFt+fhQ3fmfnK8/qyvXUzZXNs6w1GP2wZW+lIMaiFN0S4nOQRDYEwyXI0BLeyxfkqvy9Yy1LhvxQSqHtZp7YQPVLzE1ZdYjBPFYkWuYDktaHr4DxN0kEZvw0YuXwygoH63ala0xd3XNEZkUaiOMfqNzJLDmbIFbVCKGNXquRiJg12eS92Yj135Z0YZwPBygiHIf784WE3NLwEL28P9qCcLJTCOA7mKJlvaK72UmqtoO8LduLPayAywsBjU0Gk6l6IoRvSIVvAuaiAxNpZ0CPnorfxWzz/YJUHU5w59yw4OM3Se5vYTjZo0gzmbKTtmbrPb+jbhTcyRbQ8aQe59J365Qmb3wNpVndvGb8EvgVxFpUAtbzlsnKPFrbzeYvPYdWZknMWWeRUNsCOs=',t: 'MTcxMjY2NjY0NS4yMDAwMDA=',cT: Math.floor(Date.now() / 1000),m: 'bam72S8T1gr12XDkvRWu5Pg9cYu8BBxqZHaww/R/znw=',i1: '4H09RgHs7ftKVr51Kcr13A==',i2: 'aTV8JtoYndg6A/54rUMcmw==',zh: 'VH4IlE02ZS+hLABsCERk4dCORuS68S5Vxx2vQt/nq+s=',uh: '6AZv5/FBI8bCgQ115dPTZ5RPLfsmzGOqXp7x0al4Jbc=',hh: '7cW2lF5jnxsgD6AR1A1P6xoGhbmPaF6hh5t4a35qJzc=',}};var cpo = document.createElement('script');cpo.src = '/cdn-cgi/challenge-platform/h/b/orchestrate/chl_page/v1?ray=871a96246ee394ac';window._cf_chl_opt.cOgUHash = location.hash === '' && location.href.indexOf('#') !== -1 ? '#' : location.hash;window._cf_chl_opt.cOgUQuery = location.search === '' && location.href.slice(0, location.href.length - window._cf_chl_opt.cOgUHash.length).indexOf('?') !== -1 ? '?' : location.search;if (window.history && window.history.replaceState) {var ogU = location.pathname + window._cf_chl_opt.cOgUQuery + window._cf_chl_opt.cOgUHash;history.replaceState(null, null, \"\\/?__cf_chl_rt_tk=shOUR.AdeN2KfiT2e2aGpXC7sxaiwCafP5YoYvWRVXY-1712666645-0.0.1.1-1578\" + window._cf_chl_opt.cOgUHash);cpo.onload = function() {history.replaceState(null, null, ogU);}}document.getElementsByTagName('head')[0].appendChild(cpo);}());</script></body></html>"
      ]
     },
     "execution_count": 46,
     "metadata": {},
     "output_type": "execute_result"
    }
   ],
   "source": [
    "url = 'https://www.police.uk/'\n",
    "response = requests.get(url)\n",
    "soup = BeautifulSoup(response.text, 'html.parser')\n",
    "soup"
   ]
  },
  {
   "cell_type": "code",
   "execution_count": 58,
   "metadata": {},
   "outputs": [
    {
     "ename": "SyntaxError",
     "evalue": "invalid syntax (<ipython-input-58-c29cab7ae0dd>, line 1)",
     "output_type": "error",
     "traceback": [
      "\u001b[1;36m  File \u001b[1;32m\"<ipython-input-58-c29cab7ae0dd>\"\u001b[1;36m, line \u001b[1;32m1\u001b[0m\n\u001b[1;33m    pip install selenium --upgrade\u001b[0m\n\u001b[1;37m        ^\u001b[0m\n\u001b[1;31mSyntaxError\u001b[0m\u001b[1;31m:\u001b[0m invalid syntax\n"
     ]
    }
   ],
   "source": [
    "from selenium import webdriver\n",
    "from bs4 import BeautifulSoup\n",
    "\n",
    "driver = webdriver.Chrome(r'C:\\Users\\socor\\Downloads\\chromedriver-win64\\chromedriver-win64\\chromedriver.exe')\n",
    "driver.get('https://www.police.uk/')\n",
    "\n",
    "# Let the page load. Consider using WebDriverWait for better practice.\n",
    "import time\n",
    "time.sleep(5)  # Adjust sleep time as needed.\n",
    "\n",
    "soup = BeautifulSoup(driver.page_source, 'html.parser')\n",
    "print(soup)\n",
    "\n",
    "driver.quit()\n"
   ]
  },
  {
   "cell_type": "code",
   "execution_count": 60,
   "metadata": {},
   "outputs": [
    {
     "name": "stdout",
     "output_type": "stream",
     "text": [
      "Collecting cloudscraper\n",
      "  Downloading cloudscraper-1.2.71-py2.py3-none-any.whl (99 kB)\n",
      "Collecting requests-toolbelt>=0.9.1\n",
      "  Downloading requests_toolbelt-1.0.0-py2.py3-none-any.whl (54 kB)\n",
      "Requirement already satisfied: requests>=2.9.2 in c:\\users\\socor\\anaconda3\\lib\\site-packages (from cloudscraper) (2.24.0)\n",
      "Requirement already satisfied: pyparsing>=2.4.7 in c:\\users\\socor\\anaconda3\\lib\\site-packages (from cloudscraper) (2.4.7)\n",
      "Collecting urllib3!=1.25.0,!=1.25.1,<1.26,>=1.21.1\n",
      "  Downloading urllib3-1.25.11-py2.py3-none-any.whl (127 kB)\n",
      "Requirement already satisfied: chardet<4,>=3.0.2 in c:\\users\\socor\\anaconda3\\lib\\site-packages (from requests>=2.9.2->cloudscraper) (3.0.4)\n",
      "Requirement already satisfied: certifi>=2017.4.17 in c:\\users\\socor\\anaconda3\\lib\\site-packages (from requests>=2.9.2->cloudscraper) (2024.2.2)\n",
      "Requirement already satisfied: idna<3,>=2.5 in c:\\users\\socor\\anaconda3\\lib\\site-packages (from requests>=2.9.2->cloudscraper) (2.10)\n",
      "Installing collected packages: requests-toolbelt, cloudscraper, urllib3\n",
      "  Attempting uninstall: urllib3\n",
      "    Found existing installation: urllib3 2.2.1\n",
      "    Uninstalling urllib3-2.2.1:\n",
      "      Successfully uninstalled urllib3-2.2.1\n",
      "Successfully installed cloudscraper-1.2.71 requests-toolbelt-1.0.0 urllib3-1.25.11\n",
      "Note: you may need to restart the kernel to use updated packages.\n"
     ]
    },
    {
     "name": "stderr",
     "output_type": "stream",
     "text": [
      "ERROR: selenium 4.19.0 has requirement urllib3[socks]<3,>=1.26, but you'll have urllib3 1.25.11 which is incompatible.\n"
     ]
    }
   ],
   "source": [
    "pip install cloudscraper"
   ]
  },
  {
   "cell_type": "code",
   "execution_count": 62,
   "metadata": {},
   "outputs": [
    {
     "name": "stdout",
     "output_type": "stream",
     "text": [
      "403\n"
     ]
    },
    {
     "data": {
      "text/plain": [
       "'<!DOCTYPE html><html lang=\"en-US\"><head><title>Just a moment...</title><meta http-equiv=\"Content-Type\" content=\"text/html; charset=UTF-8\"><meta http-equiv=\"X-UA-Compatible\" content=\"IE=Edge\"><meta name=\"robots\" content=\"noindex,nofollow\"><meta name=\"viewport\" content=\"width=device-width,initial-scale=1\"><style>*{box-sizing:border-box;margin:0;padding:0}html{line-height:1.15;-webkit-text-size-adjust:100%;color:#313131}button,html{font-family:system-ui,-apple-system,BlinkMacSystemFont,Segoe UI,Roboto,Helvetica Neue,Arial,Noto Sans,sans-serif,Apple Color Emoji,Segoe UI Emoji,Segoe UI Symbol,Noto Color Emoji}@media (prefers-color-scheme:dark){body{background-color:#222;color:#d9d9d9}body a{color:#fff}body a:hover{color:#ee730a;text-decoration:underline}body .lds-ring div{border-color:#999 transparent transparent}body .font-red{color:#b20f03}body .big-button,body .pow-button{background-color:#4693ff;color:#1d1d1d}body #challenge-success-text{background-image:url(data:image/svg+xml;base64,PHN2ZyB4bWxucz0iaHR0cDovL3d3dy53My5vcmcvMjAwMC9zdmciIHdpZHRoPSIzMiIgaGVpZ2h0PSIzMiIgZmlsbD0ibm9uZSIgdmlld0JveD0iMCAwIDI2IDI2Ij48cGF0aCBmaWxsPSIjZDlkOWQ5IiBkPSJNMTMgMGExMyAxMyAwIDEgMCAwIDI2IDEzIDEzIDAgMCAwIDAtMjZtMCAyNGExMSAxMSAwIDEgMSAwLTIyIDExIDExIDAgMCAxIDAgMjIiLz48cGF0aCBmaWxsPSIjZDlkOWQ5IiBkPSJtMTAuOTU1IDE2LjA1NS0zLjk1LTQuMTI1LTEuNDQ1IDEuMzg1IDUuMzcgNS42MSA5LjQ5NS05LjYtMS40Mi0xLjQwNXoiLz48L3N2Zz4=)}body #challenge-error-text{background-image:url(data:image/svg+xml;base64,PHN2ZyB4bWxucz0iaHR0cDovL3d3dy53My5vcmcvMjAwMC9zdmciIHdpZHRoPSIzMiIgaGVpZ2h0PSIzMiIgZmlsbD0ibm9uZSI+PHBhdGggZmlsbD0iI0IyMEYwMyIgZD0iTTE2IDNhMTMgMTMgMCAxIDAgMTMgMTNBMTMuMDE1IDEzLjAxNSAwIDAgMCAxNiAzbTAgMjRhMTEgMTEgMCAxIDEgMTEtMTEgMTEuMDEgMTEuMDEgMCAwIDEtMTEgMTEiLz48cGF0aCBmaWxsPSIjQjIwRjAzIiBkPSJNMTcuMDM4IDE4LjYxNUgxNC44N0wxNC41NjMgOS41aDIuNzgzem0tMS4wODQgMS40MjdxLjY2IDAgMS4wNTcuMzg4LjQwNy4zODkuNDA3Ljk5NCAwIC41OTYtLjQwNy45ODQtLjM5Ny4zOS0xLjA1Ny4zODktLjY1IDAtMS4wNTYtLjM4OS0uMzk4LS4zODktLjM5OC0uOTg0IDAtLjU5Ny4zOTgtLjk4NS40MDYtLjM5NyAxLjA1Ni0uMzk3Ii8+PC9zdmc+)}}body{display:flex;flex-direction:column;min-height:100vh}body.no-js .loading-spinner{visibility:hidden}body.no-js .challenge-running{display:none}body.dark{background-color:#222;color:#d9d9d9}body.dark a{color:#fff}body.dark a:hover{color:#ee730a;text-decoration:underline}body.dark .lds-ring div{border-color:#999 transparent transparent}body.dark .font-red{color:#b20f03}body.dark .big-button,body.dark .pow-button{background-color:#4693ff;color:#1d1d1d}body.dark #challenge-success-text{background-image:url(data:image/svg+xml;base64,PHN2ZyB4bWxucz0iaHR0cDovL3d3dy53My5vcmcvMjAwMC9zdmciIHdpZHRoPSIzMiIgaGVpZ2h0PSIzMiIgZmlsbD0ibm9uZSIgdmlld0JveD0iMCAwIDI2IDI2Ij48cGF0aCBmaWxsPSIjZDlkOWQ5IiBkPSJNMTMgMGExMyAxMyAwIDEgMCAwIDI2IDEzIDEzIDAgMCAwIDAtMjZtMCAyNGExMSAxMSAwIDEgMSAwLTIyIDExIDExIDAgMCAxIDAgMjIiLz48cGF0aCBmaWxsPSIjZDlkOWQ5IiBkPSJtMTAuOTU1IDE2LjA1NS0zLjk1LTQuMTI1LTEuNDQ1IDEuMzg1IDUuMzcgNS42MSA5LjQ5NS05LjYtMS40Mi0xLjQwNXoiLz48L3N2Zz4=)}body.dark #challenge-error-text{background-image:url(data:image/svg+xml;base64,PHN2ZyB4bWxucz0iaHR0cDovL3d3dy53My5vcmcvMjAwMC9zdmciIHdpZHRoPSIzMiIgaGVpZ2h0PSIzMiIgZmlsbD0ibm9uZSI+PHBhdGggZmlsbD0iI0IyMEYwMyIgZD0iTTE2IDNhMTMgMTMgMCAxIDAgMTMgMTNBMTMuMDE1IDEzLjAxNSAwIDAgMCAxNiAzbTAgMjRhMTEgMTEgMCAxIDEgMTEtMTEgMTEuMDEgMTEuMDEgMCAwIDEtMTEgMTEiLz48cGF0aCBmaWxsPSIjQjIwRjAzIiBkPSJNMTcuMDM4IDE4LjYxNUgxNC44N0wxNC41NjMgOS41aDIuNzgzem0tMS4wODQgMS40MjdxLjY2IDAgMS4wNTcuMzg4LjQwNy4zODkuNDA3Ljk5NCAwIC41OTYtLjQwNy45ODQtLjM5Ny4zOS0xLjA1Ny4zODktLjY1IDAtMS4wNTYtLjM4OS0uMzk4LS4zODktLjM5OC0uOTg0IDAtLjU5Ny4zOTgtLjk4NS40MDYtLjM5NyAxLjA1Ni0uMzk3Ii8+PC9zdmc+)}body.light{background-color:transparent;color:#313131}body.light a{color:#0051c3}body.light a:hover{color:#ee730a;text-decoration:underline}body.light .lds-ring div{border-color:#595959 transparent transparent}body.light .font-red{color:#fc574a}body.light .big-button,body.light .pow-button{background-color:#003681;border-color:#003681;color:#fff}body.light #challenge-success-text{background-image:url(data:image/svg+xml;base64,PHN2ZyB4bWxucz0iaHR0cDovL3d3dy53My5vcmcvMjAwMC9zdmciIHdpZHRoPSIzMiIgaGVpZ2h0PSIzMiIgZmlsbD0ibm9uZSIgdmlld0JveD0iMCAwIDI2IDI2Ij48cGF0aCBmaWxsPSIjMzEzMTMxIiBkPSJNMTMgMGExMyAxMyAwIDEgMCAwIDI2IDEzIDEzIDAgMCAwIDAtMjZtMCAyNGExMSAxMSAwIDEgMSAwLTIyIDExIDExIDAgMCAxIDAgMjIiLz48cGF0aCBmaWxsPSIjMzEzMTMxIiBkPSJtMTAuOTU1IDE2LjA1NS0zLjk1LTQuMTI1LTEuNDQ1IDEuMzg1IDUuMzcgNS42MSA5LjQ5NS05LjYtMS40Mi0xLjQwNXoiLz48L3N2Zz4=)}body.light #challenge-error-text{background-image:url(data:image/svg+xml;base64,PHN2ZyB4bWxucz0iaHR0cDovL3d3dy53My5vcmcvMjAwMC9zdmciIHdpZHRoPSIzMiIgaGVpZ2h0PSIzMiIgZmlsbD0ibm9uZSI+PHBhdGggZmlsbD0iI2ZjNTc0YSIgZD0iTTE2IDNhMTMgMTMgMCAxIDAgMTMgMTNBMTMuMDE1IDEzLjAxNSAwIDAgMCAxNiAzbTAgMjRhMTEgMTEgMCAxIDEgMTEtMTEgMTEuMDEgMTEuMDEgMCAwIDEtMTEgMTEiLz48cGF0aCBmaWxsPSIjZmM1NzRhIiBkPSJNMTcuMDM4IDE4LjYxNUgxNC44N0wxNC41NjMgOS41aDIuNzgzem0tMS4wODQgMS40MjdxLjY2IDAgMS4wNTcuMzg4LjQwNy4zODkuNDA3Ljk5NCAwIC41OTYtLjQwNy45ODQtLjM5Ny4zOS0xLjA1Ny4zODktLjY1IDAtMS4wNTYtLjM4OS0uMzk4LS4zODktLjM5OC0uOTg0IDAtLjU5Ny4zOTgtLjk4NS40MDYtLjM5NyAxLjA1Ni0uMzk3Ii8+PC9zdmc+)}a{background-color:transparent;color:#0051c3;text-decoration:none;transition:color .15s ease}a:hover{color:#ee730a;text-decoration:underline}.main-content{margin:8rem auto;max-width:60rem;width:100%}.heading-favicon{height:2rem;margin-right:.5rem;width:2rem}@media (width <= 720px){.main-content{margin-top:4rem}.heading-favicon{height:1.5rem;width:1.5rem}}.footer,.main-content{padding-left:1.5rem;padding-right:1.5rem}.main-wrapper{align-items:center;display:flex;flex:1;flex-direction:column}.font-red{color:#b20f03}.spacer{margin:2rem 0}.h1{font-size:2.5rem;font-weight:500;line-height:3.75rem}.h2{font-weight:500}.core-msg,.h2{font-size:1.5rem;line-height:2.25rem}.body-text,.core-msg{font-weight:400}.body-text{font-size:1rem;line-height:1.25rem}@media (width <= 720px){.h1{font-size:1.5rem;line-height:1.75rem}.h2{font-size:1.25rem}.core-msg,.h2{line-height:1.5rem}.core-msg{font-size:1rem}}#challenge-error-text{background-image:url(data:image/svg+xml;base64,PHN2ZyB4bWxucz0iaHR0cDovL3d3dy53My5vcmcvMjAwMC9zdmciIHdpZHRoPSIzMiIgaGVpZ2h0PSIzMiIgZmlsbD0ibm9uZSI+PHBhdGggZmlsbD0iI2ZjNTc0YSIgZD0iTTE2IDNhMTMgMTMgMCAxIDAgMTMgMTNBMTMuMDE1IDEzLjAxNSAwIDAgMCAxNiAzbTAgMjRhMTEgMTEgMCAxIDEgMTEtMTEgMTEuMDEgMTEuMDEgMCAwIDEtMTEgMTEiLz48cGF0aCBmaWxsPSIjZmM1NzRhIiBkPSJNMTcuMDM4IDE4LjYxNUgxNC44N0wxNC41NjMgOS41aDIuNzgzem0tMS4wODQgMS40MjdxLjY2IDAgMS4wNTcuMzg4LjQwNy4zODkuNDA3Ljk5NCAwIC41OTYtLjQwNy45ODQtLjM5Ny4zOS0xLjA1Ny4zODktLjY1IDAtMS4wNTYtLjM4OS0uMzk4LS4zODktLjM5OC0uOTg0IDAtLjU5Ny4zOTgtLjk4NS40MDYtLjM5NyAxLjA1Ni0uMzk3Ii8+PC9zdmc+);padding-left:34px}#challenge-error-text,#challenge-success-text{background-repeat:no-repeat;background-size:contain}#challenge-success-text{background-image:url(data:image/svg+xml;base64,PHN2ZyB4bWxucz0iaHR0cDovL3d3dy53My5vcmcvMjAwMC9zdmciIHdpZHRoPSIzMiIgaGVpZ2h0PSIzMiIgZmlsbD0ibm9uZSIgdmlld0JveD0iMCAwIDI2IDI2Ij48cGF0aCBmaWxsPSIjMzEzMTMxIiBkPSJNMTMgMGExMyAxMyAwIDEgMCAwIDI2IDEzIDEzIDAgMCAwIDAtMjZtMCAyNGExMSAxMSAwIDEgMSAwLTIyIDExIDExIDAgMCAxIDAgMjIiLz48cGF0aCBmaWxsPSIjMzEzMTMxIiBkPSJtMTAuOTU1IDE2LjA1NS0zLjk1LTQuMTI1LTEuNDQ1IDEuMzg1IDUuMzcgNS42MSA5LjQ5NS05LjYtMS40Mi0xLjQwNXoiLz48L3N2Zz4=);padding-left:42px}.text-center{text-align:center}.big-button{border:.063rem solid #0051c3;border-radius:.313rem;font-size:.875rem;line-height:1.313rem;padding:.375rem 1rem;transition-duration:.2s;transition-property:background-color,border-color,color;transition-timing-function:ease}.big-button:hover{cursor:pointer}.captcha-prompt:not(.hidden){display:flex}@media (width <= 720px){.captcha-prompt:not(.hidden){flex-wrap:wrap;justify-content:center}}.pow-button{background-color:#0051c3;color:#fff;margin:2rem 0}.pow-button:hover{background-color:#003681;border-color:#003681;color:#fff}.footer{font-size:.75rem;line-height:1.125rem;margin:0 auto;max-width:60rem;width:100%}.footer-inner{border-top:1px solid #d9d9d9;padding-bottom:1rem;padding-top:1rem}.clearfix:after{clear:both;content:\"\";display:table}.clearfix .column{float:left;padding-right:1.5rem;width:50%}.diagnostic-wrapper{margin-bottom:.5rem}.footer .ray-id{text-align:center}.footer .ray-id code{font-family:monaco,courier,monospace}.core-msg,.zone-name-title{overflow-wrap:break-word}@media (width <= 720px){.diagnostic-wrapper{display:flex;flex-wrap:wrap;justify-content:center}.clearfix:after{clear:none;content:none;display:initial;text-align:center}.column{padding-bottom:2rem}.clearfix .column{float:none;padding:0;width:auto;word-break:keep-all}.zone-name-title{margin-bottom:1rem}}.loading-spinner{height:76.391px}.lds-ring{display:inline-block;position:relative}.lds-ring,.lds-ring div{height:1.875rem;width:1.875rem}.lds-ring div{animation:lds-ring 1.2s cubic-bezier(.5,0,.5,1) infinite;border:.3rem solid transparent;border-radius:50%;border-top-color:#313131;box-sizing:border-box;display:block;position:absolute}.lds-ring div:first-child{animation-delay:-.45s}.lds-ring div:nth-child(2){animation-delay:-.3s}.lds-ring div:nth-child(3){animation-delay:-.15s}@keyframes lds-ring{0%{transform:rotate(0)}to{transform:rotate(1turn)}}@media screen and (-ms-high-contrast:active),screen and (-ms-high-contrast:none){.main-wrapper,body{display:block}}</style><meta http-equiv=\"refresh\" content=\"375\"></head><body class=\"no-js\"><div class=\"main-wrapper\" role=\"main\"><div class=\"main-content\"><noscript><div id=\"challenge-error-title\"><div class=\"h2\"><span id=\"challenge-error-text\">Enable JavaScript and cookies to continue</span></div></div></noscript></div></div><script>(function(){window._cf_chl_opt={cvId: \\'3\\',cZone: \"www.police.uk\",cType: \\'managed\\',cNounce: \\'61034\\',cRay: \\'871c6c365d73947c\\',cHash: \\'4d8afe5af0de8d3\\',cUPMDTk: \"\\\\/?__cf_chl_tk=icb3hECazD1tMZYEgELCAlRjepMAYzzODm2Hz8JIG00-1712685899-0.0.1.1-1557\",cFPWv: \\'b\\',cTTimeMs: \\'1000\\',cMTimeMs: \\'375000\\',cTplV: 5,cTplB: \\'cf\\',cK: \"visitor-time\",fa: \"\\\\/?__cf_chl_f_tk=icb3hECazD1tMZYEgELCAlRjepMAYzzODm2Hz8JIG00-1712685899-0.0.1.1-1557\",md: \"QuYuRzqU6tRZW5cB5AC7yItmzHyCcxqpws4M_LrxtrM-1712685899-1.1.1.1-fw18rsgoWtZGNu3CKu_NpRQqRRHAK4wK_08zzIUd8WZh1Ys9GH3ck8cuokB3vVCScy9dgn5.chnK3TtwIzy3r8JPa.EJHkU54wtuAW.DLYPtAn_D_Rnb44fLs.Qsu_2XnOUx0W09BrQBifnqKDwxAPaQyceZWJedVJakLOHa02bm2WJOM9hUpUOOubXSXUEGMKEuB6anFxKKO6hIT7rBJLePvfJTHnpoMZ34NDEo81.iEQobofrtifCcNwq1FLYlOluVyTbSgMePKsMb.P7PvsF2WbgdSvx0JFne2mEFw9ENcf0V3Rh6VYew5yvebF1AyyemxAitLQ0AbbskeiJ.7O1JaKlKmMPZGZ39GZs4QuxCmKiCoTjNvOEp4bWNN7fyxpYVsIH9FROqQON3C32wu1mShHNQGMxa2Y.huPWXLTrfz_9PK87zhcKcFz7kW22yTCyYoo6XOhsvwKj6SS01OLyG1I1FWWJTjHjqxWgMNmaRIGewAR4rA3oSDeqQqkz.mqLocs0fB9bHULLpny4MCeBhaxZQvCows0Q9CVzUx7j8CCfj_spcPM7iRsa8TI3i6vFT33FhQlYz2JbSsvf0RMTji_.YLNtrneGF.EckHwfTh_2qIzbhyfyMNvBPPHWXt.eCBQyDsyP7E.gFWOGeGMgQ9sE3XeFEmcKiaCtUyWBnaBu9BzJbnc9QoA.0Dw2DQWTcNyXfJp0ZhPx80ZVmqTiscVCBtsltiLpP6EPY84bnszZFASA_N0nUu31Vb5TTdHbCpEjcbOwrFhEXfSuJfngDh6gSb4T2I5IGZ3IPVH_4eJlSNsFu7eDiQ8nhrKMwqTp_u1pFDUScMmVmCpehPRwDDZhJ9tsrFiJA2SbmMEuFFD976jg5oPo38LObneVPWKOMXMzMksOWEjxAitDK3wLFYVlQaIDdgz5AUydUWgqO.HQboZIAtvAXrBf6vr4Up.pTY1AW_Y68s129RieFDnqELvbczoVfDKRbGcYcNrhEW0jM3palnpQakXuCXSw1SKtM4sS.fwYI2Cpf2Cil.jDk37LjflXbVXvJEgHwKzvQCRz_RpjUcM8FhJqf6W9jsGKdUFFyCXwJYCN4bxAG0WtgmtLf7XTW8F7pIPCxH10B6IBP.jH6Yh79wGMfg2HEEI6tp3Lci2kBi9wb59yA.CetWOVKlTzPNE2HQEWNPfcpugh3lH0li7Lz_B2ECqV.M47cP0jR9Kz9uv51fFdmbcZ_mHOukVNTEbEB43oySpMflgTBHPf6wb_mPat4ym1NlGSlWG9eXcYeyR7HgkobLRd.bcHW9Iq3PaRiAqdDwtFdDs9l0.uX.bEd0rAb3nz58pTD_NppR1QKfcq9lAEY8o4qbtNOkFtaBUTK85EL3a0q74BuO25qhdP0GCl_ruHViMXGv.X2ZQn65IgyJMqo_m58EjJ3CjB2n9fmJatERB_FQ8.2koFien7Z6gZDjTxUuV_sjBgYss2lESSrCVFkOg\",mdrd: \"e9_ipv5ik7ooYSu7N.WM_YgTVPyjvFNmG.NRylgGTnk-1712685899-1.1.1.1-dwJXHy.M6aEDfAW6a6z3EN3TQGvwj5_TkppZaf_GdqnHZjfXH_3hC5y9Un4k8wHMFNul2Ke6USUsrj.CuRnY8Upllg8Eg_2ptD7.VDaWi7yzBGt4KhPLh2C5kIXaJbTe74BKseDi1Jj5ohlfO0xBABmCbK7J9nSlRNm3LGS0ORV6Kn_OnJPheUdsRiwKZmwSuaqdVhz3dqhSwe2vQfRtbc9GXP4eIuTeweV598esHyD5JjJNztMlQvvBzvOY3AnyGwBH5DuFfiCutQOmgw8gRHVePkdVx51xEmpdZeiYQWgeToOHAf7CffQ0.awMXib2sXTnh_wgo2tt_xISPh6ARETR0S_u0Z4EQHyfC3ONUV5_fVg9g6k3t2cm5CuWe7HISQA360MnLRU.obdZ8oWT8iM90HSER0m5P_LH0Azo6mrb1EJtd7b2fKn_Ccbb_5AxyO6Aeg5k3SCBnDpybR8J_x6lUkwBhkFrkqA3ys9Hg1fnwIdc.aeEq6Yl.xCVRVn9anwjeQExdaHCTTkJAzyTWzv_p4s7ObDCcG30tGb0wNrLu4VbH96UhnyNUQhFOq0.gHsgM7jRExfe1fzAfBsjC1hvwib2sE4nmZBKfK6CzoCLB7LjlywTktsXEEz4IWEwCLO1q6xylzfBfC4JV3W75GZhLeIBml5EtRyiqZgusKpz01CrKt11XlWWC1CR3cmGUOWPZlyVEur0V6vmB52EIfDfuWCrn34OhXNGXiUrDpHx_Y2O0Wq_bOtkd0xknWjkqtt0WHqtgH9LPUoLj_rhaM4HqzAiKeECIwlH.WLLKJTXJ2dwn_VqFIsRjornnK3nAZb22K.gr68wMeiLPX.Zf2YcTBdnkX8UN9anRo_GbD7zB9i2KGlpPZHFOZE4HR6Od7CuAVokaeJqImYjQHWcKLB9bg6ZrYkJVSSlvowSJ3T5nan36FAJzSAM9cFZUbgMXF8EC5rCoD49mKBl2cTRb5rYSj6Gi5jC9a0i11AicEhsCWqUQCfgtLHnnW0KdzNZjkrcTez.mwAw81evcoz.rg7Ms.Ykh3y1Nkfb3DnotlrsNgE8La5J.J6bP1Ae1_aKnmkgd_LJ2wnxPRbu1BTcqs9yiBGc2REvnS.OS82zdz9tI.TPPGif4LxbBnFy7YfjWIQYgc4fndeGsjj7IWoinMsZtwP4wcLzp7EjxjMEt3x_Np2uZweoP8xHr0XD9NckeKASR3uaZrWmDjwyZ6A_cc_rAHCBkNaal4akXpcGTfkHsBfQP1LmUnFH5bqOayixHMRBZynGJW7_wFZ5uj3a4KIJNoB0QpBqCnYTp8DO2NE6_H4mCZYIGy0.t11JMqVDuLSEllz96CgU.1LsW_zT1nOptSpWPtdwWLYQDRDdxqLpRBGyhN38.Mlm7MG1hPGwoI1jm9cV3npgpaIw6JIDe8WzBqv7brAqElBmE_I.ZSYBPt5cHiV_Nv1VNkYYRz6Ezqiz7IV3ZFEuIsQEnI4cXVUyj5SSmvqpnP23TJpd_bmzc9iZxEBQdC5IQsWU_JgCFlJnYdW5jYmrn5V5n9ndkucYScEOrv3UhWGqJ9dxkhX414uSvJefU9fFbja3nXuNTlunfqnqFSkOg0u_yrclejkGIIhHKvFkx0dJyfzj59oSsFFAvSFGxbZXOBjXAVPu4oAY6Z.ZWXB0MLo5fcqZm7BLbszKmBHSQiz1jJFZiO1tkQc1GdqOY2Gff4DKgPQlNlBh0aWxtBLpT1w3gzDmgZgKRkbRnejIPNyPgwuBe5ErBWXQ4sJeTMscUY5UEHDk5BlYlWkbqMoTW7.QBCjrMvh31yjBUv6frQtQ3Q4F1qzdvol_A9fFj1ebIL.c0eWZ1uGlTROY1uERajk5lU49cAFrKrxJNbkiJmldpm1D3tBzKjRWQIQhSMi0wLW.L1qjRlJW.yowawLzkrtImRnYz5EgzsavzmWfDgCgalNB.MrY3Ck392a5QkgX568wDZ5_UgfbcU1iDfh.VyVy0r0b4FyWyGOARunvK2cDSNEIZH6NxcP6QmPE0OSopxj81qGTCHG_MVBrZCkW2QVJ1W0Hjf804fqQi3Aw4RDtj7yrsyxYkq4oWVKKHgGPasbWl3hTdXRs2.iXcY3VBXtBZZ6dSDLUcZ8iF_lCWQ.kZYVA8dcbfZg6bc6xXyjjmXCUwLZuo4DAAjU0nT4Q_MgMPDIOrEv9UE1eOpdZ70B2r53rFpCxrxRTT6jTBnZi0R_mmvY7KQWaLtrJmU5b3uoIxf6GhCI64dOLNRwIxPDPEvextck\",cRq: {ru: \\'aHR0cHM6Ly93d3cucG9saWNlLnVrLw==\\',ra: \\'TW96aWxsYS81LjAgKGlQaG9uZTsgQ1BVIGlQaG9uZSBPUyAxMV8wIGxpa2UgTWFjIE9TIFgpIEFwcGxlV2ViS2l0LzUzNy4zNiAoS0hUTUwsIGxpa2UgR2Vja28pIENocm9tZS81Ni4wLjQ1ODcuMTczIE1vYmlsZSBTYWZhcmkvNTM3LjM2\\',rm: \\'R0VU\\',d: \\'ge3wlf36L3EKaW8/iijo5ivzTkS98plnS/ncOQ/vSKa0u+mTfq684qnVZImAJ1aHGSbfVcsvya9Bkgewjq/5IeSUQPWPma2rqHq6F0VNovM5EMSuNCK+7Fsx6jKSX6ElABgIMueKaiJ+jYjIJWknmHHLvV8Cw3HrTePKSShNplM+vVRfByWR9QL9QxIhWd+MG7IwjgzVcIY6sk37KfNMTcI9PuveL0Ae4eVmtlPK6u8wqvPcguMCYD1c8oJfuk3VY3ylKIyxl5bSlMyDYlcjBqJUd74+zuTRm3Ir0cgrqmT70PF8bWRq5ZOTTXpot5IeXF4NIzyWdCTrRVAV3435Dxb1tQW6ovT+41ExSvufe7Xrqhud7yTy6XGyfY6A7gga5S70HtXEYjiAr3w6+DRr7IL88ig5Kt2ZRP4iNzc8tgjGb/AppXkZA4xCaktd6DTq32/2s1qOHMMfPzaeA+K+A13c5w3xN8+XivyNMcwmDdCm70duwrQsR9Mox75ewHKgCgCJwkLx8K5XymmD04qTAU8HtYmdIQd25OBoHd4rQkyBpA/OJ5n9c2upBNl6ewaHD0in9R3ziHrE3UJWvcI88A==\\',t: \\'MTcxMjY4NTg5OS4yNjAwMDA=\\',cT: Math.floor(Date.now() / 1000),m: \\'RXqI5ghq6EuyXhQVfI5yqvm3+LAM1E9iUy69mhdN+1w=\\',i1: \\'9dilxfp1HlzqhpCIG5lDgg==\\',i2: \\'vgwojpKof5iHSq451LNvMw==\\',zh: \\'VH4IlE02ZS+hLABsCERk4dCORuS68S5Vxx2vQt/nq+s=\\',uh: \\'U+5O037gfwncaVOnKhOQlXjCVkaRa6ig0gBZrPVEPRY=\\',hh: \\'7cW2lF5jnxsgD6AR1A1P6xoGhbmPaF6hh5t4a35qJzc=\\',}};var cpo = document.createElement(\\'script\\');cpo.src = \\'/cdn-cgi/challenge-platform/h/b/orchestrate/chl_page/v1?ray=871c6c365d73947c\\';window._cf_chl_opt.cOgUHash = location.hash === \\'\\' && location.href.indexOf(\\'#\\') !== -1 ? \\'#\\' : location.hash;window._cf_chl_opt.cOgUQuery = location.search === \\'\\' && location.href.slice(0, location.href.length - window._cf_chl_opt.cOgUHash.length).indexOf(\\'?\\') !== -1 ? \\'?\\' : location.search;if (window.history && window.history.replaceState) {var ogU = location.pathname + window._cf_chl_opt.cOgUQuery + window._cf_chl_opt.cOgUHash;history.replaceState(null, null, \"\\\\/?__cf_chl_rt_tk=icb3hECazD1tMZYEgELCAlRjepMAYzzODm2Hz8JIG00-1712685899-0.0.1.1-1557\" + window._cf_chl_opt.cOgUHash);cpo.onload = function() {history.replaceState(null, null, ogU);}}document.getElementsByTagName(\\'head\\')[0].appendChild(cpo);}());</script></body></html>'"
      ]
     },
     "execution_count": 62,
     "metadata": {},
     "output_type": "execute_result"
    }
   ],
   "source": [
    "import cloudscraper\n",
    "url = 'https://www.police.uk/'\n",
    "scraper = cloudscraper.create_scraper()\n",
    "res= scraper.get(url)\n",
    "print(res.status_code)\n",
    "res.text"
   ]
  },
  {
   "cell_type": "code",
   "execution_count": 66,
   "metadata": {},
   "outputs": [
    {
     "name": "stdout",
     "output_type": "stream",
     "text": [
      "403\n"
     ]
    }
   ],
   "source": [
    "import cfscrape\n",
    "url = 'https://www.police.uk/'\n",
    "scrape = cfscrape.create_scraper()\n",
    "res = scrape.get(url)\n",
    "print(res.status_code)    "
   ]
  },
  {
   "cell_type": "code",
   "execution_count": 64,
   "metadata": {},
   "outputs": [
    {
     "name": "stdout",
     "output_type": "stream",
     "text": [
      "Collecting cfscrape\n",
      "  Downloading cfscrape-2.1.1-py3-none-any.whl (12 kB)\n",
      "Requirement already satisfied: requests>=2.6.1 in c:\\users\\socor\\anaconda3\\lib\\site-packages (from cfscrape) (2.24.0)\n",
      "Requirement already satisfied: certifi>=2017.4.17 in c:\\users\\socor\\anaconda3\\lib\\site-packages (from requests>=2.6.1->cfscrape) (2024.2.2)\n",
      "Requirement already satisfied: idna<3,>=2.5 in c:\\users\\socor\\anaconda3\\lib\\site-packages (from requests>=2.6.1->cfscrape) (2.10)\n",
      "Requirement already satisfied: chardet<4,>=3.0.2 in c:\\users\\socor\\anaconda3\\lib\\site-packages (from requests>=2.6.1->cfscrape) (3.0.4)\n",
      "Requirement already satisfied: urllib3!=1.25.0,!=1.25.1,<1.26,>=1.21.1 in c:\\users\\socor\\anaconda3\\lib\\site-packages (from requests>=2.6.1->cfscrape) (1.25.11)\n",
      "Installing collected packages: cfscrape\n",
      "Successfully installed cfscrape-2.1.1\n",
      "Note: you may need to restart the kernel to use updated packages.\n"
     ]
    }
   ],
   "source": [
    "pip install cfscrape"
   ]
  },
  {
   "cell_type": "code",
   "execution_count": 1,
   "metadata": {},
   "outputs": [
    {
     "name": "stdout",
     "output_type": "stream",
     "text": [
      "Selenium is working fine!\n"
     ]
    }
   ],
   "source": [
    "from selenium import webdriver\n",
    "from selenium.webdriver.chrome.service import Service\n",
    "from selenium.webdriver.common.keys import Keys\n",
    "import time\n",
    "\n",
    "# Specify the path to chromedriver if it's not in your PATH\n",
    "chromedriver_path = r\"C:\\Users\\socor\\Downloads\\chromedriver-win64\\chromedriver-win64\\chromedriver.exe\"\n",
    "\n",
    "# Initialize the WebDriver (assuming Chrome)\n",
    "service = Service(executable_path=chromedriver_path)\n",
    "driver = webdriver.Chrome(service=service)\n",
    "\n",
    "try:\n",
    "    # Navigate to a website\n",
    "    driver.get(\"http://police.uk\")\n",
    "    \n",
    "    # Wait for 5 seconds to see the page\n",
    "    time.sleep(5)\n",
    "    \n",
    "    # Optionally, interact with the website\n",
    "    # For example, search for 'Selenium' in Wikipedia\n",
    "    # search_box = driver.find_element_by_name('q')\n",
    "    # search_box.send_keys('Selenium')\n",
    "    # search_box.send_keys(Keys.RETURN)\n",
    "    # time.sleep(5)\n",
    "    \n",
    "    print(\"Selenium is working fine!\")\n",
    "except Exception as e:\n",
    "    print(f\"An error occurred: {e}\")\n",
    "finally:\n",
    "    # Close the browser\n",
    "    driver.quit()"
   ]
  },
  {
   "cell_type": "code",
   "execution_count": null,
   "metadata": {},
   "outputs": [],
   "source": []
  },
  {
   "cell_type": "markdown",
   "metadata": {},
   "source": [
    "Having established that Selenium is capable of accessing the police.uk website, let's start building an ethical bot! Firstly, we accessed the https://police.uk/robots.txt page and found certain URLs needed to be disallowed. I decided to start by caching the robots.txt file so that my bot could refer to it without sending repeated requests to the site. My bot would then check URLs against those contained in the robot.txt file and would return a \"robot.txt error\" rather than crawl the forbidden URL:"
   ]
  },
  {
   "cell_type": "code",
   "execution_count": 19,
   "metadata": {},
   "outputs": [
    {
     "name": "stdout",
     "output_type": "stream",
     "text": [
      "robots.txt error: Crawling not allowed for http://police.uk/mediacentre\n",
      "robots.txt error: Crawling not allowed for http://police.uk/?u=media\n",
      "robots.txt error: Crawling not allowed for http://police.uk\n"
     ]
    }
   ],
   "source": [
    "from urllib.robotparser import RobotFileParser\n",
    "from urllib.parse import urlparse\n",
    "\n",
    "def can_crawl(url):\n",
    "    \"\"\"\n",
    "    Check if the crawler can crawl a given URL based on the site's robots.txt.\n",
    "    \"\"\"\n",
    "    parsed_url = urlparse(url)\n",
    "    robots_url = f\"{parsed_url.scheme}://{parsed_url.netloc}/robots.txt\"\n",
    "    \n",
    "    rp = RobotFileParser()\n",
    "    rp.set_url(robots_url)\n",
    "    rp.read()\n",
    "    \n",
    "    return rp.can_fetch(\"FriendlyUniStudentResearcher\", url)\n",
    "\n",
    "def crawl(url):\n",
    "    \"\"\"\n",
    "    Attempt to crawl a URL, respecting robots.txt rules.\n",
    "    \"\"\"\n",
    "    if can_crawl(url):\n",
    "        try:\n",
    "            response = requests.get(url)\n",
    "            # Process the response here (e.g., parse HTML, follow links, etc.)\n",
    "            print(f\"Successfully crawled: {url}\")\n",
    "        except Exception as e:\n",
    "            print(f\"An error occurred while crawling {url}: {e}\")\n",
    "    else:\n",
    "        print(f\"robots.txt error: Crawling not allowed for {url}\")\n",
    "\n",
    "# Example usage\n",
    "urls_to_crawl = [\n",
    "    \"http://police.uk/mediacentre\",\n",
    "    \"http://police.uk/?u=media\",\n",
    "    \"http://police.uk\"\n",
    "    # Add other URLs you're interested in\n",
    "]\n",
    "\n",
    "for url in urls_to_crawl:\n",
    "    crawl(url)"
   ]
  },
  {
   "cell_type": "markdown",
   "metadata": {},
   "source": [
    "It is customary to include a specific \"user-agent\" to identify your bot and make it possible for website administrators to contact you with concerns:"
   ]
  },
  {
   "cell_type": "code",
   "execution_count": null,
   "metadata": {},
   "outputs": [],
   "source": [
    "session = requests.Session()\n",
    "\n",
    "# Set the custom user-agent for all requests made with this session\n",
    "session.headers.update({\n",
    "    'User-Agent': \"FriendlyUniStudentResearcher/1.0 (+mailto:soc204@exeter.ac.uk)\"\n",
    "})\n",
    "response = session.get()"
   ]
  },
  {
   "cell_type": "code",
   "execution_count": 7,
   "metadata": {},
   "outputs": [
    {
     "name": "stdout",
     "output_type": "stream",
     "text": [
      "User-Agent received by httpbin.org:\n",
      "FriendlyUniStudentResearcher/1.0 (+mailto:soc204@exeter.ac.uk)\n"
     ]
    }
   ],
   "source": [
    "import requests\n",
    "import json\n",
    "\n",
    "# Define your custom user-agent string\n",
    "user_agent = \"FriendlyUniStudentResearcher/1.0 (+mailto:soc204@exeter.ac.uk)\"\n",
    "\n",
    "# Set the headers for your request to include your custom user-agent\n",
    "headers = {\n",
    "    'User-Agent': user_agent\n",
    "}\n",
    "\n",
    "# The URL for testing headers (httpbin.org is useful for HTTP requests testing)\n",
    "test_url = \"https://httpbin.org/headers\"\n",
    "\n",
    "# Make the request with your headers\n",
    "response = requests.get(test_url, headers=headers)\n",
    "\n",
    "# Parse the JSON response\n",
    "response_json = response.json()\n",
    "\n",
    "# Extract and print the User-Agent header from the response\n",
    "print(\"User-Agent received by httpbin.org:\")\n",
    "print(response_json['headers']['User-Agent'])\n"
   ]
  },
  {
   "cell_type": "code",
   "execution_count": null,
   "metadata": {},
   "outputs": [],
   "source": [
    "from selenium import webdriver\n",
    "from selenium.webdriver.chrome.service import Service\n",
    "from selenium.webdriver.common.keys import Keys\n",
    "import time\n",
    "from selenium.webdriver.chrome.options import Options\n",
    "\n",
    "options = Options()\n",
    "user_agent = \"FriendlyUniStudentResearcher/1.0 (+mailto:soc204@exeter.ac.uk)\"\n",
    "options.add_argument(f'user-agent={user_agent}')\n",
    "# Specify the path to chromedriver if it's not in your PATH\n",
    "chromedriver_path = r\"C:\\Users\\socor\\Downloads\\chromedriver-win64\\chromedriver-win64\\chromedriver.exe\"\n",
    "\n",
    "# Initialize the WebDriver (assuming Chrome)\n",
    "service = Service(executable_path=chromedriver_path)\n",
    "driver = webdriver.Chrome(service=service)\n",
    "\n",
    "session = requests.Session()\n",
    "\n",
    "# Set the custom user-agent for all requests made with this session\n",
    "session.headers.update({\n",
    "    'User-Agent': \"FriendlyUniStudentResearcher/1.0 (+mailto:soc204@exeter.ac.uk)\"\n",
    "})\n",
    "response = session.get()\n",
    "\n",
    "driver.quit()"
   ]
  },
  {
   "cell_type": "code",
   "execution_count": 22,
   "metadata": {},
   "outputs": [
    {
     "ename": "AttributeError",
     "evalue": "'NoneType' object has no attribute 'rulelines'",
     "output_type": "error",
     "traceback": [
      "\u001b[1;31m---------------------------------------------------------------------------\u001b[0m",
      "\u001b[1;31mAttributeError\u001b[0m                            Traceback (most recent call last)",
      "\u001b[1;32m<ipython-input-22-dd4376a6c90c>\u001b[0m in \u001b[0;36m<module>\u001b[1;34m\u001b[0m\n\u001b[0;32m      5\u001b[0m \u001b[0mrp\u001b[0m\u001b[1;33m.\u001b[0m\u001b[0mset_url\u001b[0m\u001b[1;33m(\u001b[0m\u001b[0mrobots_url\u001b[0m\u001b[1;33m)\u001b[0m\u001b[1;33m\u001b[0m\u001b[1;33m\u001b[0m\u001b[0m\n\u001b[0;32m      6\u001b[0m \u001b[0mrp\u001b[0m\u001b[1;33m.\u001b[0m\u001b[0mread\u001b[0m\u001b[1;33m(\u001b[0m\u001b[1;33m)\u001b[0m\u001b[1;33m\u001b[0m\u001b[1;33m\u001b[0m\u001b[0m\n\u001b[1;32m----> 7\u001b[1;33m \u001b[1;32mfor\u001b[0m \u001b[0mline\u001b[0m \u001b[1;32min\u001b[0m \u001b[0mrp\u001b[0m\u001b[1;33m.\u001b[0m\u001b[0mdefault_entry\u001b[0m\u001b[1;33m.\u001b[0m\u001b[0mrulelines\u001b[0m\u001b[1;33m:\u001b[0m\u001b[1;33m\u001b[0m\u001b[1;33m\u001b[0m\u001b[0m\n\u001b[0m\u001b[0;32m      8\u001b[0m     \u001b[0mprint\u001b[0m\u001b[1;33m(\u001b[0m\u001b[1;34mf\"Allow: {line.allowance} Path: {line.path}\"\u001b[0m\u001b[1;33m)\u001b[0m\u001b[1;33m\u001b[0m\u001b[1;33m\u001b[0m\u001b[0m\n\u001b[0;32m      9\u001b[0m \u001b[1;33m\u001b[0m\u001b[0m\n",
      "\u001b[1;31mAttributeError\u001b[0m: 'NoneType' object has no attribute 'rulelines'"
     ]
    }
   ],
   "source": [
    "url = 'https://www.police.uk/'\n",
    "parsed_url = urlparse(url)\n",
    "robots_url = f\"{parsed_url.scheme}://{parsed_url.netloc}/robots.txt\"\n",
    "rp = RobotFileParser()\n",
    "rp.set_url(robots_url)\n",
    "rp.read()\n",
    "for line in rp.default_entry.rulelines:\n",
    "    print(f\"Allow: {line.allowance} Path: {line.path}\")\n",
    "\n",
    "# Check if the root URL is allowed\n",
    "print(rp.can_fetch(\"*\", \"https://www.police.uk/\"))\n",
    "rp.can_fetch(\"*\", url)"
   ]
  },
  {
   "cell_type": "code",
   "execution_count": 18,
   "metadata": {},
   "outputs": [
    {
     "name": "stdout",
     "output_type": "stream",
     "text": [
      "Fetching new robots.txt data.\n"
     ]
    },
    {
     "data": {
      "text/plain": [
       "<urllib.robotparser.RobotFileParser at 0x22aa7399bb0>"
      ]
     },
     "execution_count": 18,
     "metadata": {},
     "output_type": "execute_result"
    }
   ],
   "source": [
    "from urllib.parse import urlparse\n",
    "from urllib.robotparser import RobotFileParser\n",
    "\n",
    "# Initialize a cache dictionary\n",
    "robots_cache = {}\n",
    "\n",
    "def cache_robots_data(url):\n",
    "    \"\"\"\n",
    "    Fetches and caches the robots.txt data for the given URL's domain.\n",
    "    \"\"\"\n",
    "    # Parse the domain from the given URL\n",
    "    parsed_url = urlparse(url)\n",
    "    base_url = f\"{parsed_url.scheme}://{parsed_url.netloc}\"\n",
    "    robots_url = f\"{base_url}/robots.txt\"\n",
    "    \n",
    "    # Check if we already have cached data for this domain\n",
    "    if base_url in robots_cache:\n",
    "        print(\"Using cached robots.txt data.\")\n",
    "        return robots_cache[base_url]\n",
    "    else:\n",
    "        print(\"Fetching new robots.txt data.\")\n",
    "        # Initialize a RobotFileParser instance\n",
    "        rp = RobotFileParser()\n",
    "        rp.set_url(robots_url)\n",
    "        rp.read()  # Fetch and parse the robots.txt\n",
    "        \n",
    "        # Cache the RobotFileParser instance for future use\n",
    "        robots_cache[base_url] = rp\n",
    "        \n",
    "        return rp\n",
    "\n",
    "# Example usage\n",
    "rp = cache_robots_data('https://www.police.uk')\n",
    "rp"
   ]
  },
  {
   "cell_type": "code",
   "execution_count": null,
   "metadata": {},
   "outputs": [],
   "source": [
    "\n",
    "\n",
    "from selenium.webdriver.common.keys import Keys\n",
    "\n",
    "\n",
    "\n",
    "\n",
    "\n",
    "\n",
    "\n",
    "from selenium.webdriver.common.action_chains import ActionChains\n",
    "\n"
   ]
  },
  {
   "cell_type": "code",
   "execution_count": 1,
   "metadata": {},
   "outputs": [],
   "source": [
    "from selenium.webdriver.chrome.options import Options\n",
    "def establish_user_agent(user_agent, chromedriver_path):\n",
    "    chrome_options = Options()\n",
    "    chrome_options.add_argument(f\"user-agent={user_agent}\")\n",
    "    return chrome_options"
   ]
  },
  {
   "cell_type": "code",
   "execution_count": 2,
   "metadata": {},
   "outputs": [],
   "source": [
    "from selenium import webdriver\n",
    "from selenium.webdriver.chrome.service import Service\n",
    "def init_chrome_webdriver(chromedriver_path, chrome_options):\n",
    "    service = Service(executable_path=chromedriver_path)\n",
    "    driver = webdriver.Chrome(service=service, options=chrome_options)\n",
    "    return driver"
   ]
  },
  {
   "cell_type": "code",
   "execution_count": 3,
   "metadata": {},
   "outputs": [],
   "source": [
    "import time\n",
    "import json\n",
    "from selenium.webdriver.common.by import By \n",
    "def test_user_agent(driver, user_agent):\n",
    "    driver.get(\"https://httpbin.org/user-agent\")\n",
    "    time.sleep(5)\n",
    "    response_data = json.loads(driver.find_element(By.TAG_NAME, \"body\").text)\n",
    "    echoed_user_agent = response_data[\"user-agent\"]\n",
    "    \n",
    "    if echoed_user_agent != user_agent:\n",
    "        print(\"User-Agent does not match the expected value. Quitting...\")\n",
    "        raise Exception(\"User-Agent does not match the expected value.\")"
   ]
  },
  {
   "cell_type": "code",
   "execution_count": 7,
   "metadata": {},
   "outputs": [],
   "source": [
    "def is_target_disallowed(target, disallowed_url_patterns):\n",
    "    \"\"\"\n",
    "    Check if the target path matches any of the disallowed paths.\n",
    "\n",
    "    :param target_path: The target path to check\n",
    "    :param disallowed_paths: A list of disallowed paths from robots.txt\n",
    "    :return: True if the target path is disallowed, False otherwise\n",
    "    \"\"\"\n",
    "    # Normalize target path\n",
    "    target_pattern = f'{urlparse(target).path}?{urlparse(target).query}'\n",
    "    target_path = target_pattern.rstrip(\"/\")\n",
    "\n",
    "    for disallowed in disallowed_url_patterns:\n",
    "        # Normalize disallowed path\n",
    "        disallowed = disallowed.rstrip(\"/\")\n",
    "        \n",
    "        # Check if the target pattern starts with the disallowed pattern\n",
    "        if target_path.startswith(disallowed):\n",
    "            return True\n",
    "        # Checking for file extension disallowance, e.g., '*.aspx$'\n",
    "        if disallowed.endswith('$'):\n",
    "            target_pattern = target_pattern.rstrip(\"?\")\n",
    "            target_path = target_pattern.rstrip(\"/\")\n",
    "            base_pattern = disallowed[1:-1]\n",
    "            if target_path.endswith(base_pattern):\n",
    "                return True\n",
    "\n",
    "    return False"
   ]
  },
  {
   "cell_type": "code",
   "execution_count": 9,
   "metadata": {},
   "outputs": [],
   "source": [
    "from urllib.parse import urlparse\n",
    "import re\n",
    "def establish_bot_permissions(driver, target):\n",
    "    parsed_url = urlparse(target)\n",
    "    base_url = f\"{parsed_url.scheme}://{parsed_url.netloc}\"\n",
    "    robots_url = f\"{base_url}/robots.txt\"\n",
    "    driver.get(robots_url)\n",
    "    time.sleep(1)\n",
    "    robots_txt_content = driver.find_element(By.TAG_NAME, \"body\").text\n",
    "    disallow_pattern = r\"Disallow: ([^\\n]+)\"\n",
    "    disallowed_paths = re.findall(disallow_pattern, robots_txt_content)\n",
    "    \n",
    "    if is_target_disallowed(target, disallowed_paths):\n",
    "        print('This URL is not allowed to be crawled in line with robots.txt')\n",
    "        raise Exception(\"Target path is disallowed.\")"
   ]
  },
  {
   "cell_type": "code",
   "execution_count": 15,
   "metadata": {},
   "outputs": [],
   "source": [
    "from selenium.webdriver.support.ui import WebDriverWait\n",
    "from selenium.webdriver.support import expected_conditions as EC\n",
    "\n",
    "def get_force_areas(driver, target):\n",
    "    driver.get(target)\n",
    "    all_buttons = WebDriverWait(driver, 10).until(\n",
    "        EC.presence_of_all_elements_located((By.CSS_SELECTOR, \".js-crime-stats-table-toggle\"))\n",
    "    )\n",
    "    \n",
    "    if len(all_buttons) > 1:\n",
    "        toggle_button = all_buttons[1]  # Select the second button\n",
    "        driver.execute_script(\"arguments[0].scrollIntoView(true);\", toggle_button)\n",
    "        toggle_button.click()\n",
    "        time.sleep(2)\n",
    "    else:\n",
    "        print(\"Not enough buttons found.\")\n",
    "    \n",
    "    tables = driver.find_elements(By.TAG_NAME, 'table')\n",
    "    table = tables[-1]\n",
    "    driver.execute_script(\"arguments[0].scrollIntoView(true);\", table)\n",
    "    rows = table.find_elements(By.TAG_NAME, 'tr')\n",
    "    force_areas = []\n",
    "    \n",
    "    for row in rows:\n",
    "        cells = row.find_elements(By.TAG_NAME, 'td')\n",
    "        if cells:\n",
    "            text = cells[0].text.strip()\n",
    "            force_areas.append(text)\n",
    "    \n",
    "    return force_areas"
   ]
  },
  {
   "cell_type": "code",
   "execution_count": 16,
   "metadata": {},
   "outputs": [
    {
     "name": "stdout",
     "output_type": "stream",
     "text": [
      "['Avon and Somerset Constabulary', 'Bedfordshire Police', 'Cambridgeshire Constabulary', 'Cheshire Constabulary', 'Cleveland Police', 'Cumbria Constabulary', 'Derbyshire Constabulary', 'Devon & Cornwall Police', 'Dorset Police', 'Durham Constabulary', 'Dyfed-Powys Police', 'Essex Police', 'Gloucestershire Constabulary', 'Greater Manchester Police', 'Gwent Police', 'Hampshire Constabulary', 'Hertfordshire Constabulary', 'Humberside Police', 'Kent Police', 'Lancashire Constabulary', 'Leicestershire Police', 'Lincolnshire Police', 'Merseyside Police', 'MOPAC', 'Norfolk Constabulary', 'North Wales Police', 'North Yorkshire Police', 'Northamptonshire Police', 'Northumbria Police', 'Nottinghamshire Police', 'South Wales Police', 'South Yorkshire Police', 'Staffordshire Police', 'Suffolk Constabulary', 'Surrey Police', 'Sussex Police', 'Thames Valley Police', 'Warwickshire Police', 'West Mercia Police', 'West Midlands Police', 'West Yorkshire Police', 'Wiltshire Police', 'Total England & Wales']\n",
      "Selenium is working fine with the expected user-argument, and in line with robots.txt!\n"
     ]
    }
   ],
   "source": [
    "# Setup User-Agent\n",
    "user_agent = \"FriendlyUniStudentResearcher/1.0 (+mailto:soc204@exeter.ac.uk)\"\n",
    "chromedriver_path = r\"C:\\Users\\socor\\Downloads\\chromedriver-win64\\chromedriver-win64\\chromedriver.exe\"\n",
    "\n",
    "chrome_options = establish_user_agent(user_agent, chromedriver_path)\n",
    "\n",
    "# Initialize the WebDriver (assuming Chrome)\n",
    "driver = init_chrome_webdriver(chromedriver_path,chrome_options)\n",
    "\n",
    "# Set target URL\n",
    "target = 'https://www.police.uk/pu/your-area/south-wales-police/performance/financial-reserves/?tc=W05000638'\n",
    "\n",
    "try:\n",
    "    # Navigate to a website that echoes back the user-agent\n",
    "    test_user_agent(driver, user_agent)\n",
    "        \n",
    "    # Navigate to target website robots.txt\n",
    "    establish_bot_permissions(driver, target)\n",
    "    \n",
    "    # Collect the names of Force areas for which data is available\n",
    "    Force_Areas = get_force_areas(driver, target)\n",
    "\n",
    "    # This will contain the text from the first column of each row in your table\n",
    "    print(Force_Areas)\n",
    "    time.sleep(10)\n",
    "    \n",
    "    print(\"Selenium is working fine with the expected user-argument, and in line with robots.txt!\")\n",
    "except Exception as e:\n",
    "    print(f\"An error occurred: {e}\")\n",
    "finally:\n",
    "    # Close the browser\n",
    "    driver.quit()"
   ]
  },
  {
   "cell_type": "code",
   "execution_count": 44,
   "metadata": {},
   "outputs": [
    {
     "name": "stdout",
     "output_type": "stream",
     "text": [
      "['/mediacentre', '/?u=media', '/DownloadEvent?', '/GetPdf/?', '/ExportPdf/?', '/Complete?', '/GetPaginatedResults/?', '*.aspx$']\n"
     ]
    }
   ],
   "source": [
    "import re\n",
    "robots_txt_content[0:100]\n",
    "# Regular expression to match 'Disallow' lines\n",
    "disallow_pattern = r\"Disallow: ([^\\n]+)\"\n",
    "\n",
    "# Find all matches of the pattern\n",
    "disallowed_url_patterns = re.findall(disallow_pattern, robots_txt_content)\n",
    "\n",
    "# Print the list of disallowed paths\n",
    "print(disallowed_url_patterns)"
   ]
  },
  {
   "cell_type": "code",
   "execution_count": 99,
   "metadata": {},
   "outputs": [
    {
     "name": "stdout",
     "output_type": "stream",
     "text": [
      "/example?\n",
      "/example?\n",
      ".aspx\n"
     ]
    },
    {
     "data": {
      "text/plain": [
       "False"
      ]
     },
     "execution_count": 99,
     "metadata": {},
     "output_type": "execute_result"
    }
   ],
   "source": [
    "is_target_disallowed('http://police.uk/example',disallowed_paths)\n",
    "#urlparse('https://police.uk/example/?u=media').query"
   ]
  },
  {
   "cell_type": "code",
   "execution_count": 117,
   "metadata": {},
   "outputs": [
    {
     "data": {
      "text/plain": [
       "43"
      ]
     },
     "execution_count": 117,
     "metadata": {},
     "output_type": "execute_result"
    }
   ],
   "source": [
    "len(Force_Areas)"
   ]
  },
  {
   "cell_type": "code",
   "execution_count": 123,
   "metadata": {},
   "outputs": [
    {
     "name": "stdout",
     "output_type": "stream",
     "text": [
      "[]\n",
      "Selenium is working fine with the expected user-argument, and in line with robots.txt!\n"
     ]
    }
   ],
   "source": [
    "from selenium import webdriver\n",
    "from selenium.webdriver.chrome.service import Service\n",
    "from selenium.webdriver.common.keys import Keys\n",
    "import time\n",
    "from selenium.webdriver.chrome.options import Options\n",
    "from urllib.robotparser import RobotFileParser\n",
    "from urllib.parse import urlparse\n",
    "import json\n",
    "from selenium.webdriver.common.by import By \n",
    "import re\n",
    "\n",
    "user_agent = \"FriendlyUniStudentResearcher/1.0 (+mailto:soc204@exeter.ac.uk)\"\n",
    "\n",
    "# Specify the path to chromedriver if it's not in your PATH\n",
    "chromedriver_path = r\"C:\\Users\\socor\\Downloads\\chromedriver-win64\\chromedriver-win64\\chromedriver.exe\"\n",
    "\n",
    "chrome_options = Options()\n",
    "chrome_options.add_argument(f\"user-agent={user_agent}\")\n",
    "\n",
    "# Initialize the WebDriver (assuming Chrome)\n",
    "service = Service(executable_path=chromedriver_path)\n",
    "driver = webdriver.Chrome(service=service, options=chrome_options)\n",
    "target = 'https://www.police.uk/pu/your-area/south-wales-police/performance/financial-reserves/?tc=W05000638'\n",
    "\n",
    "try:\n",
    "    # Navigate to a website that echoes back the user-agent\n",
    "    driver.get(\"https://httpbin.org/user-agent\")\n",
    "    time.sleep(5)\n",
    "    # Extract and check the user-agent from the page's response\n",
    "    response_data = json.loads(driver.find_element(By.TAG_NAME, \"body\").text)\n",
    "    echoed_user_agent = response_data[\"user-agent\"]\n",
    "    \n",
    "    if echoed_user_agent != user_agent:\n",
    "        print(\"User-Agent does not match the expected value. Quitting...\")\n",
    "        raise Exception(\"User-Agent does not match the expected value.\")\n",
    "        \n",
    "    # Navigate to a website\n",
    "    parsed_url = urlparse(target)\n",
    "    base_url = f\"{parsed_url.scheme}://{parsed_url.netloc}\"\n",
    "    robots_url = f\"{base_url}/robots.txt\"\n",
    "    driver.get(robots_url)\n",
    "    # Wait for 5 seconds to see the page\n",
    "    time.sleep(1)\n",
    "    # Extract text content from the <body> tag\n",
    "    robots_txt_content = driver.find_element(by=By.TAG_NAME, value=\"body\").text\n",
    "\n",
    "    # Regular expression to match 'Disallow' lines\n",
    "    disallow_pattern = r\"Disallow: ([^\\n]+)\"\n",
    "\n",
    "    # Find all matches of the pattern\n",
    "    disallowed_paths = re.findall(disallow_pattern, robots_txt_content)\n",
    "    if is_target_disallowed(target, disallowed_paths):\n",
    "        print('This URL is not allowed to be crawled in line with robots.txt')\n",
    "        raise Exception(\"Target path is disallowed.\")\n",
    "    time.sleep(2)\n",
    "    driver.get(target)\n",
    "    time.sleep(5)\n",
    "    # Assuming you want to target only the last table's cells\n",
    "    last_table_cells = driver.find_elements(By.CSS_SELECTOR, 'table:last-of-type td.c-table_cell')\n",
    "\n",
    "    # Extract text from each cell\n",
    "    Force_Areas = [cell.text for cell in last_table_cells if cell.text.strip()]\n",
    "\n",
    "    # Print extracted data\n",
    "    print(Force_Areas)\n",
    "    time.sleep(10)\n",
    "    \n",
    "    print(\"Selenium is working fine with the expected user-argument, and in line with robots.txt!\")\n",
    "except Exception as e:\n",
    "    print(f\"An error occurred: {e}\")\n",
    "finally:\n",
    "    # Close the browser\n",
    "    driver.quit()"
   ]
  },
  {
   "cell_type": "markdown",
   "metadata": {},
   "source": [
    "https://github.com/SOCStudentUoE/BEE2041-Empirical-Assignment"
   ]
  }
 ],
 "metadata": {
  "kernelspec": {
   "display_name": "Python 3",
   "language": "python",
   "name": "python3"
  },
  "language_info": {
   "codemirror_mode": {
    "name": "ipython",
    "version": 3
   },
   "file_extension": ".py",
   "mimetype": "text/x-python",
   "name": "python",
   "nbconvert_exporter": "python",
   "pygments_lexer": "ipython3",
   "version": "3.8.3"
  }
 },
 "nbformat": 4,
 "nbformat_minor": 4
}
